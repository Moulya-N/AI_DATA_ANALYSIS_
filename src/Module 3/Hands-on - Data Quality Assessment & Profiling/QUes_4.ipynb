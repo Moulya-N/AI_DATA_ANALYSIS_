{
  "nbformat": 4,
  "nbformat_minor": 0,
  "metadata": {
    "colab": {
      "provenance": []
    },
    "kernelspec": {
      "name": "python3",
      "display_name": "Python 3"
    },
    "language_info": {
      "name": "python"
    }
  },
  "cells": [
    {
      "cell_type": "code",
      "source": [
        "# Ques 4 - Data Quality Assessment & Profiling\n",
        "\n",
        "# Import necessary libraries\n",
        "import pandas as pd\n",
        "import numpy as np\n",
        "from scipy import stats\n",
        "\n",
        "# Optional: Uncomment if using profiling\n",
        "# !pip install ydata-profiling\n",
        "from ydata_profiling import ProfileReport\n",
        "\n",
        "# Load the dataset\n",
        "# Replace with your actual dataset file path\n",
        "df = pd.read_csv(\"your_dataset.csv\")\n",
        "\n",
        "# 1. Initial Exploration\n",
        "print(\"Dataset Shape:\", df.shape)\n",
        "display(df.head())\n",
        "print(\"\\nData Info:\")\n",
        "df.info()\n",
        "print(\"\\nSummary Statistics:\")\n",
        "display(df.describe(include='all'))\n",
        "\n",
        "# 2. Missing Values Check\n",
        "print(\"\\nMissing Values (Total):\")\n",
        "print(df.isnull().sum())\n",
        "print(\"\\nMissing Values (%):\")\n",
        "print(df.isnull().mean() * 100)\n",
        "\n",
        "# 3. Duplicate Records\n",
        "print(\"\\nDuplicate Records Count:\", df.duplicated().sum())\n",
        "if df.duplicated().sum() > 0:\n",
        "    print(\"\\nDuplicate Rows:\")\n",
        "    display(df[df.duplicated()])\n",
        "\n",
        "# 4. Data Types\n",
        "print(\"\\nData Types of Each Column:\")\n",
        "print(df.dtypes)\n",
        "\n",
        "# 5. Convert Data Types (example: dates)\n",
        "# Uncomment and replace 'date_column' if applicable\n",
        "# df['date_column'] = pd.to_datetime(df['date_column'], errors='coerce')\n",
        "\n",
        "# 6. Inconsistencies in Categorical Columns\n",
        "print(\"\\nUnique Values in Categorical Columns:\")\n",
        "for col in df.select_dtypes(include='object').columns:\n",
        "    print(f\"{col}: {df[col].unique()}\")\n",
        "\n",
        "# 7. Outlier Detection Using Z-Score\n",
        "numeric_df = df.select_dtypes(include=[np.number])\n",
        "z_scores = np.abs(stats.zscore(numeric_df, nan_policy='omit'))\n",
        "outliers = (z_scores > 3)\n",
        "print(\"\\nRows with Potential Outliers:\")\n",
        "display(df[outliers.any(axis=1)])\n",
        "\n",
        "# 8. Data Profiling Report\n",
        "print(\"\\nGenerating Data Profiling Report...\")\n",
        "profile = ProfileReport(df, title=\"Data Profiling Report\", explorative=True)\n",
        "profile.to_file(\"data_profiling_report.html\")\n",
        "print(\"Report saved as 'data_profiling_report.html'.\")\n",
        "\n",
        "# End of Notebook"
      ],
      "metadata": {
        "id": "ccsUQo_JUhIH"
      },
      "execution_count": null,
      "outputs": []
    }
  ]
}