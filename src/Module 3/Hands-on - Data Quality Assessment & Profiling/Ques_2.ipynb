{
  "nbformat": 4,
  "nbformat_minor": 0,
  "metadata": {
    "colab": {
      "provenance": []
    },
    "kernelspec": {
      "name": "python3",
      "display_name": "Python 3"
    },
    "language_info": {
      "name": "python"
    }
  },
  "cells": [
    {
      "cell_type": "code",
      "source": [
        "# Step 1: Import Required Libraries\n",
        "import pandas as pd\n",
        "import numpy as np\n",
        "from ydata_profiling import ProfileReport  # For data profiling\n",
        "\n",
        "# Step 2: Load the Dataset\n",
        "# Replace 'your_dataset.csv' with the actual file name or path\n",
        "df = pd.read_csv('your_dataset.csv')  # Update with your filename\n",
        "\n",
        "# Step 3: Initial Data Overview\n",
        "print(\"Shape of the dataset:\", df.shape)\n",
        "print(\"\\nFirst 5 rows of data:\\n\", df.head())\n",
        "print(\"\\nDataset Info:\")\n",
        "df.info()\n",
        "print(\"\\nDescriptive Statistics:\\n\", df.describe(include='all'))\n",
        "\n",
        "# Step 4: Missing Value Analysis\n",
        "print(\"\\nMissing Values (Count):\\n\", df.isnull().sum())\n",
        "print(\"\\nMissing Values (Percentage):\\n\", df.isnull().mean() * 100)\n",
        "\n",
        "# Step 5: Duplicate Records\n",
        "duplicate_rows = df[df.duplicated()]\n",
        "print(\"\\nNumber of duplicate rows:\", duplicate_rows.shape[0])\n",
        "if not duplicate_rows.empty:\n",
        "    print(\"\\nDuplicate rows:\\n\", duplicate_rows)\n",
        "    # Optional: Drop duplicates\n",
        "    df = df.drop_duplicates()\n",
        "\n",
        "# Step 6: Inconsistency Checks (example on a categorical column)\n",
        "for col in df.select_dtypes(include='object').columns:\n",
        "    print(f\"\\nUnique values in column '{col}':\\n\", df[col].unique())\n",
        "\n",
        "# Optional: Standardize text (lowercase)\n",
        "for col in df.select_dtypes(include='object').columns:\n",
        "    df[col] = df[col].str.lower().str.strip()\n",
        "\n",
        "# Step 7: Outlier Detection (using Z-score)\n",
        "from scipy import stats\n",
        "\n",
        "numeric_df = df.select_dtypes(include=[np.number])\n",
        "z_scores = np.abs(stats.zscore(numeric_df))\n",
        "outliers = (z_scores > 3).any(axis=1)\n",
        "print(\"\\nOutliers detected (Z-score > 3):\", outliers.sum())\n",
        "\n",
        "# Step 8: Inconsistent Data Example\n",
        "# Example: Check if 'start_date' > 'end_date' (if applicable)\n",
        "# df['start_date'] = pd.to_datetime(df['start_date'])\n",
        "# df['end_date'] = pd.to_datetime(df['end_date'])\n",
        "# inconsistent_dates = df[df['start_date'] > df['end_date']]\n",
        "# print(\"\\nInconsistent Date Rows:\\n\", inconsistent_dates)\n",
        "\n",
        "# Step 9: Generate Data Quality Report\n",
        "profile = ProfileReport(df, title=\"Data Quality Report\", explorative=True)\n",
        "profile.to_file(\"data_quality_report.html\")\n",
        "print(\"\\nData quality report generated and saved as 'data_quality_report.html'\")"
      ],
      "metadata": {
        "id": "vW-g01n_RZsh"
      },
      "execution_count": null,
      "outputs": []
    }
  ]
}