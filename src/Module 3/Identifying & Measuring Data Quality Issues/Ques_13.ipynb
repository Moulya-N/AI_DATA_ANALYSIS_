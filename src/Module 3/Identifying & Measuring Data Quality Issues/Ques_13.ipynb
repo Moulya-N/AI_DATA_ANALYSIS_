{
  "nbformat": 4,
  "nbformat_minor": 0,
  "metadata": {
    "colab": {
      "provenance": []
    },
    "kernelspec": {
      "name": "python3",
      "display_name": "Python 3"
    },
    "language_info": {
      "name": "python"
    }
  },
  "cells": [
    {
      "cell_type": "code",
      "source": [
        "import pandas as pd\n",
        "import numpy as np\n",
        "\n",
        "# Load your dataset\n",
        "df = pd.read_csv('your_dataset.csv')  # Replace with your actual data source\n",
        "\n",
        "# Define expected columns and their valid ranges or formats\n",
        "expected_columns = ['Name', 'Age', 'Email', 'JoinDate']\n",
        "valid_age_range = (0, 120)\n",
        "email_pattern = r'^[\\w\\.-]+@[\\w\\.-]+\\.\\w+$'\n",
        "\n",
        "# Completeness: Percentage of non-null entries per column\n",
        "completeness = df[expected_columns].notnull().mean() * 100\n",
        "\n",
        "# Uniqueness: Percentage of unique entries per column\n",
        "uniqueness = df[expected_columns].nunique() / len(df) * 100\n",
        "\n",
        "# Validity: Percentage of entries conforming to expected formats or ranges\n",
        "valid_age = df['Age'].between(*valid_age_range).mean() * 100\n",
        "valid_email = df['Email'].str.match(email_pattern).mean() * 100\n",
        "\n",
        "# Consistency: Example check - 'JoinDate' should not be in the future\n",
        "current_date = pd.Timestamp.now()\n",
        "consistent_joindate = (pd.to_datetime(df['JoinDate'], errors='coerce') <= current_date).mean() * 100\n",
        "\n",
        "# Compile the metrics into a DataFrame\n",
        "quality_metrics = pd.DataFrame({\n",
        "    'Completeness (%)': completeness,\n",
        "    'Uniqueness (%)': uniqueness,\n",
        "    'Validity (%)': [np.nan, valid_age, valid_email, np.nan],\n",
        "    'Consistency (%)': [np.nan, np.nan, np.nan, consistent_joindate]\n",
        "}, index=expected_columns)\n",
        "\n",
        "print(quality_metrics)"
      ],
      "metadata": {
        "id": "JdikB2LTZFRe"
      },
      "execution_count": null,
      "outputs": []
    }
  ]
}