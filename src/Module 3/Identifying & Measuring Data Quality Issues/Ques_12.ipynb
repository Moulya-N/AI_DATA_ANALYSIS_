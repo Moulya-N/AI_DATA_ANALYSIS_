{
  "nbformat": 4,
  "nbformat_minor": 0,
  "metadata": {
    "colab": {
      "provenance": []
    },
    "kernelspec": {
      "name": "python3",
      "display_name": "Python 3"
    },
    "language_info": {
      "name": "python"
    }
  },
  "cells": [
    {
      "cell_type": "code",
      "source": [
        "import pandas as pd; import seaborn as sns; import matplotlib.pyplot as plt; df = pd.read_csv('path_to_your_dataset.csv'); print(\"Shape:\", df.shape); print(\"Data Types:\\n\", df.dtypes); print(\"Missing Values:\\n\", df.isnull().sum()); print(\"Duplicate Rows:\", df.duplicated().sum()); print(\"Descriptive Stats:\\n\", df.describe(include='all')); print(\"Unique Values:\\n\", df.nunique()); print(\"Correlation:\\n\", df.corr(numeric_only=True)); sns.heatmap(df.isnull(), cbar=False, cmap='viridis'); plt.title(\"Missing Values Heatmap\"); plt.show(); sns.pairplot(df.select_dtypes(include='number').dropna()); plt.show()"
      ],
      "metadata": {
        "id": "EdmrWv7DXTvk"
      },
      "execution_count": null,
      "outputs": []
    }
  ]
}