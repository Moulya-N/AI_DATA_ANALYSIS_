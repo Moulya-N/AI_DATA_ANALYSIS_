{
  "nbformat": 4,
  "nbformat_minor": 0,
  "metadata": {
    "colab": {
      "provenance": []
    },
    "kernelspec": {
      "name": "python3",
      "display_name": "Python 3"
    },
    "language_info": {
      "name": "python"
    }
  },
  "cells": [
    {
      "cell_type": "code",
      "source": [
        "import pandas as pd\n",
        "import seaborn as sns\n",
        "import matplotlib.pyplot as plt\n",
        "from scipy import stats\n",
        "\n",
        "# Load data\n",
        "data_period_1 = pd.read_csv('period_1_data.csv')\n",
        "data_period_2 = pd.read_csv('period_2_data.csv')\n",
        "\n",
        "# Descriptive statistics\n",
        "print(data_period_1['numeric_column'].describe())\n",
        "print(data_period_2['numeric_column'].describe())\n",
        "\n",
        "# Distribution comparison\n",
        "sns.histplot(data_period_1['numeric_column'], kde=True, color='blue', label='Period 1')\n",
        "sns.histplot(data_period_2['numeric_column'], kde=True, color='red', label='Period 2')\n",
        "plt.legend()\n",
        "plt.show()\n",
        "\n",
        "# Statistical test (t-test)\n",
        "t_stat, p_val = stats.ttest_ind(data_period_1['numeric_column'], data_period_2['numeric_column'])\n",
        "print(f\"T-statistic: {t_stat}, p-value: {p_val}\")\n",
        "\n",
        "# KS Test for distribution comparison\n",
        "ks_stat, ks_p_val = stats.ks_2samp(data_period_1['numeric_column'], data_period_2['numeric_column'])\n",
        "print(f\"KS-statistic: {ks_stat}, p-value: {ks_p_val}\")"
      ],
      "metadata": {
        "id": "Whqfg1B2UK9O"
      },
      "execution_count": null,
      "outputs": []
    }
  ]
}