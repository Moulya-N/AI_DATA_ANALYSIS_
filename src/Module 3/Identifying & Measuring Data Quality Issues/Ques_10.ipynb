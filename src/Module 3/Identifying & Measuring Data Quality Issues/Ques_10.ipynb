{
  "nbformat": 4,
  "nbformat_minor": 0,
  "metadata": {
    "colab": {
      "provenance": []
    },
    "kernelspec": {
      "name": "python3",
      "display_name": "Python 3"
    },
    "language_info": {
      "name": "python"
    }
  },
  "cells": [
    {
      "cell_type": "code",
      "source": [
        "import pandas as pd, numpy as np, seaborn as sns, matplotlib.pyplot as plt\n",
        "from scipy import stats\n",
        "from sklearn.ensemble import IsolationForest\n",
        "\n",
        "# Load dataset\n",
        "df = pd.read_csv('your_dataset.csv')  # Replace with actual path\n",
        "\n",
        "# Basic profiling\n",
        "print(df.describe())\n",
        "print(df.isnull().sum())\n",
        "\n",
        "# Outlier detection using IQR\n",
        "def iqr_outliers(data, column):\n",
        "    Q1, Q3 = data[column].quantile([0.25, 0.75])\n",
        "    IQR = Q3 - Q1\n",
        "    return data[(data[column] < Q1 - 1.5 * IQR) | (data[column] > Q3 + 1.5 * IQR)]\n",
        "\n",
        "# Z-score method\n",
        "z_scores = np.abs(stats.zscore(df.select_dtypes(include=np.number)))\n",
        "z_outliers = df[(z_scores > 3).any(axis=1)]\n",
        "\n",
        "# Isolation Forest\n",
        "iso = IsolationForest(contamination=0.01, random_state=42)\n",
        "df['anomaly'] = iso.fit_predict(df.select_dtypes(include=np.number))\n",
        "iso_outliers = df[df['anomaly'] == -1]\n",
        "\n",
        "# Visualization\n",
        "for col in df.select_dtypes(include=np.number).columns:\n",
        "    sns.boxplot(x=df[col])\n",
        "    plt.title(f'Boxplot of {col}')\n",
        "    plt.show()"
      ],
      "metadata": {
        "id": "TiOvVVYpVQJY"
      },
      "execution_count": null,
      "outputs": []
    }
  ]
}