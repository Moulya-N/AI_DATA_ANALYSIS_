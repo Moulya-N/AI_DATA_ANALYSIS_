{
  "nbformat": 4,
  "nbformat_minor": 0,
  "metadata": {
    "colab": {
      "provenance": []
    },
    "kernelspec": {
      "name": "python3",
      "display_name": "Python 3"
    },
    "language_info": {
      "name": "python"
    }
  },
  "cells": [
    {
      "cell_type": "code",
      "source": [
        "import pandas as pd\n",
        "\n",
        "# Load the dataset\n",
        "df = pd.read_csv('your_dataset.csv')  # Replace with actual file path\n",
        "\n",
        "# Display basic info\n",
        "print(df.info())\n",
        "print(df.describe(include='all'))\n",
        "\n",
        "# Check for missing values\n",
        "print(\"Missing values:\\n\", df.isnull().sum())\n",
        "\n",
        "# Check for duplicate rows\n",
        "print(\"Duplicate rows:\", df.duplicated().sum())\n",
        "\n",
        "# Check for inconsistent data types\n",
        "print(\"Data types:\\n\", df.dtypes)\n",
        "\n",
        "# Check for outliers using IQR (on numerical columns)\n",
        "Q1 = df.quantile(0.25)\n",
        "Q3 = df.quantile(0.75)\n",
        "IQR = Q3 - Q1\n",
        "outliers = ((df < (Q1 - 1.5 * IQR)) | (df > (Q3 + 1.5 * IQR)))\n",
        "print(\"Outliers:\\n\", outliers.sum())"
      ],
      "metadata": {
        "id": "2xXRxNAMWoB_"
      },
      "execution_count": null,
      "outputs": []
    }
  ]
}