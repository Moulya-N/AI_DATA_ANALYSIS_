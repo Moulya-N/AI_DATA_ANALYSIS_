{
  "nbformat": 4,
  "nbformat_minor": 0,
  "metadata": {
    "colab": {
      "provenance": []
    },
    "kernelspec": {
      "name": "python3",
      "display_name": "Python 3"
    },
    "language_info": {
      "name": "python"
    }
  },
  "cells": [
    {
      "cell_type": "code",
      "source": [
        "import pandas as pd\n",
        "import matplotlib.pyplot as plt\n",
        "\n",
        "# Load dataset\n",
        "df = pd.read_csv('your_dataset.csv')  # Replace with actual path or DataFrame\n",
        "\n",
        "# Select numeric column\n",
        "column = 'your_numeric_column'  # Replace with actual column name\n",
        "\n",
        "# Plot histogram\n",
        "plt.hist(df[column], bins=10, edgecolor='black')\n",
        "plt.title(f'Histogram of {column}')\n",
        "plt.xlabel('Value')\n",
        "plt.ylabel('Frequency')\n",
        "plt.show()\n",
        "\n",
        "# Descriptive statistics\n",
        "print(df[column].describe())"
      ],
      "metadata": {
        "id": "veLxQCKJTJLO"
      },
      "execution_count": null,
      "outputs": []
    }
  ]
}