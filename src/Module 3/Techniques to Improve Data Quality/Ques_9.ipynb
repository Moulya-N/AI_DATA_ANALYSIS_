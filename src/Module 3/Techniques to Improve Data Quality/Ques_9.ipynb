{
  "nbformat": 4,
  "nbformat_minor": 0,
  "metadata": {
    "colab": {
      "provenance": []
    },
    "kernelspec": {
      "name": "python3",
      "display_name": "Python 3"
    },
    "language_info": {
      "name": "python"
    }
  },
  "cells": [
    {
      "cell_type": "code",
      "source": [
        "import pandas as pd\n",
        "from sklearn.model_selection import train_test_split\n",
        "from sklearn.ensemble import RandomForestRegressor\n",
        "from sklearn.metrics import mean_squared_error\n",
        "from sklearn.impute import SimpleImputer\n",
        "\n",
        "# Load your dataset\n",
        "df = pd.read_csv('data.csv')\n",
        "\n",
        "# Example of handling missing data\n",
        "# Let's assume 'target_column' has missing values\n",
        "# Split into rows with and without missing values\n",
        "train_data = df[df['target_column'].notnull()]\n",
        "test_data = df[df['target_column'].isnull()]\n",
        "\n",
        "# Separate target variable (the column with missing values) and predictors\n",
        "X_train = train_data.drop('target_column', axis=1)\n",
        "y_train = train_data['target_column']\n",
        "\n",
        "# Train a predictive model\n",
        "model = RandomForestRegressor(n_estimators=100)\n",
        "model.fit(X_train, y_train)\n",
        "\n",
        "# Predict missing values\n",
        "X_test = test_data.drop('target_column', axis=1)\n",
        "predicted_values = model.predict(X_test)\n",
        "\n",
        "# Impute missing values in the original dataframe\n",
        "df.loc[df['target_column'].isnull(), 'target_column'] = predicted_values\n",
        "\n",
        "# Check if all missing values are imputed\n",
        "print(df['target_column'].isnull().sum())"
      ],
      "metadata": {
        "id": "UDDetE2BbibG"
      },
      "execution_count": null,
      "outputs": []
    }
  ]
}