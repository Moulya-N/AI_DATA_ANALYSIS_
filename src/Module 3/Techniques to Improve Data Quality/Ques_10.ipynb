{
  "nbformat": 4,
  "nbformat_minor": 0,
  "metadata": {
    "colab": {
      "provenance": []
    },
    "kernelspec": {
      "name": "python3",
      "display_name": "Python 3"
    },
    "language_info": {
      "name": "python"
    }
  },
  "cells": [
    {
      "cell_type": "code",
      "execution_count": null,
      "metadata": {
        "id": "TnLJ98ClKB8T"
      },
      "outputs": [],
      "source": [
        "import pandas as pd\n",
        "from sklearn.feature_extraction.text import TfidfVectorizer\n",
        "from sklearn.metrics.pairwise import cosine_similarity\n",
        "from sklearn.cluster import DBSCAN\n",
        "from sklearn.preprocessing import StandardScaler\n",
        "\n",
        "# Load and preprocess data\n",
        "df = pd.read_csv(\"your_data.csv\").fillna('')\n",
        "text_features = df['name'] + ' ' + df['address'] + ' ' + df['email']\n",
        "vectorizer = TfidfVectorizer().fit_transform(text_features)\n",
        "similarity_matrix = cosine_similarity(vectorizer)\n",
        "\n",
        "# Clustering to detect duplicates\n",
        "scaler = StandardScaler()\n",
        "X_scaled = scaler.fit_transform(similarity_matrix)\n",
        "clustering = DBSCAN(eps=0.5, min_samples=2, metric='euclidean').fit(X_scaled)\n",
        "\n",
        "# Assign duplicate group labels\n",
        "df['duplicate_group'] = clustering.labels_\n",
        "print(df[df['duplicate_group'] != -1]"
      ]
    }
  ]
}