{
  "nbformat": 4,
  "nbformat_minor": 0,
  "metadata": {
    "colab": {
      "provenance": []
    },
    "kernelspec": {
      "name": "python3",
      "display_name": "Python 3"
    },
    "language_info": {
      "name": "python"
    }
  },
  "cells": [
    {
      "cell_type": "code",
      "source": [
        "import great_expectations as ge\n",
        "df = ge.read_csv(\"your_dataset.csv\")\n",
        "df.expect_column_values_to_not_be_null(\"column_name\")\n",
        "df.expect_column_values_to_be_in_set(\"status\", [\"Active\", \"Inactive\"])\n",
        "df.expect_column_mean_to_be_between(\"age\", min_value=20, max_value=50)\n",
        "results = df.validate()\n",
        "print(results)"
      ],
      "metadata": {
        "id": "kdfUue97N-BT"
      },
      "execution_count": null,
      "outputs": []
    }
  ]
}