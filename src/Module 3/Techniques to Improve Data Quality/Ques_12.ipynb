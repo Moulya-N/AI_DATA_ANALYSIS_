{
  "nbformat": 4,
  "nbformat_minor": 0,
  "metadata": {
    "colab": {
      "provenance": []
    },
    "kernelspec": {
      "name": "python3",
      "display_name": "Python 3"
    },
    "language_info": {
      "name": "python"
    }
  },
  "cells": [
    {
      "cell_type": "code",
      "source": [
        "import pandas as pd\n",
        "\n",
        "# Load the dataset\n",
        "df = pd.read_csv('your_dataset.csv')\n",
        "\n",
        "# Display initial shape\n",
        "print(\"Initial shape:\", df.shape)\n",
        "\n",
        "# Remove exact duplicate rows\n",
        "df = df.drop_duplicates()\n",
        "\n",
        "# Optionally, remove redundancy in specific columns (example: trimming whitespace and lowering case for 'Name' column)\n",
        "df['Name'] = df['Name'].str.strip().str.lower()\n",
        "\n",
        "# Check for duplicates again after standardization\n",
        "df = df.drop_duplicates()\n",
        "\n",
        "# Display final shape\n",
        "print(\"Final shape after removing duplicates and redundancy:\", df.shape)"
      ],
      "metadata": {
        "id": "709UgYmML5SH"
      },
      "execution_count": null,
      "outputs": []
    }
  ]
}