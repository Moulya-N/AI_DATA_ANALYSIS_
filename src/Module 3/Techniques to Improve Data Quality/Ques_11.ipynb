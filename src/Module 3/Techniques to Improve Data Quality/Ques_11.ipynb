{
  "nbformat": 4,
  "nbformat_minor": 0,
  "metadata": {
    "colab": {
      "provenance": []
    },
    "kernelspec": {
      "name": "python3",
      "display_name": "Python 3"
    },
    "language_info": {
      "name": "python"
    }
  },
  "cells": [
    {
      "cell_type": "code",
      "source": [
        "import pandas as pd\n",
        "from sklearn.impute import SimpleImputer, KNNImputer\n",
        "\n",
        "# Load your dataset\n",
        "df = pd.read_csv('your_dataset.csv')\n",
        "\n",
        "# Identify missing values\n",
        "missing_values = df.isnull().sum()\n",
        "\n",
        "# Mean Imputation for numerical data\n",
        "mean_imputer = SimpleImputer(strategy='mean')\n",
        "df['numerical_column'] = mean_imputer.fit_transform(df[['numerical_column']])\n",
        "\n",
        "# Mode Imputation for categorical data\n",
        "mode_imputer = SimpleImputer(strategy='most_frequent')\n",
        "df['categorical_column'] = mode_imputer.fit_transform(df[['categorical_column']])\n",
        "\n",
        "# KNN Imputation\n",
        "knn_imputer = KNNImputer(n_neighbors=5)\n",
        "df[['feature1', 'feature2']] = knn_imputer.fit_transform(df[['feature1', 'feature2']])"
      ],
      "metadata": {
        "id": "KHym4l39K_Bn"
      },
      "execution_count": null,
      "outputs": []
    }
  ]
}