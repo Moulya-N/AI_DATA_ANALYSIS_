{
  "nbformat": 4,
  "nbformat_minor": 0,
  "metadata": {
    "colab": {
      "provenance": []
    },
    "kernelspec": {
      "name": "python3",
      "display_name": "Python 3"
    },
    "language_info": {
      "name": "python"
    }
  },
  "cells": [
    {
      "cell_type": "code",
      "source": [
        "import pandas as pd\n",
        "import great_expectations as ge\n",
        "from great_expectations.dataset import PandasDataset\n",
        "\n",
        "df = pd.read_csv(\"data.csv\")\n",
        "class CustomDataset(PandasDataset): pass\n",
        "my_data = CustomDataset(df)\n",
        "my_data.expect_column_values_to_not_be_null(\"numeric_column\")\n",
        "results = my_data.validate()\n",
        "print(results)"
      ],
      "metadata": {
        "id": "rnkyNi7raPP3"
      },
      "execution_count": null,
      "outputs": []
    }
  ]
}