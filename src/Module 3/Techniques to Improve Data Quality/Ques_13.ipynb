{
  "nbformat": 4,
  "nbformat_minor": 0,
  "metadata": {
    "colab": {
      "provenance": []
    },
    "kernelspec": {
      "name": "python3",
      "display_name": "Python 3"
    },
    "language_info": {
      "name": "python"
    }
  },
  "cells": [
    {
      "cell_type": "code",
      "source": [
        "import pandas as pd\n",
        "import re\n",
        "\n",
        "# Load data\n",
        "df = pd.read_csv(\"your_dataset.csv\")\n",
        "\n",
        "# Standardization\n",
        "df.columns = df.columns.str.strip().str.lower().str.replace(' ', '_')  # Standardize column names\n",
        "df['date'] = pd.to_datetime(df['date'], errors='coerce')  # Standardize date format\n",
        "df['amount'] = pd.to_numeric(df['amount'], errors='coerce')  # Convert amount to numeric\n",
        "df['email'] = df['email'].str.lower().str.strip()  # Standardize emails\n",
        "\n",
        "# Validation\n",
        "df = df.dropna(subset=['date', 'amount', 'email'])  # Remove rows with missing critical values\n",
        "df = df[df['amount'] >= 0]  # Validate amount is non-negative\n",
        "df = df[df['email'].apply(lambda x: bool(re.match(r\"[^@]+@[^@]+\\.[^@]+\", x)))]  # Validate email format\n",
        "\n",
        "# Output cleaned data\n",
        "df.to_csv(\"cleaned_dataset.csv\", index=False)"
      ],
      "metadata": {
        "id": "1Eglky_sM0ut"
      },
      "execution_count": null,
      "outputs": []
    }
  ]
}