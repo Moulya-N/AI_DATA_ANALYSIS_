{
  "nbformat": 4,
  "nbformat_minor": 0,
  "metadata": {
    "colab": {
      "provenance": []
    },
    "kernelspec": {
      "name": "python3",
      "display_name": "Python 3"
    },
    "language_info": {
      "name": "python"
    }
  },
  "cells": [
    {
      "cell_type": "code",
      "source": [
        "# Fill missing numerical values with mean\n",
        "df['column_name'] = df['column_name'].fillna(df['column_name'].mean())\n",
        "\n",
        "# Fill with median\n",
        "df['column_name'] = df['column_name'].fillna(df['column_name'].median())\n",
        "\n",
        "# Fill with mode (for categorical)\n",
        "df['category_column'] = df['category_column'].fillna(df['category_column'].mode()[0])\n",
        "\n",
        "# Fill with a constant value\n",
        "df['column_name'] = df['column_name'].fillna(0)\n",
        "\n",
        "# Forward fill\n",
        "df_ffill = df.fillna(method='ffill')\n",
        "\n",
        "# Backward fill\n",
        "df_bfill = df.fillna(method='bfill')\n",
        "\n",
        "# Group-wise imputation (e.g., fill by group mean)\n",
        "df['column_name'] = df.groupby('group_column')['column_name'].transform(lambda x: x.fillna(x.mean()))"
      ],
      "metadata": {
        "id": "bWv9rim0Y4LO"
      },
      "execution_count": null,
      "outputs": []
    }
  ]
}