{
  "nbformat": 4,
  "nbformat_minor": 0,
  "metadata": {
    "colab": {
      "provenance": []
    },
    "kernelspec": {
      "name": "python3",
      "display_name": "Python 3"
    },
    "language_info": {
      "name": "python"
    }
  },
  "cells": [
    {
      "cell_type": "code",
      "source": [
        "# Step 1: Import necessary libraries\n",
        "import pandas as pd\n",
        "import numpy as np\n",
        "\n",
        "# Step 2: Create a sample dataset with missing values\n",
        "data = pd.DataFrame({\n",
        "    'Name': ['John', 'Anna', 'Peter', np.nan, 'Linda'],\n",
        "    'Age': [28, 22, np.nan, 35, 32],\n",
        "    'City': ['New York', np.nan, 'Berlin', 'London', 'Paris']\n",
        "})\n",
        "\n",
        "# Step 3: Display the dataset\n",
        "print(\"Original Data:\")\n",
        "print(data)\n",
        "\n",
        "# Step 4: Check for missing values\n",
        "print(\"\\nMissing Value Count:\")\n",
        "print(data.isnull().sum())\n",
        "\n",
        "# Step 5: Handle missing data using fillna\n",
        "\n",
        "# Fill missing 'Name' and 'City' with 'Unknown'\n",
        "# Fill missing 'Age' with mean of the column\n",
        "data_filled = data.fillna({\n",
        "    'Name': 'Unknown',\n",
        "    'Age': data['Age'].mean(),\n",
        "    'City': 'Unknown'\n",
        "})\n",
        "\n",
        "# Step 6: Display the updated dataset\n",
        "print(\"\\nData After Handling Missing Values:\")\n",
        "print(data_filled)\n",
        "\n",
        "# Step 7: Confirm no missing values remain\n",
        "print(\"\\nMissing Value Count After Cleaning:\")\n",
        "print(data_filled.isnull().sum())"
      ],
      "metadata": {
        "id": "bjn3VUInhnby"
      },
      "execution_count": null,
      "outputs": []
    }
  ]
}