{
  "nbformat": 4,
  "nbformat_minor": 0,
  "metadata": {
    "colab": {
      "provenance": []
    },
    "kernelspec": {
      "name": "python3",
      "display_name": "Python 3"
    },
    "language_info": {
      "name": "python"
    }
  },
  "cells": [
    {
      "cell_type": "code",
      "source": [
        "import pandas as pd\n",
        "import numpy as np\n",
        "\n",
        "# Load your dataset\n",
        "df = pd.read_csv('your_data.csv')\n",
        "\n",
        "\n",
        "Identifying Missing Values\n",
        "\n",
        "# Check for missing values\n",
        "print(df.isnull().sum())\n",
        "\n",
        "\n",
        "Handling Missing Values\n",
        "\n",
        "# Drop rows with missing values\n",
        "df.dropna(inplace=True)\n",
        "\n",
        "# Fill missing values with mean\n",
        "df['column_name'].fillna(df['column_name'].mean(), inplace=True)\n",
        "\n",
        "# Fill missing values with median\n",
        "df['column_name'].fillna(df['column_name'].median(), inplace=True)\n",
        "\n",
        "# Interpolate missing values\n",
        "df['column_name'].interpolate(method='linear', inplace=True)\n"
      ],
      "metadata": {
        "id": "Mk4rBy9Yiddq"
      },
      "execution_count": null,
      "outputs": []
    }
  ]
}