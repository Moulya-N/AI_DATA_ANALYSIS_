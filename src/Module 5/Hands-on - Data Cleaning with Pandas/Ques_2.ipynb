{
  "nbformat": 4,
  "nbformat_minor": 0,
  "metadata": {
    "colab": {
      "provenance": []
    },
    "kernelspec": {
      "name": "python3",
      "display_name": "Python 3"
    },
    "language_info": {
      "name": "python"
    }
  },
  "cells": [
    {
      "cell_type": "code",
      "source": [
        "import pandas as pd\n",
        "\n",
        "# Load your dataset\n",
        "df = pd.read_csv('your_file.csv')  # Replace with your actual file path\n",
        "\n",
        "# 1. Preview the data\n",
        "print(\"Initial Data Snapshot:\")\n",
        "print(df.head())\n",
        "print(\"\\nData Types Before Fixing:\")\n",
        "print(df.dtypes)\n",
        "\n",
        "# 2. Remove Duplicate Rows (keep only the first occurrence)\n",
        "df = df.drop_duplicates()\n",
        "\n",
        "# 3. Handle Specific Duplicate Columns (optional)\n",
        "# Example: Remove duplicates based on 'Name' and 'Age'\n",
        "# df = df.drop_duplicates(subset=['Name', 'Age'])\n",
        "\n",
        "# 4. Fix Data Types\n",
        "# Convert 'Date' column to datetime\n",
        "if 'Date' in df.columns:\n",
        "    df['Date'] = pd.to_datetime(df['Date'], errors='coerce')\n",
        "\n",
        "# Convert numerical columns to appropriate types\n",
        "for col in ['Age', 'Salary', 'Amount']:  # Replace with relevant column names\n",
        "    if col in df.columns:\n",
        "        df[col] = pd.to_numeric(df[col], errors='coerce')\n",
        "\n",
        "# Convert categorical/string columns to string type\n",
        "for col in ['Name', 'Category', 'Department']:  # Replace as needed\n",
        "    if col in df.columns:\n",
        "        df[col] = df[col].astype(str)\n",
        "\n",
        "# 5. Final Check\n",
        "print(\"\\nData Types After Fixing:\")\n",
        "print(df.dtypes)\n",
        "\n",
        "print(\"\\nMissing Values (if any):\")\n",
        "print(df.isnull().sum())\n",
        "\n",
        "# 6. Save Cleaned Data (optional)\n",
        "df.to_csv('cleaned_data.csv', index=False)"
      ],
      "metadata": {
        "id": "7RI8VHx3dNnE"
      },
      "execution_count": null,
      "outputs": []
    }
  ]
}