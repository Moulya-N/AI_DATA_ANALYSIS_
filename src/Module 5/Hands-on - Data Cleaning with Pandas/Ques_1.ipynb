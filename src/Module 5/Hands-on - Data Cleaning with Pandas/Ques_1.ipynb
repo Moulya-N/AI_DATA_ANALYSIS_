{
  "nbformat": 4,
  "nbformat_minor": 0,
  "metadata": {
    "colab": {
      "provenance": []
    },
    "kernelspec": {
      "name": "python3",
      "display_name": "Python 3"
    },
    "language_info": {
      "name": "python"
    }
  },
  "cells": [
    {
      "cell_type": "code",
      "source": [
        "# Step 1: Import Required Libraries\n",
        "import pandas as pd\n",
        "import numpy as np\n",
        "\n",
        "# Step 2: Load the Dataset\n",
        "# Replace 'your_file.csv' with your actual file path or name\n",
        "df = pd.read_csv('your_file.csv')\n",
        "\n",
        "# Step 3: Display Initial Dataset\n",
        "print(\"Initial Data:\")\n",
        "print(df.head())\n",
        "\n",
        "# Step 4: Detect Missing Data\n",
        "print(\"\\nMissing Data (Boolean mask):\")\n",
        "print(df.isnull())\n",
        "\n",
        "print(\"\\nMissing values per column:\")\n",
        "print(df.isnull().sum())\n",
        "\n",
        "print(\"\\nTotal missing values in dataset:\")\n",
        "print(df.isnull().sum().sum())\n",
        "\n",
        "# Step 5: Drop Missing Data (optional approaches)\n",
        "# Drop rows with any missing values\n",
        "df_drop_rows = df.dropna()\n",
        "\n",
        "# Drop columns with any missing values\n",
        "df_drop_cols = df.dropna(axis=1)\n",
        "\n",
        "# Drop rows where all elements are missing\n",
        "df_drop_all = df.dropna(how='all')\n",
        "\n",
        "# Drop rows with less than 2 non-null values\n",
        "df_thresh = df.dropna(thresh=2)\n",
        "\n",
        "# Step 6: Fill Missing Data (optional approaches)\n",
        "# Fill missing values with 0\n",
        "df_fill_zero = df.fillna(0)\n",
        "\n",
        "# Forward fill\n",
        "df_ffill = df.fillna(method='ffill')\n",
        "\n",
        "# Backward fill\n",
        "df_bfill = df.fillna(method='bfill')\n",
        "\n",
        "# Fill with mean\n",
        "df_fill_mean = df.fillna(df.mean(numeric_only=True))\n",
        "\n",
        "# Fill with median\n",
        "df_fill_median = df.fillna(df.median(numeric_only=True))\n",
        "\n",
        "# Fill with mode\n",
        "df_fill_mode = df.fillna(df.mode().iloc[0])\n",
        "\n",
        "# Step 7: Final Check\n",
        "print(\"\\nCheck for missing values after fill:\")\n",
        "print(df_fill_mean.isnull().sum())\n",
        "\n",
        "# Step 8: Save Cleaned Dataset (optional)\n",
        "df_fill_mean.to_csv('cleaned_data.csv', index=False)"
      ],
      "metadata": {
        "id": "lLVc99Exa8jf"
      },
      "execution_count": null,
      "outputs": []
    }
  ]
}