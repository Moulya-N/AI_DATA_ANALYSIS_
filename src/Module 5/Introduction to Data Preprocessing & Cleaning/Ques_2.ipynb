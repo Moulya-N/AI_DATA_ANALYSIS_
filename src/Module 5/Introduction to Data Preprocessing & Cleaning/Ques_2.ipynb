{
  "nbformat": 4,
  "nbformat_minor": 0,
  "metadata": {
    "colab": {
      "provenance": []
    },
    "kernelspec": {
      "name": "python3",
      "display_name": "Python 3"
    },
    "language_info": {
      "name": "python"
    }
  },
  "cells": [
    {
      "cell_type": "code",
      "source": [
        "import pandas as pd\n",
        "import numpy as np\n",
        "\n",
        "# Example dataset with some issues\n",
        "data = {\n",
        "    'Name': ['Alice', 'Bob', 'Alice', 'David', None],\n",
        "    'Age': [25, None, 25, 45, 35],\n",
        "    'Gender': ['Female', 'male', 'Female', 'M', 'Male'],\n",
        "    'Salary': [50000, 60000, 50000, 2000000, 70000]\n",
        "}\n",
        "\n",
        "df = pd.DataFrame(data)\n",
        "df"
      ],
      "metadata": {
        "id": "yns90McBfZRG"
      },
      "execution_count": null,
      "outputs": []
    }
  ]
}