{
  "nbformat": 4,
  "nbformat_minor": 0,
  "metadata": {
    "colab": {
      "provenance": []
    },
    "kernelspec": {
      "name": "python3",
      "display_name": "Python 3"
    },
    "language_info": {
      "name": "python"
    }
  },
  "cells": [
    {
      "cell_type": "code",
      "source": [
        "# Ques_1.ipynb\n",
        "\n",
        "# Step 1: Import Libraries\n",
        "import pandas as pd\n",
        "import numpy as np\n",
        "import seaborn as sns\n",
        "import matplotlib.pyplot as plt\n",
        "\n",
        "# Step 2: Load Data\n",
        "df = pd.read_csv('your_dataset.csv')  # Replace with actual file\n",
        "print(\"Initial Data Shape:\", df.shape)\n",
        "df.head()\n",
        "\n",
        "# Step 3: Initial Exploration\n",
        "df.info()\n",
        "df.describe()\n",
        "df.isnull().sum()\n",
        "\n",
        "# Step 4: Handle Missing Values\n",
        "# Option 1: Drop rows with too many missing values\n",
        "df = df.dropna(thresh=df.shape[1] - 2)\n",
        "\n",
        "# Option 2: Fill missing values\n",
        "df.fillna({\n",
        "    'column1': df['column1'].median(),\n",
        "    'column2': df['column2'].mode()[0],\n",
        "}, inplace=True)\n",
        "\n",
        "# Step 5: Remove Duplicates\n",
        "df = df.drop_duplicates()\n",
        "\n",
        "# Step 6: Standardize Categorical Values\n",
        "df['category_col'] = df['category_col'].str.lower().str.strip()\n",
        "\n",
        "# Step 7: Convert Data Types\n",
        "df['date_col'] = pd.to_datetime(df['date_col'], errors='coerce')\n",
        "\n",
        "# Step 8: Handle Outliers\n",
        "sns.boxplot(df['numeric_col'])\n",
        "plt.show()\n",
        "\n",
        "# Cap or remove outliers\n",
        "q1 = df['numeric_col'].quantile(0.25)\n",
        "q3 = df['numeric_col'].quantile(0.75)\n",
        "iqr = q3 - q1\n",
        "lower = q1 - 1.5 * iqr\n",
        "upper = q3 + 1.5 * iqr\n",
        "df = df[(df['numeric_col'] >= lower) & (df['numeric_col'] <= upper)]\n",
        "\n",
        "# Step 9: Re-check cleaned data\n",
        "print(\"Cleaned Data Shape:\", df.shape)\n",
        "df.isnull().sum()\n",
        "\n",
        "# Step 10: Save Cleaned Data\n",
        "df.to_csv('cleaned_dataset.csv', index=False)"
      ],
      "metadata": {
        "id": "O-CJUhDxeVcu"
      },
      "execution_count": null,
      "outputs": []
    }
  ]
}