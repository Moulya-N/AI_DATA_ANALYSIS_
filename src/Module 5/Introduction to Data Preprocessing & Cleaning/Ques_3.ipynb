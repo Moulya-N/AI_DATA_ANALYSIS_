{
  "nbformat": 4,
  "nbformat_minor": 0,
  "metadata": {
    "colab": {
      "provenance": []
    },
    "kernelspec": {
      "name": "python3",
      "display_name": "Python 3"
    },
    "language_info": {
      "name": "python"
    }
  },
  "cells": [
    {
      "cell_type": "code",
      "source": [
        "# Ques 3: Steps in Data Preprocessing\n",
        "\n",
        "# Step 1: Import Libraries\n",
        "import pandas as pd\n",
        "import numpy as np\n",
        "import matplotlib.pyplot as plt\n",
        "import seaborn as sns\n",
        "from sklearn.preprocessing import LabelEncoder, StandardScaler\n",
        "\n",
        "# Step 2: Load the Dataset\n",
        "# You can replace this with any CSV path you prefer\n",
        "url = \"https://raw.githubusercontent.com/datasciencedojo/datasets/master/titanic.csv\"\n",
        "df = pd.read_csv(url)\n",
        "\n",
        "# Step 3: Understand the Dataset\n",
        "print(\"First 5 Rows:\")\n",
        "print(df.head())\n",
        "\n",
        "print(\"\\nData Info:\")\n",
        "print(df.info())\n",
        "\n",
        "print(\"\\nSummary Statistics:\")\n",
        "print(df.describe())\n",
        "\n",
        "# Step 4: Handle Missing Data\n",
        "print(\"\\nMissing values before handling:\")\n",
        "print(df.isnull().sum())\n",
        "\n",
        "# Fill missing Age with mean\n",
        "df['Age'].fillna(df['Age'].mean(), inplace=True)\n",
        "\n",
        "# Fill missing Embarked with mode\n",
        "df['Embarked'].fillna(df['Embarked'].mode()[0], inplace=True)\n",
        "\n",
        "# Drop Cabin column due to too many missing values\n",
        "df.drop('Cabin', axis=1, inplace=True)\n",
        "\n",
        "print(\"\\nMissing values after handling:\")\n",
        "print(df.isnull().sum())\n",
        "\n",
        "# Step 5: Handle Categorical Data\n",
        "# Convert 'Sex' and 'Embarked' using Label Encoding\n",
        "le = LabelEncoder()\n",
        "df['Sex'] = le.fit_transform(df['Sex'])\n",
        "df['Embarked'] = le.fit_transform(df['Embarked'])\n",
        "\n",
        "# Step 6: Feature Scaling\n",
        "scaler = StandardScaler()\n",
        "df[['Age', 'Fare']] = scaler.fit_transform(df[['Age', 'Fare']])\n",
        "\n",
        "# Step 7: Remove Duplicates\n",
        "print(\"\\nNumber of duplicate rows:\", df.duplicated().sum())\n",
        "df.drop_duplicates(inplace=True)\n",
        "\n",
        "# Step 8: Outlier Detection (Optional - using IQR for Fare)\n",
        "Q1 = df['Fare'].quantile(0.25)\n",
        "Q3 = df['Fare'].quantile(0.75)\n",
        "IQR = Q3 - Q1\n",
        "outliers = df[(df['Fare'] < Q1 - 1.5 * IQR) | (df['Fare'] > Q3 + 1.5 * IQR)]\n",
        "print(\"\\nNumber of outliers in Fare:\", outliers.shape[0])\n",
        "\n",
        "# Optional: Save cleaned data\n",
        "# df.to_csv(\"cleaned_titanic.csv\", index=False)\n",
        "\n",
        "print(\"\\nPreprocessing completed successfully.\")"
      ],
      "metadata": {
        "id": "ewyEs8eSgEWy"
      },
      "execution_count": null,
      "outputs": []
    }
  ]
}