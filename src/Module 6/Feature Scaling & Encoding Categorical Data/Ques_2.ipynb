{
  "nbformat": 4,
  "nbformat_minor": 0,
  "metadata": {
    "colab": {
      "provenance": []
    },
    "kernelspec": {
      "name": "python3",
      "display_name": "Python 3"
    },
    "language_info": {
      "name": "python"
    }
  },
  "cells": [
    {
      "cell_type": "code",
      "source": [
        "# Import necessary libraries\n",
        "import pandas as pd\n",
        "from sklearn.preprocessing import LabelEncoder, OneHotEncoder, StandardScaler\n",
        "from sklearn.compose import ColumnTransformer\n",
        "from sklearn.model_selection import train_test_split\n",
        "\n",
        "# Load your dataset\n",
        "# Replace 'your_dataset.csv' with your actual dataset file\n",
        "df = pd.read_csv('your_dataset.csv')\n",
        "\n",
        "# Identify categorical and numerical columns\n",
        "categorical_cols = df.select_dtypes(include=['object']).columns\n",
        "numerical_cols = df.select_dtypes(include=['int64', 'float64']).columns\n",
        "\n",
        "# Separate features and target variable\n",
        "# Replace 'target_column' with the name of your target column\n",
        "X = df.drop('target_column', axis=1)\n",
        "y = df['target_column']\n",
        "\n",
        "# Split the data into training and testing sets\n",
        "X_train, X_test, y_train, y_test = train_test_split(X, y, test_size=0.2, random_state=42)\n",
        "\n",
        "# Apply Label Encoding to binary categorical features\n",
        "label_encoder = LabelEncoder()\n",
        "for col in categorical_cols:\n",
        "    if df[col].nunique() == 2:\n",
        "        X_train[col] = label_encoder.fit_transform(X_train[col])\n",
        "        X_test[col] = label_encoder.transform(X_test[col])\n",
        "\n",
        "# Apply One-Hot Encoding to categorical features with more than two categories\n",
        "# and Standard Scaling to numerical features\n",
        "preprocessor = ColumnTransformer(\n",
        "    transformers=[\n",
        "        ('num', StandardScaler(), numerical_cols),\n",
        "        ('cat', OneHotEncoder(handle_unknown='ignore'), [col for col in categorical_cols if df[col].nunique() > 2])\n",
        "    ])\n",
        "\n",
        "# Fit and transform the training data, transform the testing data\n",
        "X_train_processed = preprocessor.fit_transform(X_train)\n",
        "X_test_processed = preprocessor.transform(X_test)\n",
        "\n",
        "# Now, X_train_processed and X_test_processed are ready for model training"
      ],
      "metadata": {
        "id": "0IQKrDrwjnzG"
      },
      "execution_count": null,
      "outputs": []
    }
  ]
}