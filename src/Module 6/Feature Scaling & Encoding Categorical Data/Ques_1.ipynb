{
  "nbformat": 4,
  "nbformat_minor": 0,
  "metadata": {
    "colab": {
      "provenance": []
    },
    "kernelspec": {
      "name": "python3",
      "display_name": "Python 3"
    },
    "language_info": {
      "name": "python"
    }
  },
  "cells": [
    {
      "cell_type": "code",
      "source": [
        "# Ques_1.ipynb\n",
        "\n",
        "# Importing necessary libraries\n",
        "import pandas as pd\n",
        "from sklearn.preprocessing import StandardScaler, MinMaxScaler, LabelEncoder, OneHotEncoder\n",
        "from sklearn.compose import ColumnTransformer\n",
        "from sklearn.pipeline import Pipeline\n",
        "from sklearn.impute import SimpleImputer\n",
        "\n",
        "# Sample dataset\n",
        "data = {\n",
        "    'Age': [25, 30, 45, 35, 22],\n",
        "    'Salary': [50000, 60000, 80000, 120000, 35000],\n",
        "    'Gender': ['Male', 'Female', 'Female', 'Male', 'Female'],\n",
        "    'Department': ['HR', 'IT', 'Finance', 'Finance', 'HR']\n",
        "}\n",
        "\n",
        "df = pd.DataFrame(data)\n",
        "print(\"Original Data:\")\n",
        "print(df)\n",
        "\n",
        "# Separate features into numerical and categorical\n",
        "numerical_features = ['Age', 'Salary']\n",
        "categorical_features = ['Gender', 'Department']\n",
        "\n",
        "# Pipelines for preprocessing\n",
        "# Numerical pipeline\n",
        "num_pipeline = Pipeline(steps=[\n",
        "    ('imputer', SimpleImputer(strategy='mean')),\n",
        "    ('scaler', StandardScaler())  # or MinMaxScaler()\n",
        "])\n",
        "\n",
        "# Categorical pipeline\n",
        "cat_pipeline = Pipeline(steps=[\n",
        "    ('imputer', SimpleImputer(strategy='most_frequent')),\n",
        "    ('encoder', OneHotEncoder(drop='first'))\n",
        "])\n",
        "\n",
        "# Combine pipelines\n",
        "preprocessor = ColumnTransformer(transformers=[\n",
        "    ('num', num_pipeline, numerical_features),\n",
        "    ('cat', cat_pipeline, categorical_features)\n",
        "])\n",
        "\n",
        "# Apply transformations\n",
        "transformed_data = preprocessor.fit_transform(df)\n",
        "\n",
        "# Convert the transformed data back to a DataFrame\n",
        "# Get feature names from the transformers\n",
        "encoded_feature_names = preprocessor.named_transformers_['cat']['encoder'].get_feature_names_out(categorical_features)\n",
        "all_feature_names = numerical_features + list(encoded_feature_names)\n",
        "transformed_df = pd.DataFrame(transformed_data, columns=all_feature_names)\n",
        "\n",
        "print(\"\\nTransformed Data:\")\n",
        "print(transformed_df)"
      ],
      "metadata": {
        "id": "4WOuMg8Air_o"
      },
      "execution_count": null,
      "outputs": []
    }
  ]
}