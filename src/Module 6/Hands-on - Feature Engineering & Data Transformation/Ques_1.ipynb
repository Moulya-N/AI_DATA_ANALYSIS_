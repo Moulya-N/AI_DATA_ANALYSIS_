{
  "nbformat": 4,
  "nbformat_minor": 0,
  "metadata": {
    "colab": {
      "provenance": []
    },
    "kernelspec": {
      "name": "python3",
      "display_name": "Python 3"
    },
    "language_info": {
      "name": "python"
    }
  },
  "cells": [
    {
      "cell_type": "code",
      "source": [
        "# Step 1: Import necessary libraries\n",
        "import pandas as pd\n",
        "import numpy as np\n",
        "\n",
        "# Step 2: Load your dataset (replace with your actual dataset)\n",
        "# Example: df = pd.read_csv('your_dataset.csv')\n",
        "# Here, I'm creating a dummy dataset for illustration:\n",
        "data = {'Column1': [10, 12, 14, 18, 100, 22, 25, 30, 300, 35]}\n",
        "df = pd.DataFrame(data)\n",
        "\n",
        "# Step 3: Calculate Q1 (25th percentile), Q3 (75th percentile), and IQR (Interquartile Range)\n",
        "Q1 = df['Column1'].quantile(0.25)\n",
        "Q3 = df['Column1'].quantile(0.75)\n",
        "IQR = Q3 - Q1\n",
        "\n",
        "# Step 4: Define the lower and upper bounds for outliers\n",
        "lower_bound = Q1 - 1.5 * IQR\n",
        "upper_bound = Q3 + 1.5 * IQR\n",
        "\n",
        "# Step 5: Filter the data to remove outliers\n",
        "df_cleaned = df[(df['Column1'] >= lower_bound) & (df['Column1'] <= upper_bound)]\n",
        "\n",
        "# Step 6: Output the original and cleaned DataFrame shapes\n",
        "print(f\"Original DataFrame shape: {df.shape}\")\n",
        "print(f\"Cleaned DataFrame shape: {df_cleaned.shape}\")"
      ],
      "metadata": {
        "id": "lmr-Qu3rk7dJ"
      },
      "execution_count": null,
      "outputs": []
    }
  ]
}