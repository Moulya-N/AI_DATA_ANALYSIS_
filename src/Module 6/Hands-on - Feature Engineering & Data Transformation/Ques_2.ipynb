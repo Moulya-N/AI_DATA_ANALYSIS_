{
  "nbformat": 4,
  "nbformat_minor": 0,
  "metadata": {
    "colab": {
      "provenance": []
    },
    "kernelspec": {
      "name": "python3",
      "display_name": "Python 3"
    },
    "language_info": {
      "name": "python"
    }
  },
  "cells": [
    {
      "cell_type": "code",
      "source": [
        "rom sklearn.preprocessing import OneHotEncoder\n",
        "onehot_encoder = OneHotEncoder(sparse=False)\n",
        "encoded_data = onehot_encoder.fit_transform(df[['categorical_column']])\n",
        "encoded_df = pd.DataFrame(encoded_data, columns=onehot_encoder.get_feature_names_out())\n",
        "df = df.join(encoded_df)"
      ],
      "metadata": {
        "id": "u1PM9xgWlxQ2"
      },
      "execution_count": null,
      "outputs": []
    }
  ]
}