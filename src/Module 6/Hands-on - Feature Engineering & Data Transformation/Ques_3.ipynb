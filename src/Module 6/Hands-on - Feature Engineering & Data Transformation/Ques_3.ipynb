{
  "nbformat": 4,
  "nbformat_minor": 0,
  "metadata": {
    "colab": {
      "provenance": []
    },
    "kernelspec": {
      "name": "python3",
      "display_name": "Python 3"
    },
    "language_info": {
      "name": "python"
    }
  },
  "cells": [
    {
      "cell_type": "code",
      "source": [
        "# Step 1: Import libraries\n",
        "import pandas as pd\n",
        "from sklearn.preprocessing import StandardScaler, OneHotEncoder\n",
        "from sklearn.compose import ColumnTransformer\n",
        "from sklearn.pipeline import Pipeline\n",
        "from sklearn.impute import SimpleImputer\n",
        "\n",
        "# Step 2: Load dataset\n",
        "df = pd.read_csv(\"your_dataset.csv\")  # Replace with your actual dataset path\n",
        "print(\"Original Data:\")\n",
        "print(df.head())\n",
        "\n",
        "# Step 3: Identify numerical and categorical columns\n",
        "numerical_cols = df.select_dtypes(include=['int64', 'float64']).columns.tolist()\n",
        "categorical_cols = df.select_dtypes(include=['object', 'category']).columns.tolist()\n",
        "\n",
        "# Step 4: Define preprocessing pipelines\n",
        "num_pipeline = Pipeline(steps=[\n",
        "    ('imputer', SimpleImputer(strategy='mean')),\n",
        "    ('scaler', StandardScaler())\n",
        "])\n",
        "\n",
        "cat_pipeline = Pipeline(steps=[\n",
        "    ('imputer', SimpleImputer(strategy='most_frequent')),\n",
        "    ('encoder', OneHotEncoder(drop='first', handle_unknown='ignore'))\n",
        "])\n",
        "\n",
        "# Step 5: Combine with ColumnTransformer\n",
        "preprocessor = ColumnTransformer(transformers=[\n",
        "    ('num', num_pipeline, numerical_cols),\n",
        "    ('cat', cat_pipeline, categorical_cols)\n",
        "])\n",
        "\n",
        "# Step 6: Apply transformations\n",
        "X_preprocessed = preprocessor.fit_transform(df)\n",
        "\n",
        "# Step 7: Convert to DataFrame\n",
        "encoded_cat_cols = preprocessor.named_transformers_['cat']['encoder'].get_feature_names_out(categorical_cols)\n",
        "final_columns = numerical_cols + list(encoded_cat_cols)\n",
        "processed_df = pd.DataFrame(X_preprocessed.toarray(), columns=final_columns)\n",
        "\n",
        "# Step 8: View and save final processed data\n",
        "print(\"Processed Data:\")\n",
        "print(processed_df.head())\n",
        "\n",
        "processed_df.to_csv(\"processed_data.csv\", index=False)"
      ],
      "metadata": {
        "id": "9nL-ogIFoKoW"
      },
      "execution_count": null,
      "outputs": []
    }
  ]
}