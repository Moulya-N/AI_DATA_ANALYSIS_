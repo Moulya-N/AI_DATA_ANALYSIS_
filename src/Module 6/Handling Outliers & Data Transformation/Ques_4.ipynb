{
  "nbformat": 4,
  "nbformat_minor": 0,
  "metadata": {
    "colab": {
      "provenance": []
    },
    "kernelspec": {
      "name": "python3",
      "display_name": "Python 3"
    },
    "language_info": {
      "name": "python"
    }
  },
  "cells": [
    {
      "cell_type": "code",
      "source": [
        "# Step 1: Import necessary libraries\n",
        "import numpy as np\n",
        "import pandas as pd\n",
        "from scipy.stats import chi2\n",
        "from sklearn.preprocessing import StandardScaler\n",
        "import matplotlib.pyplot as plt\n",
        "\n",
        "# Step 2: Load your dataset\n",
        "# Example: Replace with your actual dataset path or source\n",
        "df = pd.read_csv('your_dataset.csv')\n",
        "\n",
        "# Step 3: Standardize the dataset\n",
        "scaler = StandardScaler()\n",
        "X_scaled = scaler.fit_transform(df)\n",
        "\n",
        "# Step 4: Calculate the covariance matrix and its inverse\n",
        "cov_matrix = np.cov(X_scaled.T)  # Covariance matrix of the dataset\n",
        "inv_cov_matrix = np.linalg.inv(cov_matrix)  # Inverse of the covariance matrix\n",
        "\n",
        "# Step 5: Compute Mahalanobis Distance for each data point\n",
        "mean = np.mean(X_scaled, axis=0)\n",
        "mahal_dist = []\n",
        "for i in range(len(X_scaled)):\n",
        "    diff = X_scaled[i] - mean\n",
        "    mahal_dist.append(np.sqrt(np.dot(np.dot(diff, inv_cov_matrix), diff.T)))\n",
        "mahal_dist = np.array(mahal_dist)\n",
        "\n",
        "# Step 6: Calculate the threshold for outliers using Chi-Square distribution\n",
        "alpha = 0.05  # Significance level (5% for 95% confidence)\n",
        "threshold = chi2.ppf((1 - alpha), df=X_scaled.shape[1])  # Chi-square threshold\n",
        "\n",
        "# Step 7: Identify outliers (where Mahalanobis distance is greater than threshold)\n",
        "outliers = mahal_dist > threshold\n",
        "\n",
        "# Step 8: Visualize the result (optional)\n",
        "plt.figure(figsize=(10, 6))\n",
        "plt.hist(mahal_dist, bins=30, edgecolor='black')\n",
        "plt.axvline(x=threshold, color='red', linestyle='--')\n",
        "plt.title('Mahalanobis Distance Distribution')\n",
        "plt.xlabel('Mahalanobis Distance')\n",
        "plt.ylabel('Frequency')\n",
        "plt.show()\n",
        "\n",
        "# Step 9: Display the outlier data points\n",
        "outlier_data = df[outliers]\n",
        "print(\"Outlier Data:\\n\", outlier_data)"
      ],
      "metadata": {
        "id": "3lwMpNvtKx5k"
      },
      "execution_count": null,
      "outputs": []
    }
  ]
}