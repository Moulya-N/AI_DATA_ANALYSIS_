{
  "nbformat": 4,
  "nbformat_minor": 0,
  "metadata": {
    "colab": {
      "provenance": []
    },
    "kernelspec": {
      "name": "python3",
      "display_name": "Python 3"
    },
    "language_info": {
      "name": "python"
    }
  },
  "cells": [
    {
      "cell_type": "code",
      "source": [
        "# Import necessary libraries\n",
        "import numpy as np\n",
        "import pandas as pd\n",
        "import matplotlib.pyplot as plt\n",
        "from scipy import stats\n",
        "\n",
        "# Example Data: Generate a dataset (replace with your actual dataset)\n",
        "data = np.random.normal(0, 1, 1000)  # Normal distribution (mean=0, std=1)\n",
        "\n",
        "# 1. Z-score Method\n",
        "z_scores = np.abs(stats.zscore(data))  # Calculate the Z-scores\n",
        "z_outliers = np.where(z_scores > 3)  # Z-scores greater than 3 are outliers\n",
        "\n",
        "# 2. IQR Method\n",
        "Q1 = np.percentile(data, 25)  # 25th percentile\n",
        "Q3 = np.percentile(data, 75)  # 75th percentile\n",
        "IQR = Q3 - Q1  # Interquartile Range (IQR)\n",
        "\n",
        "lower_bound = Q1 - 1.5 * IQR  # Lower bound for outliers\n",
        "upper_bound = Q3 + 1.5 * IQR  # Upper bound for outliers\n",
        "\n",
        "# Identify outliers using the IQR method\n",
        "iqr_outliers = np.where((data < lower_bound) | (data > upper_bound))\n",
        "\n",
        "# 3. Boxplot Method\n",
        "plt.boxplot(data)\n",
        "plt.title('Boxplot of the Dataset')\n",
        "plt.show()\n",
        "\n",
        "# Combined outlier detection from all methods\n",
        "\n",
        "# Combine the outliers from Z-score, IQR, and Boxplot (boxplot uses the same bounds as IQR method)\n",
        "combined_outliers = set(z_outliers[0]).union(set(iqr_outliers[0]))\n",
        "\n",
        "# Display the outliers detected by each method\n",
        "print(f\"Z-score Method Outliers (Indices): {z_outliers[0]}\")\n",
        "print(f\"IQR Method Outliers (Indices): {iqr_outliers[0]}\")\n",
        "print(f\"Combined Outliers (Indices): {combined_outliers}\")\n",
        "\n",
        "# Visualize the outliers detected by all methods\n",
        "# Plotting the original data and highlighting the outliers\n",
        "\n",
        "plt.figure(figsize=(10, 6))\n",
        "plt.plot(data, label=\"Data\")\n",
        "plt.scatter(z_outliers[0], data[z_outliers[0]], color='red', label=\"Z-score Outliers\", marker='x')\n",
        "plt.scatter(iqr_outliers[0], data[iqr_outliers[0]], color='blue', label=\"IQR Outliers\", marker='o')\n",
        "plt.scatter(list(combined_outliers), data[list(combined_outliers)], color='green', label=\"Combined Outliers\", marker='*')\n",
        "plt.legend()\n",
        "plt.title('Outliers Detected by Z-score, IQR, and Combined Methods')\n",
        "plt.show()\n",
        "\n",
        "# Summary of Outlier Detection\n",
        "outlier_summary = {\n",
        "    \"Z-score Outliers\": z_outliers[0],\n",
        "    \"IQR Outliers\": iqr_outliers[0],\n",
        "    \"Combined Outliers\": list(combined_outliers)\n",
        "}\n",
        "\n",
        "# Display summary table\n",
        "outlier_summary_df = pd.DataFrame(outlier_summary)\n",
        "outlier_summary_df.head()"
      ],
      "metadata": {
        "id": "hgxPa6S8LzvC"
      },
      "execution_count": null,
      "outputs": []
    }
  ]
}