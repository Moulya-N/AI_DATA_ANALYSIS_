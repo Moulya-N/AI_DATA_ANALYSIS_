{
  "nbformat": 4,
  "nbformat_minor": 0,
  "metadata": {
    "colab": {
      "provenance": []
    },
    "kernelspec": {
      "name": "python3",
      "display_name": "Python 3"
    },
    "language_info": {
      "name": "python"
    }
  },
  "cells": [
    {
      "cell_type": "code",
      "source": [
        "# Ques 3: Power Transformation (Box-Cox Method)\n",
        "\n",
        "# Objective: Use Box-Cox transformation to stabilize variance and make the data more normally distributed\n",
        "\n",
        "# Step 1: Import Required Libraries\n",
        "import numpy as np\n",
        "import pandas as pd\n",
        "import matplotlib.pyplot as plt\n",
        "import seaborn as sns\n",
        "from scipy import stats\n",
        "from scipy.stats import shapiro\n",
        "\n",
        "# Step 2: Load Dataset\n",
        "# Replace 'data.csv' with the actual dataset file path\n",
        "df = pd.read_csv('data.csv')  # Example placeholder\n",
        "df.head()\n",
        "\n",
        "# Step 3: Select Column & Ensure Positive Values\n",
        "col = 'target_column'  # Replace with the actual column name\n",
        "\n",
        "# Ensure the column has only positive values (required for Box-Cox)\n",
        "if (df[col] <= 0).any():\n",
        "    shift = abs(df[col].min()) + 1\n",
        "    df[col] = df[col] + shift\n",
        "    print(f\"Data shifted by {shift} to make all values positive.\")\n",
        "\n",
        "# Step 4: Visualize Original Data\n",
        "plt.figure(figsize=(8, 4))\n",
        "sns.histplot(df[col], kde=True)\n",
        "plt.title('Original Data Distribution')\n",
        "plt.xlabel(col)\n",
        "plt.ylabel('Frequency')\n",
        "plt.show()\n",
        "\n",
        "# Step 5: Apply Box-Cox Transformation\n",
        "transformed_data, fitted_lambda = stats.boxcox(df[col])\n",
        "df['transformed'] = transformed_data\n",
        "\n",
        "print(f\"Optimal Lambda for Box-Cox Transformation: {fitted_lambda}\")\n",
        "\n",
        "# Step 6: Visualize Transformed Data\n",
        "plt.figure(figsize=(8, 4))\n",
        "sns.histplot(df['transformed'], kde=True)\n",
        "plt.title('Box-Cox Transformed Data Distribution')\n",
        "plt.xlabel('Transformed Values')\n",
        "plt.ylabel('Frequency')\n",
        "plt.show()\n",
        "\n",
        "# Step 7: Normality Check (Shapiro-Wilk Test)\n",
        "stat, p = shapiro(df['transformed'])\n",
        "print(f'Shapiro-Wilk Test: Statistics={stat}, p-value={p}')\n",
        "\n",
        "if p > 0.05:\n",
        "    print('Transformed data looks Gaussian (fail to reject H0)')\n",
        "else:\n",
        "    print('Transformed data does not look Gaussian (reject H0)')\n",
        "\n",
        "# Step 8: Summary\n",
        "print(\"\\n--- Summary ---\")\n",
        "print(f\"The Box-Cox transformation was applied successfully.\")\n",
        "print(f\"Optimal λ (lambda): {fitted_lambda}\")\n",
        "print(\"Distribution improved and normality tested using Shapiro-Wilk.\")"
      ],
      "metadata": {
        "id": "iZYynP6OJ9UG"
      },
      "execution_count": null,
      "outputs": []
    }
  ]
}