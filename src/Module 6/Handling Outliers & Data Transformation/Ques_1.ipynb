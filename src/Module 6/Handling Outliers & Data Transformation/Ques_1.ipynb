{
  "nbformat": 4,
  "nbformat_minor": 0,
  "metadata": {
    "colab": {
      "provenance": []
    },
    "kernelspec": {
      "name": "python3",
      "display_name": "Python 3"
    },
    "language_info": {
      "name": "python"
    }
  },
  "cells": [
    {
      "cell_type": "code",
      "source": [
        "# Step 1: Import required libraries\n",
        "import pandas as pd\n",
        "import matplotlib.pyplot as plt\n",
        "import seaborn as sns\n",
        "\n",
        "# Step 2: Load the dataset\n",
        "# Replace with the actual path to your dataset file\n",
        "df = pd.read_csv('your_dataset.csv')  # Example: 'data.csv'\n",
        "\n",
        "# Step 3: Select numerical columns\n",
        "numeric_cols = df.select_dtypes(include=['int64', 'float64']).columns\n",
        "\n",
        "# Step 4: Plot boxplots for each numerical column\n",
        "plt.style.use('seaborn-whitegrid')\n",
        "for col in numeric_cols:\n",
        "    plt.figure(figsize=(10, 4))\n",
        "    sns.boxplot(x=df[col], color='skyblue')\n",
        "    plt.title(f'Boxplot for {col}')\n",
        "    plt.xlabel(col)\n",
        "    plt.show()\n",
        "\n",
        "# Step 5: Detect and print outliers using IQR method\n",
        "for col in numeric_cols:\n",
        "    Q1 = df[col].quantile(0.25)\n",
        "    Q3 = df[col].quantile(0.75)\n",
        "    IQR = Q3 - Q1\n",
        "    outliers = df[(df[col] < Q1 - 1.5 * IQR) | (df[col] > Q3 + 1.5 * IQR)]\n",
        "\n",
        "    print(f\"\\nOutliers in column '{col}':\")\n",
        "    print(outliers[[col]])"
      ],
      "metadata": {
        "id": "DCvbQyHoIJgT"
      },
      "execution_count": null,
      "outputs": []
    }
  ]
}