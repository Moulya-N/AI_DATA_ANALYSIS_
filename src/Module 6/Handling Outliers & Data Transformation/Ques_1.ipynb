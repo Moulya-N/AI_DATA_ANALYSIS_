{
  "nbformat": 4,
  "nbformat_minor": 0,
  "metadata": {
    "colab": {
      "provenance": []
    },
    "kernelspec": {
      "name": "python3",
      "display_name": "Python 3"
    },
    "language_info": {
      "name": "python"
    }
  },
  "cells": [
    {
      "cell_type": "code",
      "execution_count": null,
      "metadata": {
        "id": "AuQuiJy73Fe_"
      },
      "outputs": [],
      "source": [
        "# Step 1: Import Required Libraries\n",
        "import pandas as pd\n",
        "import matplotlib.pyplot as plt\n",
        "import seaborn as sns\n",
        "\n",
        "# Step 2: Load Dataset (using Seaborn's tips dataset as an example)\n",
        "df = sns.load_dataset('tips')\n",
        "\n",
        "# Display the first few rows of the dataset to understand its structure\n",
        "df.head()\n",
        "\n",
        "# Step 3: Create a Boxplot for a single numeric column (e.g., 'total_bill')\n",
        "plt.figure(figsize=(8, 5))\n",
        "sns.boxplot(x=df['total_bill'])\n",
        "plt.title(\"Boxplot of Total Bill\")\n",
        "plt.xlabel(\"Total Bill\")\n",
        "plt.show()\n",
        "\n",
        "# Step 4: (Optional) Visualize Boxplots for Multiple Numeric Columns\n",
        "numeric_cols = df.select_dtypes(include='number').columns\n",
        "\n",
        "plt.figure(figsize=(10, 6))\n",
        "df[numeric_cols].boxplot()\n",
        "plt.title(\"Boxplots for Numeric Columns\")\n",
        "plt.xticks(rotation=45)\n",
        "plt.show()\n",
        "\n",
        "# Step 5: Observations (Markdown)\n",
        "# In your markdown cell, you can add observations such as:\n",
        "# \"The total_bill column shows some outliers above the upper whisker.\"\n",
        "# \"Other numeric columns like tip also display minor outliers.\""
      ]
    }
  ]
}