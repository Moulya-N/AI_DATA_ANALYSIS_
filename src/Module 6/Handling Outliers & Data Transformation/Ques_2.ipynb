{
  "nbformat": 4,
  "nbformat_minor": 0,
  "metadata": {
    "colab": {
      "provenance": []
    },
    "kernelspec": {
      "name": "python3",
      "display_name": "Python 3"
    },
    "language_info": {
      "name": "python"
    }
  },
  "cells": [
    {
      "cell_type": "code",
      "source": [
        "# Winsorization of Data\n",
        "\n",
        "# Import necessary libraries\n",
        "import pandas as pd\n",
        "import numpy as np\n",
        "from scipy.stats.mstats import winsorize\n",
        "import matplotlib.pyplot as plt\n",
        "import seaborn as sns\n",
        "\n",
        "# Load dataset\n",
        "# Replace with the actual file path or dataset used in your project\n",
        "df = pd.read_csv('your_dataset.csv')  # Update file name if needed\n",
        "df.head()\n",
        "\n",
        "# Display basic statistics to identify outliers\n",
        "df.describe()\n",
        "\n",
        "# Select numeric columns for Winsorization\n",
        "numeric_cols = df.select_dtypes(include=np.number).columns.tolist()\n",
        "print(\"Numeric Columns:\", numeric_cols)\n",
        "\n",
        "# Visualize original distributions using boxplots\n",
        "plt.figure(figsize=(15, 5 * len(numeric_cols)))\n",
        "for i, col in enumerate(numeric_cols):\n",
        "    plt.subplot(len(numeric_cols), 2, 2*i + 1)\n",
        "    sns.boxplot(x=df[col])\n",
        "    plt.title(f'Original - {col}')\n",
        "\n",
        "# Apply Winsorization (5th and 95th percentiles)\n",
        "for col in numeric_cols:\n",
        "    df[col + '_winsorized'] = winsorize(df[col], limits=[0.05, 0.05])\n",
        "\n",
        "# Visualize winsorized distributions\n",
        "for i, col in enumerate(numeric_cols):\n",
        "    plt.subplot(len(numeric_cols), 2, 2*i + 2)\n",
        "    sns.boxplot(x=df[col + '_winsorized'])\n",
        "    plt.title(f'Winsorized - {col}')\n",
        "plt.tight_layout()\n",
        "plt.show()\n",
        "\n",
        "# Display statistics after Winsorization\n",
        "for col in numeric_cols:\n",
        "    print(f\"\\n{col} (Original):\")\n",
        "    print(df[col].describe())\n",
        "    print(f\"\\n{col}_winsorized (Winsorized):\")\n",
        "    print(pd.Series(df[col + '_winsorized']).describe())\n",
        "\n",
        "# Save the updated DataFrame if needed\n",
        "# df.to_csv('winsorized_output.csv', index=False)"
      ],
      "metadata": {
        "id": "k2nTd_E9JCIc"
      },
      "execution_count": null,
      "outputs": []
    }
  ]
}