{
  "nbformat": 4,
  "nbformat_minor": 0,
  "metadata": {
    "colab": {
      "provenance": []
    },
    "kernelspec": {
      "name": "python3",
      "display_name": "Python 3"
    },
    "language_info": {
      "name": "python"
    }
  },
  "cells": [
    {
      "cell_type": "code",
      "execution_count": null,
      "metadata": {
        "id": "mNj9dOwtDJSl"
      },
      "outputs": [],
      "source": [
        "import pandas as pd\n",
        "import numpy as np\n",
        "\n",
        "# Load the dataset\n",
        "df = pd.read_csv(\"your_dataset.csv\")  # Replace with actual file path\n",
        "\n",
        "# 1. Display basic info\n",
        "print(\"Initial Data Info:\")\n",
        "print(df.info())\n",
        "print(\"\\nMissing Values:\\n\", df.isnull().sum())\n",
        "\n",
        "# 2. Handle Missing Values\n",
        "# Strategy can vary based on domain knowledge\n",
        "df.fillna(method='ffill', inplace=True)  # Forward fill as an example\n",
        "\n",
        "# 3. Remove Duplicates\n",
        "df.drop_duplicates(inplace=True)\n",
        "\n",
        "# 4. Convert Data Types\n",
        "# Example: Convert date columns or numeric strings\n",
        "# df['date_column'] = pd.to_datetime(df['date_column'])\n",
        "# df['numeric_column'] = pd.to_numeric(df['numeric_column'], errors='coerce')\n",
        "\n",
        "# 5. Normalize Data Formats\n",
        "# Example: lowercase all text columns\n",
        "for col in df.select_dtypes(include='object').columns:\n",
        "    df[col] = df[col].str.lower().str.strip()\n",
        "\n",
        "# 6. Handle Outliers (optional based on use-case)\n",
        "# Example: remove rows where column values exceed a threshold\n",
        "# df = df[df['column_name'] < df['column_name'].quantile(0.95)]\n",
        "\n",
        "# 7. Encode Categorical Variables (if needed)\n",
        "# df = pd.get_dummies(df, drop_first=True)\n",
        "\n",
        "# Final check\n",
        "print(\"Cleaned Data Info:\")\n",
        "print(df.info())\n",
        "\n",
        "# Save cleaned data\n",
        "df.to_csv(\"cleaned_dataset.csv\", index=False)"
      ]
    }
  ]
}