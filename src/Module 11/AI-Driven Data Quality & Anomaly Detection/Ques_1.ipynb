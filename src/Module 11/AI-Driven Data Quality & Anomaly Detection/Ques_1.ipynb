{
  "nbformat": 4,
  "nbformat_minor": 0,
  "metadata": {
    "colab": {
      "provenance": []
    },
    "kernelspec": {
      "name": "python3",
      "display_name": "Python 3"
    },
    "language_info": {
      "name": "python"
    }
  },
  "cells": [
    {
      "cell_type": "code",
      "source": [
        "# Step 1: Import necessary libraries\n",
        "import pandas as pd\n",
        "from scipy.stats import zscore\n",
        "import matplotlib.pyplot as plt\n",
        "import seaborn as sns\n",
        "\n",
        "# Step 2: Load your dataset (replace 'your_dataset.csv' with your actual file)\n",
        "df = pd.read_csv('your_dataset.csv')\n",
        "\n",
        "# Step 3: Calculate Z-scores for all numeric columns\n",
        "df_z = df.select_dtypes(include=['float64', 'int64']).apply(zscore)\n",
        "\n",
        "# Step 4: Define threshold and detect anomalies\n",
        "threshold = 3  # Commonly used threshold for Z-score\n",
        "anomalies = (df_z.abs() > threshold).any(axis=1)  # Detect any row with a value exceeding threshold\n",
        "df_anomalies = df[anomalies]\n",
        "\n",
        "print(f\"Number of anomalies detected: {df_anomalies.shape[0]}\")\n",
        "\n",
        "# Step 5: Visualize anomalies using a heatmap of Z-scores\n",
        "plt.figure(figsize=(12, 6))\n",
        "sns.heatmap(df_z, cmap='coolwarm', cbar=True)\n",
        "plt.title('Z-Score Heatmap of Dataset')\n",
        "plt.show()\n",
        "\n",
        "# Optional: View anomalies\n",
        "print(\"Anomalous data points:\")\n",
        "print(df_anomalies)"
      ],
      "metadata": {
        "id": "hxs3qaD64ruj"
      },
      "execution_count": null,
      "outputs": []
    }
  ]
}