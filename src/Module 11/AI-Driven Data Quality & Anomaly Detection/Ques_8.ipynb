{
  "nbformat": 4,
  "nbformat_minor": 0,
  "metadata": {
    "colab": {
      "provenance": []
    },
    "kernelspec": {
      "name": "python3",
      "display_name": "Python 3"
    },
    "language_info": {
      "name": "python"
    }
  },
  "cells": [
    {
      "cell_type": "code",
      "source": [
        "# Step 1: Install NLTK (if not already installed)\n",
        "# !pip install nltk\n",
        "\n",
        "# Step 2: Import necessary libraries\n",
        "import nltk\n",
        "from nltk.corpus import stopwords\n",
        "from nltk.tokenize import word_tokenize\n",
        "\n",
        "# Step 3: Download stopwords (if running for the first time)\n",
        "nltk.download('punkt')\n",
        "nltk.download('stopwords')\n",
        "\n",
        "# Step 4: Define your input text\n",
        "text = \"This is a sample sentence, showing off the stop words filtration.\"\n",
        "\n",
        "# Step 5: Tokenize the text\n",
        "words = word_tokenize(text)\n",
        "\n",
        "# Step 6: Load English stopwords\n",
        "stop_words = set(stopwords.words('english'))\n",
        "\n",
        "# Step 7: Remove stopwords\n",
        "filtered_words = [word for word in words if word.lower() not in stop_words]\n",
        "\n",
        "# Step 8: Output the result\n",
        "print(\"Original Text:\\n\", text)\n",
        "print(\"\\nFiltered Text (without stopwords):\\n\", \" \".join(filtered_words))"
      ],
      "metadata": {
        "id": "Ojv56rqmCIIj"
      },
      "execution_count": null,
      "outputs": []
    }
  ]
}