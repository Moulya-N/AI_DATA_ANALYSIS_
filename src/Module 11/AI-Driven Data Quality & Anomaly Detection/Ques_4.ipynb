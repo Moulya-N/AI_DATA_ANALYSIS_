{
  "nbformat": 4,
  "nbformat_minor": 0,
  "metadata": {
    "colab": {
      "provenance": []
    },
    "kernelspec": {
      "name": "python3",
      "display_name": "Python 3"
    },
    "language_info": {
      "name": "python"
    }
  },
  "cells": [
    {
      "cell_type": "code",
      "source": [
        "import pandas as pd\n",
        "import numpy as np\n",
        "from sklearn.preprocessing import StandardScaler\n",
        "from sklearn.cluster import KMeans\n",
        "from sklearn.metrics import pairwise_distances\n",
        "from sklearn.decomposition import PCA\n",
        "import matplotlib.pyplot as plt\n",
        "\n",
        "# Step 1: Load data\n",
        "def load_data(file_path):\n",
        "    return pd.read_csv(file_path)\n",
        "\n",
        "# Step 2: Preprocess data\n",
        "def preprocess_data(df):\n",
        "    df = df.dropna()\n",
        "    df_encoded = pd.get_dummies(df, drop_first=True)\n",
        "    scaler = StandardScaler()\n",
        "    scaled_data = scaler.fit_transform(df_encoded)\n",
        "    return scaled_data, df"
      ],
      "metadata": {
        "id": "uPeUxEz-89q8"
      },
      "execution_count": null,
      "outputs": []
    }
  ]
}