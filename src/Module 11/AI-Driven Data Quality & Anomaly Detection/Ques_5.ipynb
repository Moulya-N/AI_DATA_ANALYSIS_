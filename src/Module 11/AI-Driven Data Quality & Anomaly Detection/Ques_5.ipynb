{
  "nbformat": 4,
  "nbformat_minor": 0,
  "metadata": {
    "colab": {
      "provenance": []
    },
    "kernelspec": {
      "name": "python3",
      "display_name": "Python 3"
    },
    "language_info": {
      "name": "python"
    }
  },
  "cells": [
    {
      "cell_type": "code",
      "source": [
        "import pandas as pd\n",
        "from sklearn.feature_extraction.text import TfidfVectorizer\n",
        "from sklearn.metrics.pairwise import cosine_similarity\n",
        "from scipy.cluster.hierarchy import linkage, fcluster, dendrogram\n",
        "import matplotlib.pyplot as plt\n",
        "import numpy as np\n",
        "\n",
        "# Step 1: Load the data\n",
        "df = pd.read_csv('data.csv')  # Replace with your actual CSV file name\n",
        "print(\"Initial Data:\", df.shape)\n",
        "\n",
        "# Step 2: Preprocess text\n",
        "def preprocess(text):\n",
        "    if pd.isna(text):\n",
        "        return \"\"\n",
        "    return text.lower().strip()\n",
        "\n",
        "df['cleaned'] = df['name'].apply(preprocess)  # Replace 'name' with your actual column\n",
        "\n",
        "# Step 3: Vectorize text using TF-IDF\n",
        "vectorizer = TfidfVectorizer(stop_words='english')\n",
        "tfidf_matrix = vectorizer.fit_transform(df['cleaned'])\n",
        "\n",
        "# Step 4: Compute pairwise cosine similarity\n",
        "similarity_matrix = cosine_similarity(tfidf_matrix)\n",
        "\n",
        "# Step 5: Convert similarity to distance\n",
        "distance_matrix = 1 - similarity"
      ],
      "metadata": {
        "id": "wyGHqTBy-c99"
      },
      "execution_count": null,
      "outputs": []
    }
  ]
}