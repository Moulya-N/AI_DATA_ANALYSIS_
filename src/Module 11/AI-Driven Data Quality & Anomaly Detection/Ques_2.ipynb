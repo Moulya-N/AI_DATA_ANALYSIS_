{
  "nbformat": 4,
  "nbformat_minor": 0,
  "metadata": {
    "colab": {
      "provenance": []
    },
    "kernelspec": {
      "name": "python3",
      "display_name": "Python 3"
    },
    "language_info": {
      "name": "python"
    }
  },
  "cells": [
    {
      "cell_type": "code",
      "source": [
        "# Step 1: Import required libraries\n",
        "import pandas as pd\n",
        "import numpy as np\n",
        "import matplotlib.pyplot as plt\n",
        "import seaborn as sns\n",
        "from sklearn.ensemble import IsolationForest\n",
        "from sklearn.preprocessing import StandardScaler\n",
        "\n",
        "# Step 2: Load your dataset\n",
        "# Replace 'your_file.csv' with the actual filename\n",
        "df = pd.read_csv('your_file.csv')\n",
        "print(df.head())  # Preview the data\n",
        "\n",
        "# Step 3: Basic data cleaning (optional)\n",
        "# Drop missing values if any\n",
        "df.dropna(inplace=True)\n",
        "\n",
        "# Optional: Convert categorical columns to numeric using one-hot encoding\n",
        "# df = pd.get_dummies(df)\n",
        "\n",
        "# Step 4: Feature Scaling\n",
        "scaler = StandardScaler()\n",
        "scaled_data = scaler.fit_transform(df)\n",
        "\n",
        "# Step 5: Initialize the Isolation Forest model\n",
        "iso_forest = IsolationForest(n_estimators=100, contamination=0.05, random_state=42)\n",
        "iso_forest.fit(scaled_data)\n",
        "\n",
        "# Step 6: Predict anomalies\n",
        "df['anomaly'] = iso_forest.predict(scaled_data)\n",
        "\n",
        "# Step 7: Convert -1 (anomaly), 1 (normal) to readable format\n",
        "df['anomaly'] = df['anomaly'].map({1: 'Normal', -1: 'Anomaly'})\n",
        "\n",
        "# Step 8: Visualize anomaly counts\n",
        "sns.countplot(x='anomaly', data=df)\n",
        "plt.title('Anomaly Detection Results')\n",
        "plt.show()\n",
        "\n",
        "# Step 9: View anomalies\n",
        "anomalies = df[df['anomaly'] == 'Anomaly']\n",
        "print(anomalies)\n",
        "\n",
        "# Optional: Save results to CSV\n",
        "df.to_csv('anomaly_detection_output.csv', index=False)"
      ],
      "metadata": {
        "id": "BHGLvqHJ5wFw"
      },
      "execution_count": null,
      "outputs": []
    }
  ]
}