{
  "nbformat": 4,
  "nbformat_minor": 0,
  "metadata": {
    "colab": {
      "provenance": []
    },
    "kernelspec": {
      "name": "python3",
      "display_name": "Python 3"
    },
    "language_info": {
      "name": "python"
    }
  },
  "cells": [
    {
      "cell_type": "code",
      "source": [
        "import pandas as pd\n",
        "import numpy as np\n",
        "from sklearn.cluster import DBSCAN\n",
        "from sklearn.preprocessing import StandardScaler\n",
        "from sklearn.feature_extraction.text import TfidfVectorizer\n",
        "from sklearn.metrics.pairwise import cosine_distances\n",
        "\n",
        "# Sample data: Replace this with your actual dataset\n",
        "data = {\n",
        "    'id': [1, 2, 3, 4, 5],\n",
        "    'name': ['John Smith', 'Jon Smith', 'Johnny Smith', 'Alice Johnson', 'Alicia Johnson'],\n",
        "    'email': ['john.smith@example.com', 'jon.smith@example.com', 'johnny.smith@example.com',\n",
        "              'alice.johnson@example.com', 'alicia.johnson@example.com']\n",
        "}\n",
        "\n",
        "df = pd.DataFrame(data)\n",
        "\n",
        "# Step 1: Feature extraction - For deduplication, use text similarity on 'name' and 'email'\n",
        "\n",
        "# Combine columns for similarity check\n",
        "df['combined'] = df['name'] + ' ' + df['email']\n",
        "\n",
        "# Use TF-IDF vectorization for text data\n",
        "vectorizer = TfidfVectorizer().fit(df['combined'])\n",
        "X_tfidf = vectorizer.transform(df['combined'])\n",
        "\n",
        "# Step 2: Compute pairwise distance matrix based on cosine similarity\n",
        "# DBSCAN expects a distance matrix or feature vectors\n",
        "distance_matrix = cosine_distances(X_tfidf)\n",
        "\n",
        "# Step 3: Apply DBSCAN\n",
        "# eps: threshold distance for cluster inclusion; tune based on dataset\n",
        "# min_samples: minimum points to form a cluster\n",
        "\n",
        "db = DBSCAN(eps=0.3, min_samples=2, metric='precomputed')\n",
        "clusters = db.fit_predict(distance_matrix)\n",
        "\n",
        "df['cluster'] = clusters\n",
        "\n",
        "# Step 4: View cluster assignments (duplicates should have the same cluster label)\n",
        "print(\"Cluster assignments for deduplication:\")\n",
        "print(df[['id', 'name', 'email', 'cluster']])\n",
        "\n",
        "# Step 5: (Optional) Group duplicates for inspection\n",
        "duplicates = df[df['cluster'] != -1].sort_values('cluster')\n",
        "print(\"\\nPotential duplicates groups:\")\n",
        "for cluster_id in duplicates['cluster'].unique():\n",
        "    print(f\"\\nCluster {cluster_id}:\")\n",
        "    print(duplicates[duplicates['cluster'] == cluster_id])"
      ],
      "metadata": {
        "id": "i3tm3Z0GAIDi"
      },
      "execution_count": null,
      "outputs": []
    }
  ]
}