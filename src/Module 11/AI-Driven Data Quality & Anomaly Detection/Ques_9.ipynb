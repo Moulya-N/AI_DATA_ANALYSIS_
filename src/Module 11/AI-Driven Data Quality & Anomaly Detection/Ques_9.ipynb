{
  "nbformat": 4,
  "nbformat_minor": 0,
  "metadata": {
    "colab": {
      "provenance": []
    },
    "kernelspec": {
      "name": "python3",
      "display_name": "Python 3"
    },
    "language_info": {
      "name": "python"
    }
  },
  "cells": [
    {
      "cell_type": "code",
      "source": [
        "def xor(a, b):\n",
        "    result = []\n",
        "    for i in range(1, len(b)):\n",
        "        result.append(str(int(a[i]) ^ int(b[i])))\n",
        "    return ''.join(result)\n",
        "\n",
        "def mod2div(dividend, divisor):\n",
        "    pick = len(divisor)\n",
        "    tmp = dividend[0:pick]\n",
        "\n",
        "    while pick < len(dividend):\n",
        "        if tmp[0] == '1':\n",
        "            tmp = xor(divisor, tmp) + dividend[pick]\n",
        "        else:\n",
        "            tmp = xor('0'*pick, tmp) + dividend[pick]\n",
        "        pick += 1\n",
        "\n",
        "    if tmp[0] == '1':\n",
        "        tmp = xor(divisor, tmp)\n",
        "    else:\n",
        "        tmp = xor('0'*pick, tmp)\n",
        "\n",
        "    return tmp\n",
        "\n",
        "def encodeData(data, key):\n",
        "    l_key = len(key)\n",
        "    appended_data = data + '0'*(l_key - 1)\n",
        "    remainder = mod2div(appended_data, key)\n",
        "    codeword = data + remainder\n",
        "    return codeword\n",
        "\n",
        "# Example usage:\n",
        "data = \"11010011101100\"\n",
        "key = \"1011\"\n",
        "codeword = encodeData(data, key)\n",
        "print(f\"Encoded Data (Data + CRC): {codeword}\")"
      ],
      "metadata": {
        "id": "iHnMXbYGC8DV"
      },
      "execution_count": null,
      "outputs": []
    }
  ]
}