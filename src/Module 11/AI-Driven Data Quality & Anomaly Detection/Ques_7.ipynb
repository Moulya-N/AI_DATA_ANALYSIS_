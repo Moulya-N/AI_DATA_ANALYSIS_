{
  "nbformat": 4,
  "nbformat_minor": 0,
  "metadata": {
    "colab": {
      "provenance": []
    },
    "kernelspec": {
      "name": "python3",
      "display_name": "Python 3"
    },
    "language_info": {
      "name": "python"
    }
  },
  "cells": [
    {
      "cell_type": "code",
      "source": [
        "# clean_text.py\n",
        "\n",
        "import pandas as pd\n",
        "import re\n",
        "from bs4 import BeautifulSoup\n",
        "from textblob import TextBlob\n",
        "import contractions\n",
        "import nltk\n",
        "\n",
        "# Download NLTK stopwords if not already present\n",
        "nltk.download('stopwords')\n",
        "from nltk.corpus import stopwords\n",
        "stop_words = set(stopwords.words('english'))\n",
        "\n",
        "# Load the data\n",
        "df = pd.read_csv('path/to/your_file.csv')  # Replace with actual file path\n",
        "\n",
        "# Define a text cleaning function\n",
        "def clean_text(text):\n",
        "    if pd.isnull(text):\n",
        "        return \"\"\n",
        "\n",
        "    # 1. Lowercase\n",
        "    text = text.lower()\n",
        "\n",
        "    # 2. Expand contractions\n",
        "    text = contractions.fix(text)\n",
        "\n",
        "    # 3. Remove HTML tags\n",
        "    text = BeautifulSoup(text, \"html.parser\").get_text()\n",
        "\n",
        "    # 4. Remove special characters and punctuation\n",
        "    text = re.sub(r'[^\\w\\s]', '', text)\n",
        "\n",
        "    # 5. Remove digits\n",
        "    text = re.sub(r'\\d+', '', text)\n",
        "\n",
        "    # 6. Correct spelling (optional, slow)\n",
        "    text = str(TextBlob(text).correct())\n",
        "\n",
        "    # 7. Remove stopwords\n",
        "    text = ' '.join([word for word in text.split() if word not in stop_words])\n",
        "\n",
        "    return text\n",
        "\n",
        "# Apply cleaning\n",
        "df['cleaned_text'] = df['text'].apply(clean_text)\n",
        "\n",
        "# Save cleaned data\n",
        "df.to_csv('cleaned_data.csv', index=False)\n",
        "\n",
        "print(\"Text cleaning completed and saved to cleaned_data.csv\")"
      ],
      "metadata": {
        "id": "u41-V95-BT5U"
      },
      "execution_count": null,
      "outputs": []
    }
  ]
}