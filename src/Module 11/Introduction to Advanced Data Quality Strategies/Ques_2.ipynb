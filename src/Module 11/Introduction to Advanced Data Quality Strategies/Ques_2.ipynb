{
  "nbformat": 4,
  "nbformat_minor": 0,
  "metadata": {
    "colab": {
      "provenance": []
    },
    "kernelspec": {
      "name": "python3",
      "display_name": "Python 3"
    },
    "language_info": {
      "name": "python"
    }
  },
  "cells": [
    {
      "cell_type": "code",
      "source": [
        "import re\n",
        "import pandas as pd\n",
        "import spacy\n",
        "\n",
        "# Load English tokenizer, POS tagger, parser, NER, and word vectors\n",
        "nlp = spacy.load(\"en_core_web_sm\")\n",
        "\n",
        "# Read unstructured text from a file\n",
        "with open('input.txt', 'r', encoding='utf-8') as file:\n",
        "    text = file.read()\n",
        "\n",
        "# Process the text with spaCy\n",
        "doc = nlp(text)\n",
        "\n",
        "# Extract named entities\n",
        "entities = [(ent.text, ent.label_) for ent in doc.ents]\n",
        "\n",
        "# Extract specific patterns using regular expressions\n",
        "emails = re.findall(r'\\b[\\w.-]+?@\\w+?\\.\\w+?\\b', text)\n",
        "phone_numbers = re.findall(r'\\b\\d{10}\\b', text)  # Adjust pattern as needed\n",
        "\n",
        "# Create a DataFrame to store the structured data\n",
        "data = {\n",
        "    'Entity': [ent[0] for ent in entities],\n",
        "    'Label': [ent[1] for ent in entities]\n",
        "}\n",
        "\n",
        "# Add emails and phone numbers to the DataFrame\n",
        "# This is a simplistic approach; in practice, you might want to handle these separately\n",
        "data['Email'] = emails + [''] * (len(entities) - len(emails))\n",
        "data['Phone'] = phone_numbers + [''] * (len(entities) - len(phone_numbers))\n",
        "\n",
        "df = pd.DataFrame(data)\n",
        "\n",
        "# Save the structured data to a CSV file\n",
        "df.to_csv('structured_output.csv', index=False)\n",
        "\n",
        "print(\"Structured data has been extracted and saved to 'structured_output.csv'.\")"
      ],
      "metadata": {
        "id": "j_RKwjPq1KIG"
      },
      "execution_count": null,
      "outputs": []
    }
  ]
}