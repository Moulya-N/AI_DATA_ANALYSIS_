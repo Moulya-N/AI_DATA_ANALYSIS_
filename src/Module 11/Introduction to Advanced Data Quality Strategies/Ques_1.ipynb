{
  "nbformat": 4,
  "nbformat_minor": 0,
  "metadata": {
    "colab": {
      "provenance": []
    },
    "kernelspec": {
      "name": "python3",
      "display_name": "Python 3"
    },
    "language_info": {
      "name": "python"
    }
  },
  "cells": [
    {
      "cell_type": "code",
      "source": [
        "import pandas as pd\n",
        "import re\n",
        "from pandas_profiling import ProfileReport\n",
        "from fuzzywuzzy import fuzz, process\n",
        "\n",
        "# 1. Load Data\n",
        "df = pd.read_csv('your_data.csv')\n",
        "\n",
        "# 2. Data Profiling\n",
        "profile = ProfileReport(df, title=\"Data Profile Report\")\n",
        "profile.to_file(\"data_profile_report.html\")\n",
        "\n",
        "# 3. Data Cleansing\n",
        "\n",
        "# a. Handle Missing Values\n",
        "df['numeric_column'] = df['numeric_column'].fillna(df['numeric_column'].mean())\n",
        "df = df.dropna(subset=['categorical_column'])\n",
        "\n",
        "# b. Remove Duplicates\n",
        "df = df.drop_duplicates()\n",
        "\n",
        "# c. Correct Data Types\n",
        "df['date_column'] = pd.to_datetime(df['date_column'], errors='coerce')\n",
        "\n",
        "# 4. Data Validation\n",
        "\n",
        "# Validate age range\n",
        "df = df[(df['age'] >= 0) & (df['age'] <= 120)]\n",
        "\n",
        "# Validate email format\n",
        "def is_valid_email(email):\n",
        "    pattern = r'^[\\w\\.-]+@[\\w\\.-]+\\.\\w+$'\n",
        "    return re.match(pattern, str(email)) is not None\n",
        "\n",
        "df['email_valid'] = df['email'].apply(is_valid_email)\n",
        "\n",
        "# 5. Data Transformation\n",
        "\n",
        "# Normalize text\n",
        "df['name'] = df['name'].str.lower()\n",
        "\n",
        "# Standardize date format\n",
        "df['standardized_date'] = pd.to_datetime(df['date_column'], errors='coerce').dt.strftime('%Y-%m-%d')\n",
        "\n",
        "# 6. Duplicate Detection (Fuzzy Match)\n",
        "def find_duplicates(name, choices, threshold=90):\n",
        "    matches = process.extract(name, choices, scorer=fuzz.token_sort_ratio)\n",
        "    return [match for match in matches if match[1] >= threshold]\n",
        "\n",
        "df['potential_duplicates'] = df['name'].apply(lambda x: find_duplicates(x, df['name'].tolist()))\n",
        "\n",
        "# 7. Data Quality Monitoring\n",
        "\n",
        "# Missing value percentage\n",
        "missing_data = df.isnull().mean() * 100\n",
        "print(\"Columns with more than 5% missing values:\")\n",
        "print(missing_data[missing_data > 5])\n",
        "\n",
        "# 8. Export Cleaned Data\n",
        "df.to_csv('cleaned_data.csv', index=False)"
      ],
      "metadata": {
        "id": "CEnJ_F9L0YCo"
      },
      "execution_count": null,
      "outputs": []
    }
  ]
}