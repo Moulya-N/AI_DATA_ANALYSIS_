{
  "nbformat": 4,
  "nbformat_minor": 0,
  "metadata": {
    "colab": {
      "provenance": []
    },
    "kernelspec": {
      "name": "python3",
      "display_name": "Python 3"
    },
    "language_info": {
      "name": "python"
    }
  },
  "cells": [
    {
      "cell_type": "code",
      "source": [
        "import pandas as pd\n",
        "from sklearn.ensemble import IsolationForest\n",
        "\n",
        "# Sample: Load your data\n",
        "# Replace with your actual dataset path or data loading code\n",
        "data = pd.read_csv('your_data.csv')\n",
        "\n",
        "# Display basic info\n",
        "print(\"Data Summary:\")\n",
        "print(data.info())\n",
        "print(data.describe())\n",
        "\n",
        "# Data Preprocessing: Handle missing values by filling with median\n",
        "data_filled = data.fillna(data.median())\n",
        "\n",
        "# Feature selection: Use numeric columns for anomaly detection\n",
        "numeric_cols = data_filled.select_dtypes(include=['float64', 'int64']).columns\n",
        "X = data_filled[numeric_cols]\n",
        "\n",
        "# Initialize Isolation Forest for anomaly detection\n",
        "iso_forest = IsolationForest(contamination=0.05, random_state=42)\n",
        "iso_forest.fit(X)\n",
        "\n",
        "# Predict anomalies: -1 means anomaly, 1 means normal\n",
        "data_filled['anomaly'] = iso_forest.predict(X)\n",
        "\n",
        "# Show flagged anomalies\n",
        "anomalies = data_filled[data_filled['anomaly'] == -1]\n",
        "print(f\"\\nDetected {len(anomalies)} anomalies:\")\n",
        "print(anomalies)\n",
        "\n",
        "# Save results for further analysis\n",
        "data_filled.to_csv('data_quality_checked.csv', index=False)"
      ],
      "metadata": {
        "id": "iewhIs443Prq"
      },
      "execution_count": null,
      "outputs": []
    }
  ]
}