{
  "nbformat": 4,
  "nbformat_minor": 0,
  "metadata": {
    "colab": {
      "provenance": []
    },
    "kernelspec": {
      "name": "python3",
      "display_name": "Python 3"
    },
    "language_info": {
      "name": "python"
    }
  },
  "cells": [
    {
      "cell_type": "code",
      "source": [
        "# Import required libraries\n",
        "import pandas as pd\n",
        "import numpy as np\n",
        "import matplotlib.pyplot as plt\n",
        "import seaborn as sns\n",
        "from sklearn.ensemble import IsolationForest\n",
        "from sklearn.preprocessing import StandardScaler\n",
        "\n",
        "# Load the sensor data\n",
        "# Replace with the actual path or file name if necessary\n",
        "df = pd.read_csv('sensor_data.csv')  # Example name, update as needed\n",
        "print(\"Initial Data Sample:\")\n",
        "display(df.head())\n",
        "\n",
        "# Data Preprocessing\n",
        "# Drop rows with missing values\n",
        "df.dropna(inplace=True)\n",
        "\n",
        "# Select only numerical columns for scaling and modeling\n",
        "numeric_cols = df.select_dtypes(include=[np.number]).columns\n",
        "scaler = StandardScaler()\n",
        "scaled_data = scaler.fit_transform(df[numeric_cols])\n",
        "\n",
        "# Apply Isolation Forest for anomaly detection\n",
        "model = IsolationForest(n_estimators=100, contamination=0.01, random_state=42)\n",
        "df['anomaly'] = model.fit_predict(scaled_data)\n",
        "\n",
        "# Mark anomalies: -1 = anomaly, 1 = normal\n",
        "anomalies = df[df['anomaly'] == -1]\n",
        "\n",
        "# Visualize anomalies for one sensor column\n",
        "# Replace 'sensor_column' with an actual sensor column name\n",
        "sensor_col = numeric_cols[0]  # For example, first sensor column\n",
        "plt.figure(figsize=(12,6))\n",
        "sns.scatterplot(x=df.index, y=df[sensor_col], hue=df['anomaly'], palette={1: 'blue', -1: 'red'})\n",
        "plt.title('Anomaly Detection in Sensor Data')\n",
        "plt.xlabel('Index')\n",
        "plt.ylabel(sensor_col)\n",
        "plt.legend(title='Anomaly')\n",
        "plt.grid(True)\n",
        "plt.show()\n",
        "\n",
        "# Summary\n",
        "print(f\"Total records: {len(df)}\")\n",
        "print(f\"Anomalies detected: {len(anomalies)}\")\n",
        "display(anomalies.head())"
      ],
      "metadata": {
        "id": "RFHVem0aKRGN"
      },
      "execution_count": null,
      "outputs": []
    }
  ]
}