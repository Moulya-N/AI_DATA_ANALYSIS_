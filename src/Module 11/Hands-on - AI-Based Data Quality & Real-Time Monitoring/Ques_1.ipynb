{
  "nbformat": 4,
  "nbformat_minor": 0,
  "metadata": {
    "colab": {
      "provenance": []
    },
    "kernelspec": {
      "name": "python3",
      "display_name": "Python 3"
    },
    "language_info": {
      "name": "python"
    }
  },
  "cells": [
    {
      "cell_type": "code",
      "source": [
        "# data_monitoring.py\n",
        "\n",
        "import pandas as pd\n",
        "import numpy as np\n",
        "import time\n",
        "from sklearn.ensemble import IsolationForest\n",
        "import streamlit as st\n",
        "\n",
        "# Simulate Real-Time Data Loading\n",
        "@st.cache_data\n",
        "def load_data():\n",
        "    # You can replace this with real-time sources like Kafka, APIs, or databases\n",
        "    df = pd.read_csv(\"sample_data.csv\")  # Replace with your actual data source\n",
        "    return df\n",
        "\n",
        "# Data Quality Checks\n",
        "def check_quality(df):\n",
        "    quality_report = {\n",
        "        \"Total Rows\": len(df),\n",
        "        \"Missing Values (%)\": df.isnull().mean() * 100,\n",
        "        \"Duplicate Rows\": df.duplicated().sum()\n",
        "    }\n",
        "    return pd.DataFrame(quality_report)\n",
        "\n",
        "# AI-based Anomaly Detection\n",
        "def detect_anomalies(df, features):\n",
        "    clf = IsolationForest(contamination=0.05, random_state=42)\n",
        "    df = df.dropna(subset=features)\n",
        "    clf.fit(df[features])\n",
        "    df['anomaly'] = clf.predict(df[features])\n",
        "    df['anomaly'] = df['anomaly'].map({1: 'Normal', -1: 'Anomaly'})\n",
        "    return df\n",
        "\n",
        "# Streamlit Dashboard\n",
        "def main():\n",
        "    st.title(\"AI-Based Data Quality & Real-Time Monitoring\")\n",
        "\n",
        "    df = load_data()\n",
        "\n",
        "    st.subheader(\"Raw Data Snapshot\")\n",
        "    st.write(df.head())\n",
        "\n",
        "    st.subheader(\"Data Quality Report\")\n",
        "    quality_df = check_quality(df)\n",
        "    st.write(quality_df)\n",
        "\n",
        "    st.subheader(\"Anomaly Detection\")\n",
        "    features = st.multiselect(\"Select features for anomaly detection:\", options=df.select_dtypes(include=np.number).columns.tolist())\n",
        "\n",
        "    if features:\n",
        "        result_df = detect_anomalies(df, features)\n",
        "        st.write(result_df[['anomaly'] + features].value_counts().reset_index(name='count'))\n",
        "        st.write(result_df[result_df['"
      ],
      "metadata": {
        "id": "6A688NuEJD9P"
      },
      "execution_count": null,
      "outputs": []
    }
  ]
}