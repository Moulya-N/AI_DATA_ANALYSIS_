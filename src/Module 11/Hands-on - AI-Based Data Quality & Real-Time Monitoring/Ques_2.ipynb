{
  "nbformat": 4,
  "nbformat_minor": 0,
  "metadata": {
    "colab": {
      "provenance": []
    },
    "kernelspec": {
      "name": "python3",
      "display_name": "Python 3"
    },
    "language_info": {
      "name": "python"
    }
  },
  "cells": [
    {
      "cell_type": "code",
      "source": [
        "# Import necessary libraries\n",
        "import pandas as pd\n",
        "import numpy as np\n",
        "import matplotlib.pyplot as plt\n",
        "import seaborn as sns\n",
        "\n",
        "from sklearn.ensemble import IsolationForest\n",
        "from sklearn.preprocessing import StandardScaler\n",
        "from sklearn.metrics import classification_report, confusion_matrix\n",
        "\n",
        "# Load the dataset\n",
        "# Replace with your actual dataset path\n",
        "df = pd.read_csv('transactions.csv')  # Example CSV file\n",
        "\n",
        "# Display the first few rows\n",
        "print(df.head())\n",
        "\n",
        "# Check for missing values\n",
        "print(\"Missing values:\\n\", df.isnull().sum())\n",
        "\n",
        "# Basic stats\n",
        "print(df.describe())\n",
        "\n",
        "# Data preprocessing\n",
        "# Assume 'Amount' and 'Time' are important features\n",
        "features = ['Amount', 'Time']\n",
        "X = df[features]\n",
        "\n",
        "# Scale the data\n",
        "scaler = StandardScaler()\n",
        "X_scaled = scaler.fit_transform(X)\n",
        "\n",
        "# Use Isolation Forest for anomaly detection\n",
        "model = IsolationForest(n_estimators=100, contamination=0.01, random_state=42)\n",
        "model.fit(X_scaled)\n",
        "\n",
        "# Predict anomalies (-1 = anomaly, 1 = normal)\n",
        "df['anomaly'] = model.predict(X_scaled)\n",
        "\n",
        "# Convert predictions to binary (1 = anomaly, 0 = normal)\n",
        "df['anomaly'] = df['anomaly'].map({1: 0, -1: 1})\n",
        "\n",
        "# Count anomalies\n",
        "print(\"Anomalies detected:\", df['anomaly'].sum())\n",
        "\n",
        "# Visualize anomalies\n",
        "plt.figure(figsize=(10, 6))\n",
        "sns.scatterplot(x='Time', y='Amount', hue='anomaly', data=df, palette=['blue', 'red'])\n",
        "plt.title('Anomaly Detection in Transactions')\n",
        "plt.show()\n",
        "\n",
        "# (Optional) If the dataset has a true label column for fraud, like 'Class'\n",
        "if 'Class' in df.columns:\n",
        "    print(\"Confusion Matrix:\\n\", confusion_matrix(df['Class'], df['anomaly']))\n",
        "    print(\"\\nClassification Report:\\n\", classification_report(df['Class'], df['anomaly']))\n",
        "\n",
        "# Save results\n",
        "df.to_csv('transactions_with_anomalies.csv', index=False)"
      ],
      "metadata": {
        "id": "HWsU8ekSHspd"
      },
      "execution_count": null,
      "outputs": []
    }
  ]
}