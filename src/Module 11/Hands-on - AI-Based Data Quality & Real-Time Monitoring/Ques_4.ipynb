{
  "nbformat": 4,
  "nbformat_minor": 0,
  "metadata": {
    "colab": {
      "provenance": []
    },
    "kernelspec": {
      "name": "python3",
      "display_name": "Python 3"
    },
    "language_info": {
      "name": "python"
    }
  },
  "cells": [
    {
      "cell_type": "code",
      "source": [
        "# Step 1: Import Required Libraries\n",
        "import pandas as pd\n",
        "import numpy as np\n",
        "import matplotlib.pyplot as plt\n",
        "import seaborn as sns\n",
        "from sklearn.preprocessing import StandardScaler\n",
        "from sklearn.model_selection import train_test_split\n",
        "from sklearn.ensemble import IsolationForest\n",
        "from sklearn.metrics import classification_report\n",
        "import joblib\n",
        "from flask import Flask, request, jsonify\n",
        "\n",
        "# Step 2: Load and Preprocess Data\n",
        "df = pd.read_csv('network_traffic.csv')  # Replace with your dataset\n",
        "df.dropna(inplace=True)\n",
        "df = pd.get_dummies(df)  # Encode categorical features\n",
        "scaler = StandardScaler()\n",
        "scaled_features = scaler.fit_transform(df)\n",
        "X_train, X_test = train_test_split(scaled_features, test_size=0.2, random_state=42)\n",
        "\n",
        "# Step 3: Train Isolation Forest Model\n",
        "iso_forest = IsolationForest(n_estimators=100, contamination=0.01, random_state=42)\n",
        "iso_forest.fit(X_train)\n",
        "\n",
        "# Step 4: Make Predictions\n",
        "y_pred = iso_forest.predict(X_test)\n",
        "y_pred_binary = [1 if x == -1 else 0 for x in y_pred]\n",
        "\n",
        "# Optional: True labels (only if available, else skip classification report)\n",
        "# y_true = ...\n",
        "# print(classification_report(y_true, y_pred_binary))\n",
        "\n",
        "# Step 5: Visualize Anomalies\n",
        "viz_df = pd.DataFrame(X_test, columns=df.columns)\n",
        "viz_df['Anomaly'] = y_pred_binary\n",
        "sns.pairplot(viz_df.sample(200), hue='Anomaly', palette='Set1')\n",
        "plt.show()\n",
        "\n",
        "# Step 6: Save Model and Scaler\n",
        "joblib.dump(iso_forest, 'isolation_forest_model.pkl')\n",
        "joblib.dump(scaler, 'scaler.pkl')\n",
        "\n",
        "# Step 7: Create Flask API\n",
        "app = Flask(_name_)\n",
        "model = joblib.load('isolation_forest_model.pkl')\n",
        "scaler = joblib.load('scaler.pkl')\n",
        "\n",
        "@app.route('/predict', methods=['POST'])\n",
        "def predict():\n",
        "    data = request.get_json(force=True)\n",
        "    features = np.array(data['features']).reshape(1, -1)\n",
        "    features_scaled = scaler.transform(features)\n",
        "    prediction = model.predict(features_scaled)\n",
        "    anomaly = 1 if prediction[0] == -1 else 0\n",
        "    return jsonify({'anomaly': anomaly})\n",
        "\n",
        "if _name_ == '_main_':\n",
        "    app.run(debug=True)"
      ],
      "metadata": {
        "id": "kTexcLrkLXtB"
      },
      "execution_count": null,
      "outputs": []
    }
  ]
}