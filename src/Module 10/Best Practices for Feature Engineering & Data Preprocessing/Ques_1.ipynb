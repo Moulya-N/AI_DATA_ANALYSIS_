{
  "nbformat": 4,
  "nbformat_minor": 0,
  "metadata": {
    "colab": {
      "provenance": []
    },
    "kernelspec": {
      "name": "python3",
      "display_name": "Python 3"
    },
    "language_info": {
      "name": "python"
    }
  },
  "cells": [
    {
      "cell_type": "code",
      "execution_count": null,
      "metadata": {
        "id": "QuLGGkCKcvLj"
      },
      "outputs": [],
      "source": [
        "def xor(a, b):\n",
        "    \"\"\"Perform XOR between two binary strings a and b.\"\"\"\n",
        "    result = []\n",
        "    for i in range(1, len(b)):\n",
        "        result.append('0' if a[i] == b[i] else '1')\n",
        "    return ''.join(result)\n",
        "\n",
        "def mod2div(dividend, divisor):\n",
        "    \"\"\"Perform modulo-2 division and return the remainder.\"\"\"\n",
        "    pick = len(divisor)\n",
        "    tmp = dividend[0:pick]\n",
        "\n",
        "    while pick < len(dividend):\n",
        "        if tmp[0] == '1':\n",
        "            tmp = xor(divisor, tmp) + dividend[pick]\n",
        "        else:\n",
        "            tmp = xor('0'*pick, tmp) + dividend[pick]\n",
        "        pick += 1\n",
        "\n",
        "    if tmp[0] == '1':\n",
        "        tmp = xor(divisor, tmp)\n",
        "    else:\n",
        "        tmp = xor('0'*pick, tmp)\n",
        "\n",
        "    return tmp\n",
        "\n",
        "def encodeData(data, key):\n",
        "    \"\"\"Encode data by appending CRC remainder.\"\"\"\n",
        "    l_key = len(key)\n",
        "    appended_data = data + '0'*(l_key - 1)\n",
        "    remainder = mod2div(appended_data, key)\n",
        "    codeword = data + remainder\n",
        "    return codeword\n",
        "\n",
        "def verifyData(codeword, key):\n",
        "    \"\"\"Verify received data using CRC.\"\"\"\n",
        "    remainder = mod2div(codeword, key)\n",
        "    return all(bit == '0' for bit in remainder)\n",
        "\n",
        "# Example usage\n",
        "if _name_ == \"_main_\":\n",
        "    data = \"100100\"\n",
        "    key = \"1101\"  # Generator polynomial\n",
        "\n",
        "    print(f\"Original Data: {data}\")\n",
        "    codeword = encodeData(data, key)\n",
        "    print(f\"Encoded Data (Data + CRC): {codeword}\")\n",
        "\n",
        "    # Simulate data transmission and verification\n",
        "    is_data_valid = verifyData(codeword, key)\n",
        "    print(f\"Data received without errors: {is_data_valid}\")"
      ]
    }
  ]
}