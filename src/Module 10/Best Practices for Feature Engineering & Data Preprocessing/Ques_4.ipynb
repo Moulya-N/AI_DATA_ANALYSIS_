{
  "nbformat": 4,
  "nbformat_minor": 0,
  "metadata": {
    "colab": {
      "provenance": []
    },
    "kernelspec": {
      "name": "python3",
      "display_name": "Python 3"
    },
    "language_info": {
      "name": "python"
    }
  },
  "cells": [
    {
      "cell_type": "code",
      "source": [
        "# Import necessary libraries\n",
        "import pandas as pd\n",
        "from sklearn.feature_selection import mutual_info_classif\n",
        "from sklearn.preprocessing import LabelEncoder\n",
        "import matplotlib.pyplot as plt\n",
        "import seaborn as sns\n",
        "\n",
        "# Step 1: Load dataset\n",
        "df = pd.read_csv('your_dataset.csv')  # <-- Replace with your actual dataset\n",
        "\n",
        "# Step 2: Separate features and target\n",
        "X = df.drop('target_column', axis=1)  # <-- Replace with your actual target column\n",
        "y = df['target_column']\n",
        "\n",
        "# Step 3: Encode categorical features\n",
        "label_encoders = {}\n",
        "for col in X.select_dtypes(include=['object']).columns:\n",
        "    le = LabelEncoder()\n",
        "    X[col] = le.fit_transform(X[col])\n",
        "    label_encoders[col] = le\n",
        "\n",
        "# Step 4: Encode target if categorical\n",
        "if y.dtype == 'object':\n",
        "    y = LabelEncoder().fit_transform(y)\n",
        "\n",
        "# Step 5: Calculate mutual information scores\n",
        "mi_scores = mutual_info_classif(X, y, discrete_features='auto', random_state=0)\n",
        "\n",
        "# Step 6: Create DataFrame of MI scores\n",
        "mi_df = pd.DataFrame({'Feature': X.columns, 'MI Score': mi_scores})\n",
        "mi_df = mi_df.sort_values(by='MI Score', ascending=False)\n",
        "\n",
        "# Step 7: Display MI scores\n",
        "print(\"Mutual Information Scores:\")\n",
        "print(mi_df)\n",
        "\n",
        "# Step 8: Visualize MI scores\n",
        "plt.figure(figsize=(10, 6))\n",
        "sns.barplot(x='MI Score', y='Feature', data=mi_df, palette='viridis')\n",
        "plt.title('Mutual Information Scores for Features')\n",
        "plt.xlabel('MI Score')\n",
        "plt.ylabel('Feature')\n",
        "plt.tight_layout()\n",
        "plt.show()"
      ],
      "metadata": {
        "id": "Szk0_sR5gMvh"
      },
      "execution_count": null,
      "outputs": []
    }
  ]
}