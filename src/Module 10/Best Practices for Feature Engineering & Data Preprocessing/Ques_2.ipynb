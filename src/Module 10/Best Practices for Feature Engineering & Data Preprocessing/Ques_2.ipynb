{
  "nbformat": 4,
  "nbformat_minor": 0,
  "metadata": {
    "colab": {
      "provenance": []
    },
    "kernelspec": {
      "name": "python3",
      "display_name": "Python 3"
    },
    "language_info": {
      "name": "python"
    }
  },
  "cells": [
    {
      "cell_type": "code",
      "source": [
        "# Step 1: Import Libraries\n",
        "import pandas as pd\n",
        "import numpy as np\n",
        "from sklearn.model_selection import train_test_split\n",
        "from sklearn.impute import SimpleImputer\n",
        "from sklearn.pipeline import Pipeline\n",
        "from sklearn.ensemble import RandomForestClassifier\n",
        "from sklearn.metrics import accuracy_score, classification_report\n",
        "from sklearn.preprocessing import StandardScaler\n",
        "\n",
        "# Step 2: Load Dataset\n",
        "# Replace 'your_dataset.csv' with the actual file name in your repository\n",
        "df = pd.read_csv('your_dataset.csv')\n",
        "\n",
        "# Step 3: Preprocess Data\n",
        "# Replace 'target_column' with the actual name of your target column\n",
        "X = df.drop('target_column', axis=1)\n",
        "y = df['target_column']\n",
        "\n",
        "# Step 4: Split Data\n",
        "X_train, X_test, y_train, y_test = train_test_split(X, y, test_size=0.2, random_state=42)\n",
        "\n",
        "# Step 5: Create Pipeline\n",
        "pipeline = Pipeline(steps=[\n",
        "    ('imputer', SimpleImputer(strategy='mean')),  # You can also try 'median' or 'most_frequent'\n",
        "    ('scaler', StandardScaler()),\n",
        "    ('classifier', RandomForestClassifier(random_state=42))\n",
        "])\n",
        "\n",
        "# Step 6: Fit Pipeline\n",
        "pipeline.fit(X_train, y_train)\n",
        "\n",
        "# Step 7: Predict and Evaluate\n",
        "y_pred = pipeline.predict(X_test)\n",
        "print(\"Accuracy:\", accuracy_score(y_test, y_pred))\n",
        "print(\"Classification Report:\\n\", classification_report(y_test, y_pred))"
      ],
      "metadata": {
        "id": "ASqpndKvfSsE"
      },
      "execution_count": null,
      "outputs": []
    }
  ]
}