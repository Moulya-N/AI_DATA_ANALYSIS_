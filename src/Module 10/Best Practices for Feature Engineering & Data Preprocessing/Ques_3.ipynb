{
  "nbformat": 4,
  "nbformat_minor": 0,
  "metadata": {
    "colab": {
      "provenance": []
    },
    "kernelspec": {
      "name": "python3",
      "display_name": "Python 3"
    },
    "language_info": {
      "name": "python"
    }
  },
  "cells": [
    {
      "cell_type": "code",
      "source": [
        "import pandas as pd\n",
        "from sklearn.feature_selection import VarianceThreshold\n",
        "\n",
        "# Load your dataset\n",
        "data = pd.read_csv('your_dataset.csv')  # replace with actual file name\n",
        "\n",
        "# Separate features and target if applicable\n",
        "X = data.drop(columns=['target'])  # replace 'target' with your actual target column name\n",
        "\n",
        "# Apply Variance Threshold\n",
        "selector = VarianceThreshold(threshold=0.1)  # 0.1 is a sample threshold\n",
        "X_selected = selector.fit_transform(X)\n",
        "\n",
        "# Get the selected feature names\n",
        "selected_features = X.columns[selector.get_support()]\n",
        "\n",
        "# Create new DataFrame with selected features\n",
        "X_reduced = pd.DataFrame(X_selected, columns=selected_features)\n",
        "\n",
        "# Optional: Save reduced features to CSV\n",
        "X_reduced.to_csv('reduced_features.csv', index=False)"
      ],
      "metadata": {
        "id": "uyJme4ftgKpC"
      },
      "execution_count": null,
      "outputs": []
    },
    {
      "cell_type": "code",
      "source": [],
      "metadata": {
        "id": "Szk0_sR5gMvh"
      },
      "execution_count": null,
      "outputs": []
    }
  ]
}