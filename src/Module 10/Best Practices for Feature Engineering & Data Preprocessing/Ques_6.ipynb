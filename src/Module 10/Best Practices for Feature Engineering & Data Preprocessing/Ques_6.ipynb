{
  "nbformat": 4,
  "nbformat_minor": 0,
  "metadata": {
    "colab": {
      "provenance": []
    },
    "kernelspec": {
      "name": "python3",
      "display_name": "Python 3"
    },
    "language_info": {
      "name": "python"
    }
  },
  "cells": [
    {
      "cell_type": "code",
      "source": [
        "# Import necessary libraries\n",
        "import pandas as pd\n",
        "import numpy as np\n",
        "import matplotlib.pyplot as plt\n",
        "import seaborn as sns\n",
        "\n",
        "from sklearn.impute import SimpleImputer\n",
        "from sklearn.preprocessing import StandardScaler, OneHotEncoder\n",
        "from sklearn.compose import ColumnTransformer\n",
        "from sklearn.pipeline import Pipeline\n",
        "from sklearn.model_selection import train_test_split\n",
        "\n",
        "# Load the dataset\n",
        "df = pd.read_csv('your_dataset.csv')  # Replace with your actual dataset\n",
        "\n",
        "# Display initial information\n",
        "print(\"Initial Data Information:\")\n",
        "print(df.info())\n",
        "print(\"\\nMissing Values:\\n\", df.isnull().sum())\n",
        "\n",
        "# Separate features and target variable\n",
        "X = df.drop('target_column', axis=1)  # Replace 'target_column' with your target variable\n",
        "y = df['target_column']\n",
        "\n",
        "# Identify numerical and categorical columns\n",
        "numerical_cols = X.select_dtypes(include=['int64', 'float64']).columns\n",
        "categorical_cols = X.select_dtypes(include=['object', 'category']).columns\n",
        "\n",
        "# Define preprocessing for numerical data\n",
        "numerical_transformer = Pipeline(steps=[\n",
        "    ('imputer', SimpleImputer(strategy='median')),\n",
        "    ('scaler', StandardScaler())\n",
        "])\n",
        "\n",
        "# Define preprocessing for categorical data\n",
        "categorical_transformer = Pipeline(steps=[\n",
        "    ('imputer', SimpleImputer(strategy='most_frequent')),\n",
        "    ('onehot', OneHotEncoder(handle_unknown='ignore'))\n",
        "])\n",
        "\n",
        "# Combine preprocessing steps\n",
        "preprocessor = ColumnTransformer(transformers=[\n",
        "    ('num', numerical_transformer, numerical_cols),\n",
        "    ('cat', categorical_transformer, categorical_cols)\n",
        "])\n",
        "\n",
        "# Create preprocessing and training pipeline\n",
        "model_pipeline = Pipeline(steps=[\n",
        "    ('preprocessor', preprocessor)\n",
        "    # Add your model here, e.g., ('classifier', LogisticRegression())\n",
        "])\n",
        "\n",
        "# Split data into training and testing sets\n",
        "X_train, X_test, y_train, y_test = train_test_split(X, y, test_size=0.2, random_state=42)\n",
        "\n",
        "# Fit the pipeline on the training data\n",
        "model_pipeline.fit(X_train, y_train)\n",
        "\n",
        "# Transform the test data\n",
        "X_test_transformed = model_pipeline.transform(X_test)\n",
        "\n",
        "# Save the preprocessed data if needed\n",
        "# pd.DataFrame(X_test_transformed).to_csv('preprocessed_test_data.csv', index=False)"
      ],
      "metadata": {
        "id": "i_2oD3n_kyDV"
      },
      "execution_count": null,
      "outputs": []
    }
  ]
}