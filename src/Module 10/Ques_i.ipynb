{
  "nbformat": 4,
  "nbformat_minor": 0,
  "metadata": {
    "colab": {
      "provenance": []
    },
    "kernelspec": {
      "name": "python3",
      "display_name": "Python 3"
    },
    "language_info": {
      "name": "python"
    }
  },
  "cells": [
    {
      "cell_type": "code",
      "source": [
        "# Step 1: Install Great Expectations\n",
        "pip install great_expectations\n",
        "\n",
        "# Step 2: Initialize Great Expectations\n",
        "great_expectations init\n",
        "\n",
        "# Step 3: Create a folder and add your dataset\n",
        "mkdir data\n",
        "# (Move your CSV file into the data folder manually or with:)\n",
        "mv your_dataset.csv data/\n",
        "\n",
        "# Step 4: Add a datasource (choose Pandas + Filesystem when prompted)\n",
        "great_expectations datasource new\n",
        "\n",
        "# Step 5: Create an expectation suite (choose \"profiling\" to auto-generate expectations)\n",
        "great_expectations suite new\n",
        "# Example name: data_quality_suite\n",
        "\n",
        "# Step 6: Create a checkpoint (choose your suite and data asset when prompted)\n",
        "great_expectations checkpoint new\n",
        "# Example name: data_validation_checkpoint\n",
        "\n",
        "# Step 7: Run the checkpoint to validate your data\n",
        "great_expectations checkpoint run data_validation_checkpoint\n",
        "\n",
        "# Step 8: (No code) — Add and commit these to GitHub:\n",
        "# - data/your_dataset.csv\n",
        "# - great_expectations/expectations/\n",
        "# - great_expectations/checkpoints/\n",
        "# - great_expectations/great_expectations.yml\n",
        "# - Optionally: great_expectations/uncommitted/validations/"
      ],
      "metadata": {
        "id": "cctVeP2Ws7bV"
      },
      "execution_count": null,
      "outputs": []
    }
  ]
}