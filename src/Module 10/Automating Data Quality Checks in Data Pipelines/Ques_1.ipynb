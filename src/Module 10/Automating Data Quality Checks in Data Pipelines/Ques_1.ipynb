{
  "nbformat": 4,
  "nbformat_minor": 0,
  "metadata": {
    "colab": {
      "provenance": []
    },
    "kernelspec": {
      "name": "python3",
      "display_name": "Python 3"
    },
    "language_info": {
      "name": "python"
    }
  },
  "cells": [
    {
      "cell_type": "code",
      "source": [
        "from airflow import DAG\n",
        "from airflow.operators.bash import BashOperator\n",
        "from datetime import datetime\n",
        "\n",
        "default_args = {\n",
        "    'start_date': datetime(2024, 1, 1),\n",
        "    'retries': 1\n",
        "}\n",
        "\n",
        "with DAG('ge_data_validation_dag',\n",
        "         default_args=default_args,\n",
        "         schedule_interval='@daily',\n",
        "         catchup=False) as dag:\n",
        "\n",
        "    run_ge_checkpoint = BashOperator(\n",
        "        task_id='run_great_expectations',\n",
        "        bash_command='great_expectations checkpoint run my_checkpoint',\n",
        "        cwd='/absolute/path/to/AI_DATA_ANALYSIS'  # replace with full path\n",
        "    )\n",
        "\n",
        "    run_ge_checkpoint"
      ],
      "metadata": {
        "id": "W6TaCTfcfFs4"
      },
      "execution_count": null,
      "outputs": []
    }
  ]
}