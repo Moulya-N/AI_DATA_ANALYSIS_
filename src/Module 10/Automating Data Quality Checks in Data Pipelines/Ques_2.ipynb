{
  "nbformat": 4,
  "nbformat_minor": 0,
  "metadata": {
    "colab": {
      "provenance": []
    },
    "kernelspec": {
      "name": "python3",
      "display_name": "Python 3"
    },
    "language_info": {
      "name": "python"
    }
  },
  "cells": [
    {
      "cell_type": "code",
      "source": [
        "# 1. Clone the repository\n",
        "git clone https://github.com/amruthareddy-zenV/AL-DATA-ANALYSIS.git\n",
        "cd AL-DATA-ANALYSIS\n",
        "\n",
        "# 2. Set up virtual environment and install Great Expectations\n",
        "python -m venv venv\n",
        "source venv/bin/activate       # On Windows: venv\\Scripts\\activate\n",
        "pip install great_expectations\n",
        "\n",
        "# 3. Initialize Great Expectations\n",
        "great_expectations init\n",
        "\n",
        "# 4. Add your dataset (CSV) to the project directory (manually, if needed)\n",
        "\n",
        "# 5. Create a new datasource\n",
        "great_expectations datasource new\n",
        "\n",
        "# 6. Create a new expectation suite by profiling the dataset\n",
        "great_expectations suite new\n",
        "# Follow prompts:\n",
        "# - Choose: W. Create expectations by profiling a data asset\n",
        "# - Select datasource\n",
        "# - Enter dataset name (e.g., your CSV file)\n",
        "# - Enter suite name (e.g., data_profile_suite)\n",
        "\n",
        "# 7. Create and run a checkpoint\n",
        "great_expectations checkpoint new my_checkpoint\n",
        "great_expectations checkpoint run my_checkpoint\n",
        "\n",
        "# 8. View validation results (optional)\n",
        "open great_expectations/uncommitted/data_docs/local_site/index.html\n",
        "# On Windows use: start great_expectations/uncommitted/data_docs/local_site/index.html\n",
        "\n",
        "# 9. Commit changes\n",
        "git add great_expectations/\n",
        "git commit -m \"Added data profiling and validation rules using Great Expectations\"\n",
        "git push"
      ],
      "metadata": {
        "id": "5yvwgeNigUHa"
      },
      "execution_count": null,
      "outputs": []
    }
  ]
}