{
  "nbformat": 4,
  "nbformat_minor": 0,
  "metadata": {
    "colab": {
      "provenance": []
    },
    "kernelspec": {
      "name": "python3",
      "display_name": "Python 3"
    },
    "language_info": {
      "name": "python"
    }
  },
  "cells": [
    {
      "cell_type": "code",
      "source": [
        "import great_expectations as gx\n",
        "from great_expectations.core.batch import BatchRequest\n",
        "import os\n",
        "\n",
        "# Define paths\n",
        "project_root = os.path.dirname(os.path.abspath(_file_))\n",
        "data_path = os.path.join(project_root, \"data\", \"your_dataset.csv\")\n",
        "\n",
        "# Initialize a Data Context\n",
        "context = gx.get_context()\n",
        "\n",
        "# Add a Pandas datasource\n",
        "datasource_name = \"my_pandas_datasource\"\n",
        "context.sources.add_pandas_filesystem(\n",
        "    name=datasource_name,\n",
        "    base_directory=os.path.join(project_root, \"data\")\n",
        ")\n",
        "\n",
        "# Add a CSV data asset\n",
        "data_asset_name = \"my_csv_data_asset\"\n",
        "context.sources[datasource_name].add_csv_asset(\n",
        "    name=data_asset_name,\n",
        "    batching_regex=r\"your_dataset\\.csv\"\n",
        ")\n",
        "\n",
        "# Create a Batch Request\n",
        "batch_request = BatchRequest(\n",
        "    datasource_name=datasource_name,\n",
        "    data_connector_name=\"default_inferred_data_connector_name\",\n",
        "    data_asset_name=data_asset_name\n",
        ")\n",
        "\n",
        "# Create an Expectation Suite\n",
        "expectation_suite_name = \"my_expectation_suite\"\n",
        "context.add_or_update_expectation_suite(expectation_suite_name)\n",
        "\n",
        "# Get a Validator\n",
        "validator = context.get_validator(\n",
        "    batch_request=batch_request,\n",
        "    expectation_suite_name=expectation_suite_name\n",
        ")\n",
        "\n",
        "# Define Expectations\n",
        "validator.expect_column_values_to_not_be_null(column=\"column_name\")\n",
        "validator.expect_column_values_to_be_unique(column=\"unique_column\")\n",
        "validator.expect_column_values_to_be_between(column=\"numeric_column\", min_value=0, max_value=100)\n",
        "\n",
        "# Save the Expectation Suite\n",
        "validator.save_expectation_suite(discard_failed_expectations=False)\n",
        "\n",
        "# Run a Checkpoint\n",
        "checkpoint = gx.checkpoint.SimpleCheckpoint(\n",
        "    name=\"my_checkpoint\",\n",
        "    data_context=context,\n",
        "    validations=[\n",
        "        {\n",
        "            \"batch_request\": batch_request,\n",
        "            \"expectation_suite_name\": expectation_suite_name\n",
        "        }\n",
        "    ]\n",
        ")\n",
        "checkpoint_result = checkpoint.run()\n",
        "\n",
        "# Print Validation Results\n",
        "print(checkpoint_result)"
      ],
      "metadata": {
        "id": "TnUXk0ONlg5c"
      },
      "execution_count": null,
      "outputs": []
    }
  ]
}