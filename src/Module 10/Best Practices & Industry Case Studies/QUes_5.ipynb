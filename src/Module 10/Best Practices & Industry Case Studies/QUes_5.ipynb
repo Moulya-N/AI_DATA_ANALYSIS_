{
  "nbformat": 4,
  "nbformat_minor": 0,
  "metadata": {
    "colab": {
      "provenance": []
    },
    "kernelspec": {
      "name": "python3",
      "display_name": "Python 3"
    },
    "language_info": {
      "name": "python"
    }
  },
  "cells": [
    {
      "cell_type": "code",
      "source": [
        "import great_expectations as ge\n",
        "from great_expectations.data_context import FileDataContext\n",
        "from great_expectations.checkpoint import CheckpointConfig\n",
        "import os\n",
        "import shutil\n",
        "\n",
        "# Step 1: Clean slate (optional) – delete existing GE folder if needed\n",
        "if os.path.exists(\"great_expectations\"):\n",
        "    shutil.rmtree(\"great_expectations\")\n",
        "\n",
        "# Step 2: Initialize Great Expectations\n",
        "context = ge.get_context()\n",
        "\n",
        "# Step 3: Define your data path\n",
        "data_path = \"data/my_dataset.csv\"\n",
        "assert os.path.exists(data_path), f\"{data_path} not found.\"\n",
        "\n",
        "# Step 4: Create expectation suite\n",
        "suite_name = \"basic_validation\"\n",
        "context.add_or_update_expectation_suite(expectation_suite_name=suite_name)\n",
        "\n",
        "# Step 5: Create a batch request from a file\n",
        "batch_request = {\n",
        "    \"datasource_name\": \"default_pandas_datasource\",\n",
        "    \"data_connector_name\": \"default_runtime_data_connector_name\",\n",
        "    \"data_asset_name\": \"my_dataset\",\n",
        "    \"runtime_parameters\": {\"path\": data_path},\n",
        "    \"batch_identifiers\": {\"default_identifier_name\": \"default_id\"},\n",
        "}\n",
        "\n",
        "# Step 6: Load data and add expectations\n",
        "validator = context.get_validator(\n",
        "    batch_request=batch_request, expectation_suite_name=suite_name\n",
        ")\n",
        "columns_to_check = validator.columns  # Check all columns for completeness\n",
        "\n",
        "for col in columns_to_check:\n",
        "    validator.expect_column_values_to_not_be_null(col)\n",
        "\n",
        "# Save expectations\n",
        "validator.save_expectation_suite(discard_failed_expectations=False)\n",
        "\n",
        "# Step 7: Set up a checkpoint\n",
        "checkpoint_name = \"basic_validation_checkpoint\"\n",
        "checkpoint_config = CheckpointConfig(\n",
        "    name=checkpoint_name,\n",
        "    config_version=1.0,\n",
        "    class_name=\"Checkpoint\",\n",
        "    run_name_template=\"%Y%m%d-%H%M%S\",\n",
        "    validations=[{\"batch_request\": batch_request, \"expectation_suite_name\": suite_name}],\n",
        ")\n",
        "context.add_or_update_checkpoint(**checkpoint_config.to_dict())\n",
        "\n",
        "# Step 8: Run the checkpoint\n",
        "results = context.run_checkpoint(checkpoint_name=checkpoint_name)\n",
        "\n",
        "# Output result summary\n",
        "print(\"Validation Success:\", results[\"success\"])"
      ],
      "metadata": {
        "id": "nEskifiwua5x"
      },
      "execution_count": null,
      "outputs": []
    }
  ]
}