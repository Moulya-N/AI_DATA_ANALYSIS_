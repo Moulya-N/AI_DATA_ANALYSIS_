{
  "nbformat": 4,
  "nbformat_minor": 0,
  "metadata": {
    "colab": {
      "provenance": []
    },
    "kernelspec": {
      "name": "python3",
      "display_name": "Python 3"
    },
    "language_info": {
      "name": "python"
    }
  },
  "cells": [
    {
      "cell_type": "code",
      "source": [
        "import pandas as pd\n",
        "import joblib\n",
        "from evidently.report import Report\n",
        "from evidently.metric_preset import DataDriftPreset, ClassificationPreset\n",
        "import datetime\n",
        "import os\n",
        "\n",
        "# Load model\n",
        "model = joblib.load('model.joblib')\n",
        "\n",
        "# Load new (live) data\n",
        "df_new = pd.read_csv('new_data.csv')\n",
        "X_new = df_new.drop('target', axis=1)\n",
        "y_new = df_new['target']\n",
        "df_new['prediction'] = model.predict(X_new)\n",
        "\n",
        "# Load reference data\n",
        "df_reference = pd.read_csv('reference_data.csv')\n",
        "df_reference['prediction'] = model.predict(df_reference.drop('target', axis=1))\n",
        "\n",
        "# Generate report\n",
        "report = Report(metrics=[DataDriftPreset(), ClassificationPreset()])\n",
        "report.run(reference_data=df_reference, current_data=df_new)\n",
        "\n",
        "# Save report\n",
        "os.makedirs(\"reports\", exist_ok=True)\n",
        "timestamp = datetime.datetime.now().strftime(\"%Y%m%d_%H%M%S\")\n",
        "report_path = f\"reports/report_{timestamp}.html\"\n",
        "report.save_html(report_path)\n",
        "\n",
        "print(f\"Monitoring report saved: {report_path}\")"
      ],
      "metadata": {
        "id": "Yv5ldhyWnUxm"
      },
      "execution_count": null,
      "outputs": []
    }
  ]
}