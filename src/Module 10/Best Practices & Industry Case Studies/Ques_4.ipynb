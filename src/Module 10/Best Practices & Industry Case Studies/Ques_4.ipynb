{
  "nbformat": 4,
  "nbformat_minor": 0,
  "metadata": {
    "colab": {
      "provenance": []
    },
    "kernelspec": {
      "name": "python3",
      "display_name": "Python 3"
    },
    "language_info": {
      "name": "python"
    }
  },
  "cells": [
    {
      "cell_type": "code",
      "source": [
        "# 1. Import Required Libraries\n",
        "import pandas as pd\n",
        "import numpy as np\n",
        "from sklearn.model_selection import train_test_split\n",
        "from sklearn.ensemble import RandomForestClassifier\n",
        "from sklearn.metrics import classification_report\n",
        "\n",
        "# 2. Load Dataset\n",
        "df = pd.read_csv('healthcare_data.csv')  # Replace with your dataset file\n",
        "print(\"Initial Data Preview:\")\n",
        "print(df.head())\n",
        "\n",
        "# 3. Data Validation Function (automated checks)\n",
        "def validate_data(df):\n",
        "    # Remove duplicates\n",
        "    df = df.drop_duplicates()\n",
        "\n",
        "    # Validate age\n",
        "    if 'Age' in df.columns:\n",
        "        df = df[(df['Age'] >= 0) & (df['Age'] <= 120)]\n",
        "\n",
        "    # Validate gender (if applicable)\n",
        "    if 'Gender' in df.columns:\n",
        "        df = df[df['Gender'].isin(['Male', 'Female'])]\n",
        "\n",
        "    # Drop rows with missing values (or use imputation if preferred)\n",
        "    df = df.dropna()\n",
        "\n",
        "    return df\n",
        "\n",
        "# Apply"
      ],
      "metadata": {
        "id": "hJZ3PJsVtVpw"
      },
      "execution_count": null,
      "outputs": []
    }
  ]
}