{
  "nbformat": 4,
  "nbformat_minor": 0,
  "metadata": {
    "colab": {
      "provenance": []
    },
    "kernelspec": {
      "name": "python3",
      "display_name": "Python 3"
    },
    "language_info": {
      "name": "python"
    }
  },
  "cells": [
    {
      "cell_type": "code",
      "source": [
        "import pandas as pd\n",
        "import numpy as np\n",
        "import mlflow\n",
        "import mlflow.sklearn\n",
        "from sklearn.model_selection import train_test_split\n",
        "from sklearn.ensemble import RandomForestClassifier\n",
        "from sklearn.metrics import accuracy_score\n",
        "\n",
        "# 1. Load dataset\n",
        "def load_data():\n",
        "    # Replace with your actual dataset\n",
        "    data = pd.read_csv(\"ecommerce_data.csv\")\n",
        "    X = data.drop(\"purchase\", axis=1)\n",
        "    y = data[\"purchase\"]\n",
        "    return train_test_split(X, y, test_size=0.2, random_state=42)\n",
        "\n",
        "# 2. Train model with MLflow tracking\n",
        "def train():\n",
        "    X_train, X_test, y_train, y_test = load_data()\n",
        "\n",
        "    with mlflow.start_run():  # Start an MLflow experiment run\n",
        "        # Model parameters\n",
        "        n_estimators = 100\n",
        "        max_depth = 5\n",
        "        model = RandomForestClassifier(n_estimators=n_estimators, max_depth=max_depth, random_state=42)\n",
        "\n",
        "        # Train the model\n",
        "        model.fit(X_train, y_train)\n",
        "        predictions = model.predict(X_test)\n",
        "        acc = accuracy_score(y_test, predictions)\n",
        "\n",
        "        # Log parameters, metrics, and model\n",
        "        mlflow.log_param(\"n_estimators\", n_estimators)\n",
        "        mlflow.log_param(\"max_depth\", max_depth)\n",
        "        mlflow.log_metric(\"accuracy\", acc)\n",
        "\n",
        "        mlflow.sklearn.log_model(model, \"model\")\n",
        "\n",
        "        print(f\"Model logged with accuracy: {acc}\")\n",
        "\n",
        "if _name_ == \"_main_\":\n",
        "    train()"
      ],
      "metadata": {
        "id": "TzmC7bopyUss"
      },
      "execution_count": null,
      "outputs": []
    }
  ]
}