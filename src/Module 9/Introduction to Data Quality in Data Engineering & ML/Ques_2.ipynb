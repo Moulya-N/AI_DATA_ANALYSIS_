{
  "nbformat": 4,
  "nbformat_minor": 0,
  "metadata": {
    "colab": {
      "provenance": []
    },
    "kernelspec": {
      "name": "python3",
      "display_name": "Python 3"
    },
    "language_info": {
      "name": "python"
    }
  },
  "cells": [
    {
      "cell_type": "code",
      "source": [
        "# Step 1: Import libraries\n",
        "import pandas as pd\n",
        "\n",
        "# Step 2: Load the dataset\n",
        "df = pd.read_csv('your_dataset.csv')  # Replace with actual file name\n",
        "print(\"Original Data Info:\")\n",
        "print(df.info())\n",
        "print(\"\\nMissing Values:\\n\", df.isnull().sum())\n",
        "\n",
        "# Step 3: Mean Imputation for numerical columns\n",
        "df_mean_imputed = df.copy()\n",
        "for col in df_mean_imputed.select_dtypes(include=['number']).columns:\n",
        "    df_mean_imputed[col] = df_mean_imputed[col].fillna(df_mean_imputed[col].mean())\n",
        "\n",
        "# Step 4: Median Imputation for numerical columns\n",
        "df_median_imputed = df.copy()\n",
        "for col in df_median_imputed.select_dtypes(include=['number']).columns:\n",
        "    df_median_imputed[col] = df_median_imputed[col].fillna(df_median_imputed[col].median())\n",
        "\n",
        "# Step 5: Mode Imputation for categorical columns\n",
        "df_mode_imputed = df.copy()\n",
        "for col in df_mode_imputed.select_dtypes(include=['object']).columns:\n",
        "    df_mode_imputed[col] = df_mode_imputed[col].fillna(df_mode_imputed[col].mode()[0])\n",
        "\n",
        "# Step 6: Check missing values after imputation\n",
        "print(\"\\nMissing Values After Mean Imputation:\\n\", df_mean_imputed.isnull().sum())\n",
        "print(\"\\nMissing Values After Median Imputation:\\n\", df_median_imputed.isnull().sum())\n",
        "print(\"\\nMissing Values After Mode Imputation:\\n\", df_mode_imputed.isnull().sum())\n",
        "\n",
        "# Step 7: (Optional) Save the imputed dataframes\n",
        "df_mean_imputed.to_csv('mean_imputed.csv', index=False)\n",
        "df_median_imputed.to_csv('median_imputed.csv', index=False)\n",
        "df_mode_imputed.to_csv('mode_imputed.csv', index=False)"
      ],
      "metadata": {
        "id": "E9F92ZKHjMXS"
      },
      "execution_count": null,
      "outputs": []
    }
  ]
}