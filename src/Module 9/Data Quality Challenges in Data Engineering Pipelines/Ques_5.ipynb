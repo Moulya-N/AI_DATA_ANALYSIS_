{
  "nbformat": 4,
  "nbformat_minor": 0,
  "metadata": {
    "colab": {
      "provenance": []
    },
    "kernelspec": {
      "name": "python3",
      "display_name": "Python 3"
    },
    "language_info": {
      "name": "python"
    }
  },
  "cells": [
    {
      "cell_type": "code",
      "source": [
        "from user_pb2 import UserData\n",
        "\n",
        "def validate_user(user):\n",
        "    if not user.username:\n",
        "        raise ValueError(\"Username is required\")\n",
        "    if not isinstance(user.age, int) or user.age < 0:\n",
        "        raise ValueError(\"Age must be a positive integer\")\n",
        "    if user.email and \"@\" not in user.email:\n",
        "        raise ValueError(\"Invalid email format\")\n",
        "    return True\n",
        "\n",
        "# Example usage:\n",
        "user_data = UserData(username=\"JohnDoe\", age=30, email=\"john.doe@example.com\")\n",
        "try:\n",
        "    validate_user(user_data)\n",
        "    print(\"User is valid!\")\n",
        "except ValueError as e:\n",
        "    print(f\"Validation failed: {e}\")"
      ],
      "metadata": {
        "id": "TkdDXJsro0sh"
      },
      "execution_count": null,
      "outputs": []
    }
  ]
}