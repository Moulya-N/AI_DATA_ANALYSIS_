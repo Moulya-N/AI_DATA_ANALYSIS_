{
  "nbformat": 4,
  "nbformat_minor": 0,
  "metadata": {
    "colab": {
      "provenance": []
    },
    "kernelspec": {
      "name": "python3",
      "display_name": "Python 3"
    },
    "language_info": {
      "name": "python"
    }
  },
  "cells": [
    {
      "cell_type": "code",
      "source": [
        "# Step 1: Import Required Libraries\n",
        "from pyspark.sql import SparkSession\n",
        "from pyspark.sql.functions import lit\n",
        "from pyspark.sql.types import StringType\n",
        "\n",
        "# Step 2: Initialize Spark Session\n",
        "spark = SparkSession.builder \\\n",
        "    .appName(\"SchemaMismatchHandler\") \\\n",
        "    .getOrCreate()\n",
        "\n",
        "# Step 3: Read the Input CSV Files with Header Option\n",
        "df1 = spark.read.option(\"header\", True).csv(\"path/to/file1.csv\")\n",
        "df2 = spark.read.option(\"header\", True).csv(\"path/to/file2.csv\")\n",
        "\n",
        "# Step 4: Get Union of All Columns from Both DataFrames\n",
        "columns_df1 = set(df1.columns)\n",
        "columns_df2 = set(df2.columns)\n",
        "all_columns = list(columns_df1.union(columns_df2))\n",
        "\n",
        "# Step 5: Add Missing Columns with Null Values\n",
        "def add_missing_columns(df, all_cols):\n",
        "    for col in all_cols:\n",
        "        if col not in df.columns:\n",
        "            df = df.withColumn(col, lit(None))\n",
        "    return df.select(sorted(all_cols))  # Ensures consistent column order\n",
        "\n",
        "df1_aligned = add_missing_columns(df1, all_columns)\n",
        "df2_aligned = add_missing_columns(df2, all_columns)\n",
        "\n",
        "# Optional: If necessary, cast conflicting columns to a common type\n",
        "# Example: Convert a column to StringType in both DataFrames\n",
        "# df1_aligned = df1_aligned.withColumn(\"some_column\", df1_aligned[\"some_column\"].cast(StringType()))\n",
        "# df2_aligned = df2_aligned.withColumn(\"some_column\", df2_aligned[\"some_column\"].cast(StringType()))\n",
        "\n",
        "# Step 6: Merge Both DataFrames\n",
        "merged_df = df1_aligned.unionByName(df2_aligned)\n",
        "\n",
        "# Step 7: Show or Save the Final Result\n",
        "merged_df.show(truncate=False)\n",
        "# merged_df.write.option(\"header\", True).csv(\"path/to/output.csv\")"
      ],
      "metadata": {
        "id": "KbXeACewljnU"
      },
      "execution_count": null,
      "outputs": []
    }
  ]
}