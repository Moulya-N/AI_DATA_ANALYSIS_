{
  "nbformat": 4,
  "nbformat_minor": 0,
  "metadata": {
    "colab": {
      "provenance": []
    },
    "kernelspec": {
      "name": "python3",
      "display_name": "Python 3"
    },
    "language_info": {
      "name": "python"
    }
  },
  "cells": [
    {
      "cell_type": "code",
      "source": [
        "import fastavro\n",
        "from fastavro.schema import load_schema\n",
        "\n",
        "# Load your schema from the file\n",
        "def load_avro_schema(schema_file):\n",
        "    return load_schema(schema_file)\n",
        "\n",
        "# Sample record that you want to validate\n",
        "record = {\n",
        "    \"name\": \"John Doe\",\n",
        "    \"age\": 30,\n",
        "    \"address\": {\n",
        "        \"street\": \"123 Main St\",\n",
        "        \"city\": \"Metropolis\"\n",
        "    }\n",
        "}\n",
        "\n",
        "# Function to validate the data against the Avro schema\n",
        "def validate_data(record, schema):\n",
        "    try:\n",
        "        # Try writing the record to a file to check if it matches the schema\n",
        "        with open('output.avro', 'wb') as out_file:\n",
        "            fastavro.writer(out_file, schema, [record])  # Writing validates the data against the schema\n",
        "        print(\"Validation passed!\")\n",
        "    except Exception as e:\n",
        "        print(f\"Validation failed: {e}\")\n",
        "\n",
        "# Example usage\n",
        "if _name_ == \"_main_\":\n",
        "    schema_file = 'employee_schema.avsc'  # Path to your Avro schema file\n",
        "    schema = load_avro_schema(schema_file)  # Load schema\n",
        "    validate_data(record, schema)  # Validate the record against the schema"
      ],
      "metadata": {
        "id": "gh53-YLan7wg"
      },
      "execution_count": null,
      "outputs": []
    }
  ]
}