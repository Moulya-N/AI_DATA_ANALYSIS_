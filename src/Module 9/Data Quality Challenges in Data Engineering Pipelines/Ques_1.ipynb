{
  "nbformat": 4,
  "nbformat_minor": 0,
  "metadata": {
    "colab": {
      "provenance": []
    },
    "kernelspec": {
      "name": "python3",
      "display_name": "Python 3"
    },
    "language_info": {
      "name": "python"
    }
  },
  "cells": [
    {
      "cell_type": "code",
      "source": [
        "import pandas as pd\n",
        "import os\n",
        "\n",
        "def load_data(file_path: str) -> pd.DataFrame:\n",
        "    \"\"\"\n",
        "    Loads the dataset from a CSV file.\n",
        "\n",
        "    :param file_path: Path to the CSV file\n",
        "    :return: DataFrame\n",
        "    \"\"\"\n",
        "    try:\n",
        "        df = pd.read_csv(file_path)\n",
        "        print(f\"Data loaded successfully from {file_path}\")\n",
        "        return df\n",
        "    except Exception as e:\n",
        "        print(f\"Error loading data: {e}\")\n",
        "        raise\n",
        "\n",
        "\n",
        "def detect_missing_values(df: pd.DataFrame) -> pd.DataFrame:\n",
        "    \"\"\"\n",
        "    Detects missing values in the DataFrame and returns a summary report.\n",
        "\n",
        "    :param df: Input DataFrame\n",
        "    :return: DataFrame with missing value counts and percentages\n",
        "    \"\"\"\n",
        "    missing_report = pd.DataFrame({\n",
        "        'Missing Count': df.isnull().sum(),\n",
        "        'Missing %': (df.isnull().sum() / len(df)) * 100\n",
        "    })\n",
        "    return missing_report\n",
        "\n",
        "\n",
        "def save_report(report: pd.DataFrame, output_path: str):\n",
        "    \"\"\"\n",
        "    Saves the missing value report to a CSV file.\n",
        "\n",
        "    :param report: DataFrame containing the missing value report\n",
        "    :param output_path: File path to save the report\n",
        "    \"\"\"\n",
        "    try:\n",
        "        os.makedirs(os.path.dirname(output_path), exist_ok=True)\n",
        "        report.to_csv(output_path)\n",
        "        print(f\"Missing value report saved at {output_path}\")\n",
        "    except Exception as e:\n",
        "        print(f\"Error saving report: {e}\")\n",
        "        raise\n",
        "\n",
        "\n",
        "if _name_ == \"_main_\":\n",
        "    # Set file paths\n",
        "    input_file = \"data/raw/data.csv\"  # Change this to your actual data path\n",
        "    output_file = \"artifacts/missing_value_report.csv\"\n",
        "\n",
        "    # Ingest data and detect missing values\n",
        "    data = load_data(input_file)\n",
        "    missing_value_report = detect_missing_values(data)\n",
        "    save_report(missing_value_report, output_file)"
      ],
      "metadata": {
        "id": "ginyf0O7ka3p"
      },
      "execution_count": null,
      "outputs": []
    }
  ]
}