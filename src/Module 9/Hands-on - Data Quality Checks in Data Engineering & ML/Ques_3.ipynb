{
  "nbformat": 4,
  "nbformat_minor": 0,
  "metadata": {
    "colab": {
      "provenance": []
    },
    "kernelspec": {
      "name": "python3",
      "display_name": "Python 3"
    },
    "language_info": {
      "name": "python"
    }
  },
  "cells": [
    {
      "cell_type": "code",
      "source": [
        "import shap\n",
        "import pandas as pd\n",
        "import matplotlib.pyplot as plt\n",
        "from xgboost import XGBClassifier\n",
        "\n",
        "# Load data for two time windows\n",
        "df_t1 = pd.read_csv('data_time1.csv')\n",
        "df_t2 = pd.read_csv('data_time2.csv')\n",
        "\n",
        "# Train a model (on T1 or full)\n",
        "model = XGBClassifier().fit(df_t1.drop('target', axis=1), df_t1['target'])\n",
        "\n",
        "# SHAP analysis\n",
        "explainer = shap.TreeExplainer(model)\n",
        "shap_values_t1 = explainer.shap_values(df_t1.drop('target', axis=1))\n",
        "shap_values_t2 = explainer.shap_values(df_t2.drop('target', axis=1))\n",
        "\n",
        "# Aggregate\n",
        "mean_shap_t1 = np.abs(shap_values_t1).mean(axis=0)\n",
        "mean_shap_t2 = np.abs(shap_values_t2).mean(axis=0)\n",
        "\n",
        "# Compare\n",
        "df_compare = pd.DataFrame({\n",
        "    'feature': df_t1.drop('target', axis=1).columns,\n",
        "    'SHAP_t1': mean_shap_t1,\n",
        "    'SHAP_t2': mean_shap_t2,\n",
        "    'drift': mean_shap_t2 - mean_shap_t1\n",
        "})\n",
        "\n",
        "df_compare.sort_values(by='drift', key=abs, ascending=False).head(10).plot(\n",
        "    x='feature', y=['SHAP_t1', 'SHAP_t2'], kind='bar'\n",
        ")\n",
        "plt.title(\"SHAP Feature Drift Over Time\")\n",
        "plt.show()"
      ],
      "metadata": {
        "id": "HfysM6eAXGFs"
      },
      "execution_count": null,
      "outputs": []
    }
  ]
}