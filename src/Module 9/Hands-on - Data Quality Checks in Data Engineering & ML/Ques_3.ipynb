{
  "nbformat": 4,
  "nbformat_minor": 0,
  "metadata": {
    "colab": {
      "provenance": []
    },
    "kernelspec": {
      "name": "python3",
      "display_name": "Python 3"
    },
    "language_info": {
      "name": "python"
    }
  },
  "cells": [
    {
      "cell_type": "code",
      "source": [
        "# shap_drift_analysis.py\n",
        "\n",
        "import pandas as pd\n",
        "import numpy as np\n",
        "import shap\n",
        "import matplotlib.pyplot as plt\n",
        "from xgboost import XGBClassifier\n",
        "import joblib\n",
        "import os\n",
        "\n",
        "# -------------------------------\n",
        "# STEP 1: Load and Prepare Data\n",
        "# -------------------------------\n",
        "df_t1 = pd.read_csv('data/data_time1.csv')\n",
        "df_t2 = pd.read_csv('data/data_time2.csv')\n",
        "\n",
        "X_t1 = df_t1.drop(columns=['target'])\n",
        "y_t1 = df_t1['target']\n",
        "\n",
        "X_t2 = df_t2.drop(columns=['target'])\n",
        "y_t2 = df_t2['target']\n",
        "\n",
        "# -------------------------------\n",
        "# STEP 2: Train Model on First Time Window\n",
        "# -------------------------------\n",
        "model = XGBClassifier(use_label_encoder=False, eval_metric='logloss')\n",
        "model.fit(X_t1, y_t1)\n",
        "\n",
        "# Save model\n",
        "os.makedirs('models', exist_ok=True)\n",
        "joblib.dump(model, 'models/model_time1.pkl')\n",
        "\n",
        "# -------------------------------\n",
        "# STEP 3: Compute SHAP Values\n",
        "# -------------------------------\n",
        "explainer = shap.TreeExplainer(model)\n",
        "shap_values_t1 = explainer.shap_values(X_t1)\n",
        "shap_values_t2 = explainer.shap_values(X_t2)\n",
        "\n",
        "# -------------------------------\n",
        "# STEP 4: Aggregate SHAP Values\n",
        "# -------------------------------\n",
        "mean_shap_t1 = np.abs(shap_values_t1).mean(axis=0)\n",
        "mean_shap_t2 = np.abs(shap_values_t2).mean(axis=0)\n",
        "\n",
        "df_compare = pd.DataFrame({\n",
        "    'feature': X_t1.columns,\n",
        "    'SHAP_t1': mean_shap_t1,\n",
        "    'SHAP_t2': mean_shap_t2,\n",
        "    'drift': mean_shap_t2 - mean_shap_t1\n",
        "})\n",
        "\n",
        "# Save to CSV\n",
        "os.makedirs('results', exist_ok=True)\n",
        "df_compare.to_csv('results/shap_drift_values.csv', index=False)\n",
        "\n",
        "# -------------------------------\n",
        "# STEP 5: Visualize Feature Drift\n",
        "# -------------------------------\n",
        "df_plot = df_compare.reindex(df_compare.drift.abs().sort_values(ascending=False).index).head(10)\n",
        "\n",
        "df_plot.plot(x='feature', y=['SHAP_t1', 'SHAP_t2'], kind='bar')\n",
        "plt.title(\"Top 10 Feature Drift (Mean |SHAP| Values)\")\n",
        "plt.ylabel(\"Mean |SHAP Value|\")\n",
        "plt.xticks(rotation=45)\n",
        "plt.tight_layout()\n",
        "plt.savefig('results/shap_drift_plot.png')\n",
        "plt.show()"
      ],
      "metadata": {
        "id": "BJU7LctEYWYe"
      },
      "execution_count": null,
      "outputs": []
    }
  ]
}