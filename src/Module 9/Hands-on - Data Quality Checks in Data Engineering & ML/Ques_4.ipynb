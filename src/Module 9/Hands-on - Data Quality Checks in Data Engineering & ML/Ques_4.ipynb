{
  "nbformat": 4,
  "nbformat_minor": 0,
  "metadata": {
    "colab": {
      "provenance": []
    },
    "kernelspec": {
      "name": "python3",
      "display_name": "Python 3"
    },
    "language_info": {
      "name": "python"
    }
  },
  "cells": [
    {
      "cell_type": "code",
      "source": [
        "import pandas as pd\n",
        "import os\n",
        "\n",
        "# Define expected schema\n",
        "expected_schema = {\n",
        "    'id': 'int64',\n",
        "    'name': 'object',\n",
        "    'age': 'int64',\n",
        "    'email': 'object'\n",
        "}\n",
        "\n",
        "# Path to the folder containing input CSVs\n",
        "data_folder = 'data/input_files/'\n",
        "\n",
        "def check_schema(file_path):\n",
        "    df = pd.read_csv(file_path)\n",
        "    actual_schema = dict(df.dtypes)\n",
        "\n",
        "    # Normalize dtype for comparison\n",
        "    actual_schema = {col: str(dtype) for col, dtype in actual_schema.items()}\n",
        "\n",
        "    mismatches = {}\n",
        "    for col, expected_dtype in expected_schema.items():\n",
        "        actual_dtype = actual_schema.get(col)\n",
        "        if actual_dtype != expected_dtype:\n",
        "            mismatches[col] = {'expected': expected_dtype, 'actual': actual_dtype}\n",
        "\n",
        "    # Extra columns\n",
        "    extra_columns = set(actual_schema.keys()) - set(expected_schema.keys())\n",
        "    missing_columns = set(expected_schema.keys()) - set(actual_schema.keys())\n",
        "\n",
        "    return mismatches, extra_columns, missing_columns\n",
        "\n",
        "# Iterate over files and validate\n",
        "for file_name in os.listdir(data_folder):\n",
        "    if file_name.endswith('.csv'):\n",
        "        file_path = os.path.join(data_folder, file_name)\n",
        "        mismatches, extra, missing = check_schema(file_path)\n",
        "\n",
        "        if mismatches or extra or missing:\n",
        "            print(f\"\\nSchema issues in file: {file_name}\")\n",
        "            if mismatches:\n",
        "                print(\"Type mismatches:\", mismatches)\n",
        "            if extra:\n",
        "                print(\"Extra columns:\", extra)\n",
        "            if missing:\n",
        "                print(\"Missing columns:\", missing)\n",
        "        else:\n",
        "            print(f\"{file_name} passed schema validation.\")"
      ],
      "metadata": {
        "id": "6S57POs1ZS-I"
      },
      "execution_count": null,
      "outputs": []
    }
  ]
}