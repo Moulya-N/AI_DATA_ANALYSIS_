{
  "nbformat": 4,
  "nbformat_minor": 0,
  "metadata": {
    "colab": {
      "provenance": []
    },
    "kernelspec": {
      "name": "python3",
      "display_name": "Python 3"
    },
    "language_info": {
      "name": "python"
    }
  },
  "cells": [
    {
      "cell_type": "code",
      "source": [
        "# adversarial_validation.py\n",
        "\n",
        "# Step 1: Import Required Libraries\n",
        "import pandas as pd\n",
        "import numpy as np\n",
        "from sklearn.model_selection import train_test_split\n",
        "from sklearn.ensemble import RandomForestClassifier\n",
        "from sklearn.metrics import roc_auc_score\n",
        "import matplotlib.pyplot as plt\n",
        "import seaborn as sns\n",
        "\n",
        "# Step 2: Load Train and Test Datasets\n",
        "train = pd.read_csv('path/to/train.csv')  # Update with actual path\n",
        "test = pd.read_csv('path/to/test.csv')    # Update with actual path\n",
        "\n",
        "# Step 3: Label the Datasets\n",
        "train['is_test'] = 0\n",
        "test['is_test'] = 1\n",
        "\n",
        "# Step 4: Ensure Common Columns\n",
        "common_cols = [col for col in train.columns if col in test.columns and col != 'is_test']\n",
        "train = train[common_cols + ['is_test']]\n",
        "test = test[common_cols + ['is_test']]\n",
        "\n",
        "# Step 5: Combine the Datasets\n",
        "combined = pd.concat([train, test], ignore_index=True)\n",
        "\n",
        "# Step 6: Handle Missing Values (optional: can also use fillna)\n",
        "combined = combined.dropna(axis=1)\n",
        "\n",
        "# Step 7: Encode Categorical Variables\n",
        "combined = pd.get_dummies(combined)\n",
        "\n",
        "# Step 8: Prepare Features and Labels\n",
        "X = combined.drop('is_test', axis=1)\n",
        "y = combined['is_test']\n",
        "\n",
        "# Step 9: Split for Training and Validation\n",
        "X_train, X_val, y_train, y_val = train_test_split(X, y, test_size=0.2, random_state=42)\n",
        "\n",
        "# Step 10: Train the Adversarial Classifier\n",
        "clf = RandomForestClassifier(n_estimators=100, random_state=42)\n",
        "clf.fit(X_train, y_train)\n",
        "\n",
        "# Step 11: Predict and Evaluate\n",
        "y_pred = clf.predict_proba(X_val)[:, 1]\n",
        "auc_score = roc_auc_score(y_val, y_pred)\n",
        "\n",
        "print(f\"Adversarial Validation AUC Score: {auc_score:.4f}\")\n",
        "if auc_score > 0.6:\n",
        "    print(\">> Significant data drift detected between train and test datasets.\")\n",
        "elif auc_score < 0.55:\n",
        "    print(\">> No significant data drift detected.\")\n",
        "else:\n",
        "    print(\">> Slight drift may be present.\")\n",
        "\n",
        "# Step 12: Plot Feature Importances\n",
        "importances = pd.Series(clf.feature_importances_, index=X.columns)\n",
        "importances.sort_values(ascending=False).head(20).plot(kind='barh', figsize=(10, 6))\n",
        "plt.title('Top 20 Important Features Indicating Drift')\n",
        "plt.xlabel('Importance')\n",
        "plt.tight_layout()\n",
        "plt.show()"
      ],
      "metadata": {
        "id": "-A7aNvCd0Sa8"
      },
      "execution_count": null,
      "outputs": []
    }
  ]
}