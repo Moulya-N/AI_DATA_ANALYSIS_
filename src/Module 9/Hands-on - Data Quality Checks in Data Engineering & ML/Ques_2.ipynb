{
  "nbformat": 4,
  "nbformat_minor": 0,
  "metadata": {
    "colab": {
      "provenance": []
    },
    "kernelspec": {
      "name": "python3",
      "display_name": "Python 3"
    },
    "language_info": {
      "name": "python"
    }
  },
  "cells": [
    {
      "cell_type": "code",
      "source": [
        "import pandas as pd\n",
        "from sklearn.ensemble import RandomForestClassifier\n",
        "from sklearn.model_selection import train_test_split\n",
        "from sklearn.metrics import roc_auc_score\n",
        "from sklearn.preprocessing import LabelEncoder\n",
        "import warnings\n",
        "warnings.filterwarnings(\"ignore\")\n",
        "\n",
        "def load_data():\n",
        "    train = pd.read_csv(\"train.csv\")\n",
        "    test = pd.read_csv(\"test.csv\")\n",
        "\n",
        "    # Drop target column if present in train\n",
        "    if 'target' in train.columns:\n",
        "        train = train.drop(columns=['target'])\n",
        "\n",
        "    # Add identifier for adversarial validation\n",
        "    train['is_test'] = 0\n",
        "    test['is_test'] = 1\n",
        "\n",
        "    return train, test\n",
        "\n",
        "def preprocess(train, test):\n",
        "    combined = pd.concat([train, test], axis=0, ignore_index=True)\n",
        "\n",
        "    # Label encoding for categorical features\n",
        "    for col in combined.select_dtypes(include=['object']).columns:\n",
        "        le = LabelEncoder()\n",
        "        combined[col] = combined[col].fillna(\"NA\")\n",
        "        combined[col] = le.fit_transform(combined[col])\n",
        "\n",
        "    # Fill missing values\n",
        "    combined = combined.fillna(-999)\n",
        "\n",
        "    return combined\n",
        "\n",
        "def run_adversarial_validation(combined):\n",
        "    X = combined.drop(columns=[\"is_test\"])\n",
        "    y = combined[\"is_test\"]\n",
        "\n",
        "    X_train, X_val, y_train, y_val = train_test_split(X, y, test_size=0.3, random_state=42, stratify=y)\n",
        "\n",
        "    clf = RandomForestClassifier(n_estimators=100, random_state=42, n_jobs=-1)\n",
        "    clf.fit(X_train, y_train)\n",
        "\n",
        "    val_preds = clf.predict_proba(X_val)[:, 1]\n",
        "    auc = roc_auc_score(y_val, val_preds)\n",
        "    print(f\"\\nAdversarial Validation AUC: {auc:.4f}\")\n",
        "\n",
        "    return auc\n",
        "\n",
        "def main():\n",
        "    print(\"Loading data...\")\n",
        "    train, test = load_data()\n",
        "    print(\"Preprocessing...\")\n",
        "    combined = preprocess(train, test)\n",
        "    print(\"Running adversarial validation...\")\n",
        "    auc = run_adversarial_validation(combined)\n",
        "\n",
        "    with open(\"adversarial_validation_result.txt\", \"w\") as f:\n",
        "        f.write(f\"Adversarial Validation AUC: {auc:.4f}\\n\")\n",
        "        if auc > 0.75:\n",
        "            f.write(\"=> Significant data drift detected between train and test datasets.\\n\")\n",
        "        elif auc < 0.55:\n",
        "            f.write(\"=> Minimal or no data drift detected.\\n\")\n",
        "        else:\n",
        "            f.write(\"=> Moderate data drift detected.\\n\")\n",
        "\n",
        "if _name_ == \"_main_\":\n",
        "    main()"
      ],
      "metadata": {
        "id": "3nEYSPZPV6q_"
      },
      "execution_count": null,
      "outputs": []
    }
  ]
}