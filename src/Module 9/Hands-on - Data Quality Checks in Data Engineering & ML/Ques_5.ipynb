{
  "nbformat": 4,
  "nbformat_minor": 0,
  "metadata": {
    "colab": {
      "provenance": []
    },
    "kernelspec": {
      "name": "python3",
      "display_name": "Python 3"
    },
    "language_info": {
      "name": "python"
    }
  },
  "cells": [
    {
      "cell_type": "code",
      "source": [
        "import pandas as pd\n",
        "\n",
        "def detect_schema_mismatch(expected_schema: dict, actual_df: pd.DataFrame):\n",
        "    \"\"\"\n",
        "    Detect mismatches between expected schema and actual DataFrame schema.\n",
        "\n",
        "    Args:\n",
        "    - expected_schema: dict with column names as keys and data types as values\n",
        "    - actual_df: pandas DataFrame of the actual data\n",
        "\n",
        "    Returns:\n",
        "    - dict with keys 'missing_columns', 'extra_columns', 'type_mismatches'\n",
        "    \"\"\"\n",
        "    expected_cols = set(expected_schema.keys())\n",
        "    actual_cols = set(actual_df.columns)\n",
        "\n",
        "    missing_columns = expected_cols - actual_cols\n",
        "    extra_columns = actual_cols - expected_cols\n",
        "\n",
        "    type_mismatches = {}\n",
        "    for col in expected_cols.intersection(actual_cols):\n",
        "        expected_type = expected_schema[col]\n",
        "        actual_type = str(actual_df[col].dtype)\n",
        "        # Simplify dtype names for comparison\n",
        "        if expected_type.lower() not in actual_type.lower():\n",
        "            type_mismatches[col] = {'expected': expected_type, 'actual': actual_type}\n",
        "\n",
        "    return {\n",
        "        'missing_columns': missing_columns,\n",
        "        'extra_columns': extra_columns,\n",
        "        'type_mismatches': type_mismatches\n",
        "    }\n",
        "\n",
        "\n",
        "# Example usage:\n",
        "expected_schema = {\n",
        "    'id': 'int64',\n",
        "    'name': 'object',\n",
        "    'age': 'int64',\n",
        "    'salary': 'float64'\n",
        "}\n",
        "\n",
        "# Load your actual data, for example:\n",
        "# actual_df = pd.read_csv('your_data.csv')\n",
        "\n",
        "# Example actual data for demonstration\n",
        "data = {\n",
        "    'id': [1, 2, 3],\n",
        "    'name': ['Alice', 'Bob', 'Charlie'],\n",
        "    'age': ['25', '30', '35'],  # age as string instead of int\n",
        "    'bonus': [1000, 1500, 1200]  # extra column not expected\n",
        "}\n",
        "actual_df = pd.DataFrame(data)\n",
        "\n",
        "mismatches = detect_schema_mismatch(expected_schema, actual_df)\n",
        "print(\"Missing columns:\", mismatches['missing_columns'])\n",
        "print(\"Extra columns:\", mismatches['extra_columns'])\n",
        "print(\"Type mismatches:\", mismatches['type_mismatches'])"
      ],
      "metadata": {
        "id": "RyP6FRb2bVou"
      },
      "execution_count": null,
      "outputs": []
    }
  ]
}