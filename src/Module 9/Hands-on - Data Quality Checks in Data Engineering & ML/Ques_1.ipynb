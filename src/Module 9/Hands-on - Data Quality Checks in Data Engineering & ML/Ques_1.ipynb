{
  "nbformat": 4,
  "nbformat_minor": 0,
  "metadata": {
    "colab": {
      "provenance": []
    },
    "kernelspec": {
      "name": "python3",
      "display_name": "Python 3"
    },
    "language_info": {
      "name": "python"
    }
  },
  "cells": [
    {
      "cell_type": "code",
      "execution_count": null,
      "metadata": {
        "id": "Wg7L84ss4FHo"
      },
      "outputs": [],
      "source": [
        "import pandas as pd\n",
        "from scipy.stats import ks_2samp\n",
        "\n",
        "# Load your reference and current datasets\n",
        "reference_df = pd.read_csv('reference.csv')\n",
        "current_df = pd.read_csv('current.csv')\n",
        "\n",
        "# Function to perform KS test for each numeric column\n",
        "def detect_data_drift(reference_df, current_df, threshold=0.05):\n",
        "    drift_results = {}\n",
        "\n",
        "    numeric_columns = reference_df.select_dtypes(include=['int64', 'float64']).columns\n",
        "\n",
        "    for column in numeric_columns:\n",
        "        if column in current_df.columns:\n",
        "            stat, p_value = ks_2samp(reference_df[column].dropna(), current_df[column].dropna())\n",
        "            drift_results[column] = {\n",
        "                'p_value': p_value,\n",
        "                'drift_detected': p_value < threshold\n",
        "            }\n",
        "\n",
        "    return drift_results\n",
        "\n",
        "# Run data drift detection\n",
        "results = detect_data_drift(reference_df, current_df)\n",
        "\n",
        "# Print results\n",
        "for column, result in results.items():\n",
        "    print(f\"Column: {column}\")\n",
        "    print(f\"  p-value: {result['p_value']:.5f}\")\n",
        "    print(f\"  Drift detected: {result['drift_detected']}\")"
      ]
    }
  ]
}