{
  "nbformat": 4,
  "nbformat_minor": 0,
  "metadata": {
    "colab": {
      "provenance": []
    },
    "kernelspec": {
      "name": "python3",
      "display_name": "Python 3"
    },
    "language_info": {
      "name": "python"
    }
  },
  "cells": [
    {
      "cell_type": "code",
      "execution_count": null,
      "metadata": {
        "id": "l7SDjQr_T6Ea"
      },
      "outputs": [],
      "source": [
        "import pandas as pd\n",
        "from scipy.stats import ks_2samp\n",
        "\n",
        "def detect_drift(reference_df, current_df, threshold=0.05):\n",
        "    drift_report = {}\n",
        "    common_columns = list(set(reference_df.columns) & set(current_df.columns))\n",
        "\n",
        "    for col in common_columns:\n",
        "        if pd.api.types.is_numeric_dtype(reference_df[col]) and pd.api.types.is_numeric_dtype(current_df[col]):\n",
        "            stat, p_value = ks_2samp(reference_df[col].dropna(), current_df[col].dropna())\n",
        "            drift_report[col] = {\n",
        "                \"p_value\": p_value,\n",
        "                \"drift\": p_value < threshold\n",
        "            }\n",
        "\n",
        "    return drift_report\n",
        "\n",
        "def main():\n",
        "    # Load datasets\n",
        "    reference_df = pd.read_csv(\"data/reference.csv\")\n",
        "    current_df = pd.read_csv(\"data/current.csv\")\n",
        "\n",
        "    # Detect drift\n",
        "    report = detect_drift(reference_df, current_df)\n",
        "\n",
        "    # Print report\n",
        "    print(\"\\nData Drift Report (Kolmogorov-Smirnov Test):\")\n",
        "    print(\"=============================================\")\n",
        "    for feature, result in report.items():\n",
        "        status = \"Drift Detected\" if result['drift'] else \"No Drift\"\n",
        "        print(f\"{feature}: {status} (p-value = {result['p_value']:.4f})\")\n",
        "\n",
        "if _name_ == \"_main_\":\n",
        "    main()"
      ]
    }
  ]
}