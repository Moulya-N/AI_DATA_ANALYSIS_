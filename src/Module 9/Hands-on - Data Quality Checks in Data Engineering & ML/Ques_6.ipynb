{
  "nbformat": 4,
  "nbformat_minor": 0,
  "metadata": {
    "colab": {
      "provenance": []
    },
    "kernelspec": {
      "name": "python3",
      "display_name": "Python 3"
    },
    "language_info": {
      "name": "python"
    }
  },
  "cells": [
    {
      "cell_type": "code",
      "source": [
        "import pandas as pd\n",
        "from sklearn.datasets import load_iris\n",
        "from evidently.report import Report\n",
        "from evidently.metrics import DataDriftPreset\n",
        "\n",
        "# Load the Iris dataset\n",
        "iris = load_iris(as_frame=True)\n",
        "data = iris.frame\n",
        "\n",
        "# Simulate a baseline dataset (e.g., training data)\n",
        "baseline_data = data.sample(frac=0.5, random_state=42)\n",
        "\n",
        "# Simulate a current dataset (e.g., new incoming data)\n",
        "current_data = data.sample(frac=0.5, random_state=24)\n",
        "\n",
        "# Create a data drift report\n",
        "report = Report(metrics=[DataDriftPreset()])\n",
        "\n",
        "# Run the report\n",
        "report.run(reference_data=baseline_data, current_data=current_data)\n",
        "\n",
        "# Save the report to an HTML file\n",
        "report.save_html(\"data_drift_report.html\")"
      ],
      "metadata": {
        "id": "CS9Xx9QncKe9"
      },
      "execution_count": null,
      "outputs": []
    }
  ]
}