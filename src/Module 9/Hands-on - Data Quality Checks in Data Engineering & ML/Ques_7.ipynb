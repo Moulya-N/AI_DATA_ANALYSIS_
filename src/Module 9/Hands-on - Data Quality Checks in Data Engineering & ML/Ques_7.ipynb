{
  "nbformat": 4,
  "nbformat_minor": 0,
  "metadata": {
    "colab": {
      "provenance": []
    },
    "kernelspec": {
      "name": "python3",
      "display_name": "Python 3"
    },
    "language_info": {
      "name": "python"
    }
  },
  "cells": [
    {
      "cell_type": "code",
      "source": [
        "from evidently.report import Report\n",
        "from evidently.metric_preset import DataDriftPreset\n",
        "\n",
        "# Initialize the report with the DataDriftPreset\n",
        "report = Report(metrics=[DataDriftPreset()])\n",
        "\n",
        "# Run the report on the reference and current datasets\n",
        "report.run(reference_data=reference_df, current_data=current_df)\n",
        "\n",
        "# Save the report as an HTML file\n",
        "report.save_html(\"data_drift_report.html\")"
      ],
      "metadata": {
        "id": "tRkGsW0rdao2"
      },
      "execution_count": null,
      "outputs": []
    }
  ]
}