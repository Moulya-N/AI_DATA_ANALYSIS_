{
  "nbformat": 4,
  "nbformat_minor": 0,
  "metadata": {
    "colab": {
      "provenance": []
    },
    "kernelspec": {
      "name": "python3",
      "display_name": "Python 3"
    },
    "language_info": {
      "name": "python"
    }
  },
  "cells": [
    {
      "cell_type": "code",
      "source": [
        "import pandas as pd\n",
        "import numpy as np\n",
        "from aif360.datasets import AdultDataset\n",
        "from aif360.algorithms.preprocessing import Reweighing\n",
        "from sklearn.linear_model import LogisticRegression\n",
        "from sklearn.preprocessing import StandardScaler\n",
        "from sklearn.metrics import accuracy_score, classification_report\n",
        "from aif360.metrics import ClassificationMetric\n",
        "\n",
        "# Load the dataset\n",
        "dataset = AdultDataset(protected_attribute_names=['sex'],\n",
        "                       privileged_classes=[['Male']],\n",
        "                       features_to_drop=['education-num'])\n",
        "\n",
        "# Split into train and test\n",
        "dataset_train, dataset_test = dataset.split([0.7], shuffle=True)\n",
        "\n",
        "# Apply reweighing\n",
        "RW = Reweighing(unprivileged_groups=[{'sex': 0}],  # 0 = Female\n",
        "                privileged_groups=[{'sex': 1}])    # 1 = Male\n",
        "RW.fit(dataset_train)\n",
        "dataset_train_transf = RW.transform(dataset_train)\n",
        "\n",
        "# Scale features\n",
        "scaler = StandardScaler()\n",
        "X_train = scaler.fit_transform(dataset_train_transf.features)\n",
        "y_train = dataset_train_transf.labels.ravel()\n",
        "sample_weight = dataset_train_transf.instance_weights\n",
        "\n",
        "X_test = scaler.transform(dataset_test.features)\n",
        "y_test = dataset_test.labels.ravel()\n",
        "\n",
        "# Train logistic regression model\n",
        "clf = LogisticRegression(solver='liblinear')\n",
        "clf.fit(X_train, y_train, sample_weight=sample_weight)\n",
        "\n",
        "# Predict on test data\n",
        "y_pred = clf.predict(X_test)\n",
        "\n",
        "# Evaluate\n",
        "print(\"Accuracy:\", accuracy_score(y_test, y_pred))\n",
        "print(\"Classification Report:\\n\", classification_report(y_test, y_pred))\n",
        "\n",
        "# Fairness Metrics\n",
        "pred_dataset = dataset_test.copy()\n",
        "pred_dataset.labels = y_pred.reshape(-1, 1)\n",
        "\n",
        "metric = ClassificationMetric(dataset_test, pred_dataset,\n",
        "                               unprivileged_groups=[{'sex': 0}],\n",
        "                               privileged_groups=[{'sex': 1}])\n",
        "\n",
        "print(\"Disparate Impact:\", metric.disparate_impact())\n",
        "print(\"Statistical Parity Difference:\", metric.statistical_parity_difference())"
      ],
      "metadata": {
        "id": "i1Obs8wTxmW-"
      },
      "execution_count": null,
      "outputs": []
    }
  ]
}