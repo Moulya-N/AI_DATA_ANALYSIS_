{
  "nbformat": 4,
  "nbformat_minor": 0,
  "metadata": {
    "colab": {
      "provenance": []
    },
    "kernelspec": {
      "name": "python3",
      "display_name": "Python 3"
    },
    "language_info": {
      "name": "python"
    }
  },
  "cells": [
    {
      "cell_type": "code",
      "source": [
        "import numpy as np\n",
        "import pandas as pd\n",
        "import matplotlib.pyplot as plt\n",
        "\n",
        "# Parameters\n",
        "n_periods = 10\n",
        "samples_per_period = 1000\n",
        "\n",
        "# Simulate data\n",
        "data = []\n",
        "for t in range(n_periods):\n",
        "    # Gradually increase the probability of class 1\n",
        "    prob_class_1 = t / (n_periods - 1)\n",
        "    y = np.random.choice([0, 1], size=samples_per_period, p=[1 - prob_class_1, prob_class_1])\n",
        "    df = pd.DataFrame({'time_period': t, 'target': y})\n",
        "    data.append(df)\n",
        "\n",
        "df_all = pd.concat(data)\n",
        "\n",
        "# Calculate distribution per time period\n",
        "distribution = df_all.groupby('time_period')['target'].mean()\n",
        "\n",
        "# Plotting\n",
        "plt.figure(figsize=(10, 6))\n",
        "plt.plot(distribution.index, distribution.values, marker='o')\n",
        "plt.title(\"Concept Drift in Binary Target Variable\")\n",
        "plt.xlabel(\"Time Period\")\n",
        "plt.ylabel(\"Proportion of Class 1\")\n",
        "plt"
      ],
      "metadata": {
        "id": "exl3sFR-txl2"
      },
      "execution_count": null,
      "outputs": []
    }
  ]
}