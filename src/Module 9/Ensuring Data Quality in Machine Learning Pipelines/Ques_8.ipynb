{
  "nbformat": 4,
  "nbformat_minor": 0,
  "metadata": {
    "colab": {
      "provenance": []
    },
    "kernelspec": {
      "name": "python3",
      "display_name": "Python 3"
    },
    "language_info": {
      "name": "python"
    }
  },
  "cells": [
    {
      "cell_type": "code",
      "source": [
        "import numpy as np\n",
        "from scipy.stats import ks_2samp\n",
        "import matplotlib.pyplot as plt\n",
        "\n",
        "# Simulate reference dataset (normal distribution)\n",
        "np.random.seed(42)\n",
        "reference_data = np.random.normal(loc=0, scale=1, size=1000)\n",
        "\n",
        "# Simulate test dataset with a slight shift (drift)\n",
        "test_data = np.random.normal(loc=0.5, scale=1.2, size=1000)\n",
        "\n",
        "# Apply Kolmogorov-Smirnov test\n",
        "ks_stat, p_value = ks_2samp(reference_data, test_data)\n",
        "\n",
        "# Output the result\n",
        "print(f\"KS Statistic: {ks_stat:.4f}\")\n",
        "print(f\"P-Value: {p_value:.4f}\")\n",
        "if p_value < 0.05:\n",
        "    print(\"Result: Drift detected (significant distribution change).\")\n",
        "else:\n",
        "    print(\"Result: No significant drift detected.\")\n",
        "\n",
        "# Optional: Visualize the distributions\n",
        "plt.hist(reference_data, bins=30, alpha=0.5, label='Reference Data')\n",
        "plt.hist(test_data, bins=30, alpha=0.5, label='Test Data')\n",
        "plt.legend()\n",
        "plt.title('Distribution Comparison')\n",
        "plt.show()"
      ],
      "metadata": {
        "id": "Q_o8E7sYyVaz"
      },
      "execution_count": null,
      "outputs": []
    }
  ]
}