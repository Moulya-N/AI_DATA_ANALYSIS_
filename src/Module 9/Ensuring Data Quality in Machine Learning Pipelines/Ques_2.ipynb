{
  "nbformat": 4,
  "nbformat_minor": 0,
  "metadata": {
    "colab": {
      "provenance": []
    },
    "kernelspec": {
      "name": "python3",
      "display_name": "Python 3"
    },
    "language_info": {
      "name": "python"
    }
  },
  "cells": [
    {
      "cell_type": "code",
      "source": [
        "# Step 1: Import Libraries\n",
        "import pandas as pd\n",
        "import matplotlib.pyplot as plt\n",
        "import seaborn as sns\n",
        "\n",
        "# Step 2: Load the Dataset\n",
        "df = pd.read_csv('adult.csv')  # Make sure this file is in your working directory\n",
        "df.columns = df.columns.str.strip()  # Clean column names by removing extra spaces\n",
        "\n",
        "# Step 3: Basic Exploration\n",
        "print(\"First 5 rows of the dataset:\")\n",
        "print(df.head())\n",
        "\n",
        "print(\"\\nColumn Names:\")\n",
        "print(df.columns)\n",
        "\n",
        "print(\"\\nValue counts for 'sex':\")\n",
        "print(df['sex'].value_counts())\n",
        "\n",
        "print(\"\\nValue counts for 'income':\")\n",
        "print(df['income'].value_counts())\n",
        "\n",
        "# Step 4: Check for Missing Values\n",
        "print(\"\\nMissing values per column:\")\n",
        "print(df.isnull().sum())\n",
        "\n",
        "# Step 5: Analyze Gender Representation Across Income Levels\n",
        "gender_income_distribution = pd.crosstab(df['sex'], df['income'], normalize='columns') * 100\n",
        "print(\"\\nGender distribution across income levels (%):\")\n",
        "print(gender_income_distribution)\n",
        "\n",
        "# Step 6: Visualize the Gender Distribution\n",
        "plt.figure(figsize=(8, 6))\n",
        "sns.countplot(data=df, x='income', hue='sex')\n",
        "plt.title(\"Gender Distribution Across Income Levels\")\n",
        "plt.xlabel(\"Income Level\")\n",
        "plt.ylabel(\"Count\")\n",
        "plt.legend(title=\"Gender\")\n",
        "plt.tight_layout()\n",
        "plt.show()\n",
        "\n",
        "# Step 7: Summary\n",
        "print(\"\\nSummary:\")\n",
        "print(\"This analysis shows how men and women are represented in the income groups.\")\n",
        "print(\"If there is a significantly lower percentage of females in the >50K group compared to the <=50K group, this may indicate a representation bias.\")"
      ],
      "metadata": {
        "id": "QN9toUAGsFHC"
      },
      "execution_count": null,
      "outputs": []
    }
  ]
}