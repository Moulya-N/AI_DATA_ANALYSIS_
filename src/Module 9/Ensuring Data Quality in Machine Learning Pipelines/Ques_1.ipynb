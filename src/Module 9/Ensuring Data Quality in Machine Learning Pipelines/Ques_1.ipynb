{
  "nbformat": 4,
  "nbformat_minor": 0,
  "metadata": {
    "colab": {
      "provenance": []
    },
    "kernelspec": {
      "name": "python3",
      "display_name": "Python 3"
    },
    "language_info": {
      "name": "python"
    }
  },
  "cells": [
    {
      "cell_type": "code",
      "source": [
        "# Step 1: Import Libraries\n",
        "import pandas as pd\n",
        "import seaborn as sns\n",
        "import matplotlib.pyplot as plt\n",
        "\n",
        "# Step 2: Load the Titanic Dataset\n",
        "df = pd.read_csv('titanic.csv')  # Ensure this path matches your file\n",
        "\n",
        "# Step 3: Display Basic Info and First Few Rows\n",
        "print(\"Initial Data Snapshot:\")\n",
        "print(df.head())\n",
        "print(\"\\nMissing Values Per Column:\")\n",
        "print(df.isnull().sum())\n",
        "\n",
        "# Step 4: Visualize Missing Data\n",
        "plt.figure(figsize=(10, 6))\n",
        "sns.heatmap(df.isnull(), cbar=False, cmap='viridis')\n",
        "plt.title(\"Missing Values in Titanic Dataset (Before Cleaning)\")\n",
        "plt.show()\n",
        "\n",
        "# Step 5: Handle Missing Data\n",
        "# Fill Age (numerical) with median\n",
        "df['Age'].fillna(df['Age'].median(), inplace=True)\n",
        "\n",
        "# Fill Embarked (categorical) with mode\n",
        "df['Embarked'].fillna(df['Embarked'].mode()[0], inplace=True)\n",
        "\n",
        "# Fill Fare (numerical) with median if missing\n",
        "df['Fare'].fillna(df['Fare'].median(), inplace=True)\n",
        "\n",
        "# Fill Cabin (categorical) with \"Unknown\"\n",
        "df['Cabin'].fillna(\"Unknown\", inplace=True)\n",
        "\n",
        "# Step 6: Check for Remaining Missing Values\n",
        "print(\"\\nMissing Values After Cleaning:\")\n",
        "print(df.isnull().sum())\n",
        "\n",
        "# Step 7: Visualize Again to Confirm Cleaning\n",
        "plt.figure(figsize=(10, 6))\n",
        "sns.heatmap(df.isnull(), cbar=False, cmap='viridis')\n",
        "plt.title(\"Missing Values in Titanic Dataset (After Cleaning)\")\n",
        "plt.show()\n",
        "\n",
        "# Step 8: Save Cleaned Dataset (optional)\n",
        "df.to_csv('titanic_cleaned.csv', index=False)"
      ],
      "metadata": {
        "id": "YtDI6PyorK3y"
      },
      "execution_count": null,
      "outputs": []
    }
  ]
}