{
  "nbformat": 4,
  "nbformat_minor": 0,
  "metadata": {
    "colab": {
      "provenance": []
    },
    "kernelspec": {
      "name": "python3",
      "display_name": "Python 3"
    },
    "language_info": {
      "name": "python"
    }
  },
  "cells": [
    {
      "cell_type": "code",
      "source": [
        "from sklearn.datasets import fetch_openml\n",
        "from sklearn.model_selection import train_test_split\n",
        "from sklearn.preprocessing import StandardScaler\n",
        "import pandas as pd\n",
        "import joblib\n",
        "\n",
        "# Load Boston housing data\n",
        "data = fetch_openml(name='boston', version=1, as_frame=True)\n",
        "X = data.data\n",
        "y = data.target\n",
        "\n",
        "# Split dataset\n",
        "X_train, X_test, y_train, y_test = train_test_split(X, y, test_size=0.2, random_state=42)\n",
        "\n",
        "# Apply StandardScaler\n",
        "scaler = StandardScaler()\n",
        "X_train_scaled = scaler.fit_transform(X_train)\n",
        "X_test_scaled = scaler.transform(X_test)\n",
        "\n",
        "# Save the scaler\n",
        "joblib.dump(scaler, 'scaler.pkl')\n",
        "\n",
        "# Save scaled datasets for training\n",
        "pd.DataFrame(X_train_scaled, columns=X.columns).to_csv(\"X_train_scaled.csv\", index=False)\n",
        "pd.DataFrame(X_test_scaled, columns=X.columns).to_csv(\"X_test_scaled.csv\", index=False)\n",
        "pd.DataFrame(y_train).to_csv(\"y_train.csv\", index=False)\n",
        "pd.DataFrame(y_test).to_csv(\"y_test.csv\", index=False)\n",
        "\n",
        "print(\"Data preprocessing complete. Scaled data and scaler saved.\")"
      ],
      "metadata": {
        "id": "60F6AjALu5NI"
      },
      "execution_count": null,
      "outputs": []
    }
  ]
}