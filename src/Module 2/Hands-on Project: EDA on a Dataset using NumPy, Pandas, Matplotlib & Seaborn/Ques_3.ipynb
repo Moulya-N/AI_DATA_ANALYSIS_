{
  "nbformat": 4,
  "nbformat_minor": 0,
  "metadata": {
    "colab": {
      "provenance": []
    },
    "kernelspec": {
      "name": "python3",
      "display_name": "Python 3"
    },
    "language_info": {
      "name": "python"
    }
  },
  "cells": [
    {
      "cell_type": "code",
      "source": [
        "import pandas as pd\n",
        "\n",
        "# Assuming you have already loaded your DataFrame as df\n",
        "# and it contains the columns 'petal_length' and 'petal_width'\n",
        "\n",
        "# Calculate the ratio and add it as a new column\n",
        "df['petal_ratio'] = df['petal_length'] / df['petal_width']8"
      ],
      "metadata": {
        "id": "j76ojP4wKYmn"
      },
      "execution_count": null,
      "outputs": []
    }
  ]
}