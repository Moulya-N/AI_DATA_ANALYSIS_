{
  "nbformat": 4,
  "nbformat_minor": 0,
  "metadata": {
    "colab": {
      "provenance": []
    },
    "kernelspec": {
      "name": "python3",
      "display_name": "Python 3"
    },
    "language_info": {
      "name": "python"
    }
  },
  "cells": [
    {
      "cell_type": "code",
      "source": [
        "import numpy as np\n",
        "\n",
        "data = np.array([10, 20, 30, 40, 50])  # Replace with actual dataset\n",
        "mean_value = np.mean(data)\n",
        "print(\"Mean of the dataset:\", mean_value)"
      ],
      "metadata": {
        "id": "hfbrfsK4JZcE"
      },
      "execution_count": null,
      "outputs": []
    }
  ]
}