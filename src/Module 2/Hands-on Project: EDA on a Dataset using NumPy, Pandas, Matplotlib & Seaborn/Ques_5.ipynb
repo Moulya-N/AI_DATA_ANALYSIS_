{
  "nbformat": 4,
  "nbformat_minor": 0,
  "metadata": {
    "colab": {
      "provenance": []
    },
    "kernelspec": {
      "name": "python3",
      "display_name": "Python 3"
    },
    "language_info": {
      "name": "python"
    }
  },
  "cells": [
    {
      "cell_type": "code",
      "source": [
        "import pandas as pd\n",
        "\n",
        "# Load your dataset (replace 'your_dataset.csv' with the actual file path)\n",
        "df = pd.read_csv('your_dataset.csv')\n",
        "\n",
        "# Check for missing values\n",
        "missing_values = df.isnull().sum()\n",
        "print(\"Missing values before imputation:\\n\", missing_values)\n",
        "\n",
        "# Impute missing values with the median for numeric columns\n",
        "df.fillna(df.median(numeric_only=True), inplace=True)\n",
        "\n",
        "# Optional: Verify that missing values are handled\n",
        "print(\"Missing values after imputation:\\n\", df.isnull().sum())\n",
        "\n",
        "# Save the cleaned dataset if needed\n",
        "df.to_csv('your_dataset_cleaned.csv', index=False)"
      ],
      "metadata": {
        "id": "kIFigcCHM47e"
      },
      "execution_count": null,
      "outputs": []
    }
  ]
}