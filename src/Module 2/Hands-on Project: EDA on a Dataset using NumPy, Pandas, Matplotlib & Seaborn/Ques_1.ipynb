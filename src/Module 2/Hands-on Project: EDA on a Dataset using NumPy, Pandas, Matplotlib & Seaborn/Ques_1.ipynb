{
  "nbformat": 4,
  "nbformat_minor": 0,
  "metadata": {
    "colab": {
      "provenance": []
    },
    "kernelspec": {
      "name": "python3",
      "display_name": "Python 3"
    },
    "language_info": {
      "name": "python"
    }
  },
  "cells": [
    {
      "cell_type": "code",
      "execution_count": null,
      "metadata": {
        "id": "8cV9PYKpH0_F"
      },
      "outputs": [],
      "source": [
        "import numpy as np, pandas as pd, matplotlib.pyplot as plt, seaborn as sns; from sklearn.datasets import load_iris; iris = load_iris(); df = pd.DataFrame(data=iris.data, columns=iris.feature_names); df['species'] = pd.Categorical.from_codes(iris.target, iris.target_names); print(df.head(), df.info(), df.describe()); print(\"Missing values:\\n\", df.isnull().sum()); print(\"Duplicates:\", df.duplicated().sum()); df.drop_duplicates(inplace=True); df.hist(edgecolor='black', figsize=(10,6)); plt.suptitle('Histogram'); plt.show(); sns.boxplot(data=df.drop('species', axis=1)); plt.title('Boxplot'); plt.show(); sns.pairplot(df, hue='species'); plt.suptitle('Pairplot by Species', y=1.02); plt.show(); sns.heatmap(df.corr(), annot=True, cmap='coolwarm'); plt.title('Correlation Heatmap'); plt.show(); print(\"Class distribution:\\n\", df['species'].value_counts())"
      ]
    }
  ]
}