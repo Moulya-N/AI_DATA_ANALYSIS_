{
  "nbformat": 4,
  "nbformat_minor": 0,
  "metadata": {
    "colab": {
      "provenance": []
    },
    "kernelspec": {
      "name": "python3",
      "display_name": "Python 3"
    },
    "language_info": {
      "name": "python"
    }
  },
  "cells": [
    {
      "cell_type": "code",
      "execution_count": null,
      "metadata": {
        "id": "Z6DJLA7x6B9q"
      },
      "outputs": [],
      "source": [
        "import pandas as pd  # Importing the pandas library for data analysis\n",
        "# Load dataset from a CSV file (replace 'your_dataset.csv' with actual file name or path)\n",
        "df = pd.read_csv('your_dataset.csv')\n",
        "print(\"First 5 rows of the dataset:\")\n",
        "print(df.head())  # Display first 5 rows\n",
        "print(\"\\nDataset information:\")\n",
        "print(df.info())  # Show info about dataset: columns, non-null counts, data types\n",
        "print(\"\\nDescriptive statistics of the dataset:\")\n",
        "print(df.describe())  # Show basic statistical details like mean, count, std, etc."
      ]
    }
  ]
}