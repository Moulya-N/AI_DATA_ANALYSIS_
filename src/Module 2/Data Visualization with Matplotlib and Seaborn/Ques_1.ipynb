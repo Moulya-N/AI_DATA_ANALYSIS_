{
  "nbformat": 4,
  "nbformat_minor": 0,
  "metadata": {
    "colab": {
      "provenance": []
    },
    "kernelspec": {
      "name": "python3",
      "display_name": "Python 3"
    },
    "language_info": {
      "name": "python"
    }
  },
  "cells": [
    {
      "cell_type": "code",
      "source": [
        "import matplotlib.pyplot as plt\n",
        "\n",
        "# Define the data\n",
        "products = ['A', 'B', 'C', 'D', 'E']\n",
        "sales_values = [23, 75, 57, 90, 65]\n",
        "\n",
        "# Create the bar plot\n",
        "plt.bar(products, sales_values)\n",
        "\n",
        "# Add labels and title\n",
        "plt.xlabel('Products')\n",
        "plt.ylabel('Sales (in thousands)')\n",
        "plt.title('Sales Performance by Product')\n",
        "\n",
        "# Display the plot\n",
        "plt.show()"
      ],
      "metadata": {
        "id": "Liz7sBgv8a3T"
      },
      "execution_count": null,
      "outputs": []
    }
  ]
}