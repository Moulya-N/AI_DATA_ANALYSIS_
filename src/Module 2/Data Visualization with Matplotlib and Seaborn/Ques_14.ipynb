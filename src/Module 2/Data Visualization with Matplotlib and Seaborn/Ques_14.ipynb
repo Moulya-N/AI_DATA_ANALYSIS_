{
  "nbformat": 4,
  "nbformat_minor": 0,
  "metadata": {
    "colab": {
      "provenance": []
    },
    "kernelspec": {
      "name": "python3",
      "display_name": "Python 3"
    },
    "language_info": {
      "name": "python"
    }
  },
  "cells": [
    {
      "cell_type": "code",
      "source": [
        "import matplotlib.pyplot as plt\n",
        "import numpy as np\n",
        "\n",
        "# Sample data\n",
        "x = np.linspace(0, 10, 100)\n",
        "y = np.sin(x)\n",
        "\n",
        "# Create the plot\n",
        "plt.figure(figsize=(10, 6))\n",
        "plt.plot(\n",
        "    x, y,\n",
        "    color='teal',        # Line color\n",
        "    linestyle='--',      # Dashed line style\n",
        "    linewidth=2.5,       # Line width\n",
        "    marker='o',          # Circle markers\n",
        "    markersize=6,        # Marker size\n",
        "    markerfacecolor='orange',  # Marker face color\n",
        "    markeredgecolor='black',   # Marker edge color\n",
        "    label='Sine Wave'    # Label for the legend\n",
        ")\n",
        "\n",
        "# Add labels and title\n",
        "plt.xlabel('X-axis')\n",
        "plt.ylabel('Y-axis')\n",
        "plt.title('Customized Line Plot')\n",
        "plt.legend()\n",
        "plt.grid(True)\n",
        "plt.tight_layout()\n",
        "plt.show()"
      ],
      "metadata": {
        "id": "fm_PLkT_o0ay"
      },
      "execution_count": null,
      "outputs": []
    }
  ]
}