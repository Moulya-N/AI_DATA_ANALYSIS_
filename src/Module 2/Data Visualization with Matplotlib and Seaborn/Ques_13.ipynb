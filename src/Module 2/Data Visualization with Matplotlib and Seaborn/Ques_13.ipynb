{
  "nbformat": 4,
  "nbformat_minor": 0,
  "metadata": {
    "colab": {
      "provenance": []
    },
    "kernelspec": {
      "name": "python3",
      "display_name": "Python 3"
    },
    "language_info": {
      "name": "python"
    }
  },
  "cells": [
    {
      "cell_type": "code",
      "source": [
        "import seaborn as sns; import matplotlib.pyplot as plt; from sklearn.datasets import load_iris; import pandas as pd; iris = load_iris(); df = pd.DataFrame(data=iris.data, columns=iris.feature_names); df['species'] = pd.Categorical.from_codes(iris.target, iris.target_names); sns.set(style=\"whitegrid\"); plt.figure(figsize=(8, 6)); sns.boxplot(data=df, x='species', y='petal length (cm)', palette='Set2', width=0.6, linewidth=1.5, fliersize=5, boxprops=dict(facecolor='lightblue', edgecolor='black'), medianprops=dict(color='red', linewidth=2), whiskerprops=dict(color='black'), capprops=dict(color='black'), flierprops=dict(marker='o', color='black', alpha=0.5)); plt.title('Distribution of Petal Length by Iris Species', fontsize=14); plt.xlabel('Species', fontsize=12); plt.ylabel('Petal Length (cm)', fontsize=12); plt.tight_layout(); plt.show()"
      ],
      "metadata": {
        "id": "1yOX1WUbnysu"
      },
      "execution_count": null,
      "outputs": []
    }
  ]
}