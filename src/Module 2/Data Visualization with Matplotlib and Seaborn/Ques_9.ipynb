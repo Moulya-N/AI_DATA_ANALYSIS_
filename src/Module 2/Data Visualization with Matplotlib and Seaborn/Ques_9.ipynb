{
  "nbformat": 4,
  "nbformat_minor": 0,
  "metadata": {
    "colab": {
      "provenance": []
    },
    "kernelspec": {
      "name": "python3",
      "display_name": "Python 3"
    },
    "language_info": {
      "name": "python"
    }
  },
  "cells": [
    {
      "cell_type": "code",
      "source": [
        "import matplotlib.pyplot as plt\n",
        "import numpy as np\n",
        "\n",
        "# Sample data for product sales\n",
        "products = ['Product A', 'Product B', 'Product C', 'Product D']\n",
        "sales = [150, 200, 300, 250]\n",
        "\n",
        "# Sample data for height vs. weight\n",
        "heights = np.array([150, 160, 170, 180, 190])\n",
        "weights = np.array([50, 60, 70, 80, 90])\n",
        "\n",
        "# Create subplots\n",
        "fig, axes = plt.subplots(1, 2, figsize=(12, 5))\n",
        "\n",
        "# Bar plot for product sales\n",
        "axes[0].bar(products, sales, color='skyblue')\n",
        "axes[0].set_title('Product Sales')\n",
        "axes[0].set_ylabel('Units Sold')\n",
        "\n",
        "# Scatter plot for height vs. weight\n",
        "axes[1].scatter(heights, weights, color='green', marker='o')\n",
        "axes[1].set_title('Height vs. Weight')\n",
        "axes[1].set_xlabel('Height (cm)')\n",
        "axes[1].set_ylabel('Weight (kg)')\n",
        "\n",
        "# Adjust layout\n",
        "plt.tight_layout()\n",
        "plt.show()"
      ],
      "metadata": {
        "id": "tXkEabgViNKR"
      },
      "execution_count": null,
      "outputs": []
    }
  ]
}