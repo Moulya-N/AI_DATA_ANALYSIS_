{
  "nbformat": 4,
  "nbformat_minor": 0,
  "metadata": {
    "colab": {
      "provenance": []
    },
    "kernelspec": {
      "name": "python3",
      "display_name": "Python 3"
    },
    "language_info": {
      "name": "python"
    }
  },
  "cells": [
    {
      "cell_type": "code",
      "source": [
        "import matplotlib.pyplot as plt\n",
        "import numpy as np\n",
        "\n",
        "x = np.linspace(0, 10, 100)\n",
        "y1, y2, y3, y4 = np.sin(x), np.cos(x), np.tan(x), np.exp(-x)\n",
        "\n",
        "fig, axes = plt.subplots(2, 2, figsize=(10, 8))\n",
        "\n",
        "axes[0, 0].plot(x, y1)\n",
        "axes[0, 0].set_title('Sine')\n",
        "\n",
        "axes[0, 1].plot(x, y2)\n",
        "axes[0, 1].set_title('Cosine')\n",
        "\n",
        "axes[1, 0].plot(x, y3)\n",
        "axes[1, 0].set_title('Tangent')\n",
        "\n",
        "axes[1, 1].plot(x, y4)\n",
        "axes[1, 1].set_title('Exponential Decay')\n",
        "\n",
        "plt.tight_layout()\n",
        "plt.show()"
      ],
      "metadata": {
        "id": "GIDdlx8erI1i"
      },
      "execution_count": null,
      "outputs": []
    }
  ]
}