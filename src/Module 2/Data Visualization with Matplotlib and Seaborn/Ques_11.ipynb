{
  "nbformat": 4,
  "nbformat_minor": 0,
  "metadata": {
    "colab": {
      "provenance": []
    },
    "kernelspec": {
      "name": "python3",
      "display_name": "Python 3"
    },
    "language_info": {
      "name": "python"
    }
  },
  "cells": [
    {
      "cell_type": "code",
      "source": [
        "import seaborn as sns; import matplotlib.pyplot as plt; import pandas as pd; tips = sns.load_dataset(\"tips\"); sns.scatterplot(x=\"total_bill\", y=\"tip\", data=tips); plt.title(\"Scatter Plot of Total Bill vs Tip\"); plt.xlabel(\"Total Bill\"); plt.ylabel(\"Tip\"); plt.show()"
      ],
      "metadata": {
        "id": "WZ-5Z2N5kO6I"
      },
      "execution_count": null,
      "outputs": []
    }
  ]
}