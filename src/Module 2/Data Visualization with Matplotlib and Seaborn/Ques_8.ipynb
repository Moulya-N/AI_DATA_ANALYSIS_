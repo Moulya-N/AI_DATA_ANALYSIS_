{
  "nbformat": 4,
  "nbformat_minor": 0,
  "metadata": {
    "colab": {
      "provenance": []
    },
    "kernelspec": {
      "name": "python3",
      "display_name": "Python 3"
    },
    "language_info": {
      "name": "python"
    }
  },
  "cells": [
    {
      "cell_type": "code",
      "source": [
        "import seaborn as sns\n",
        "import matplotlib.pyplot as plt\n",
        "\n",
        "# Define the data\n",
        "marks = [23, 45, 56, 78, 89, 90, 67, 88, 76, 59]\n",
        "\n",
        "# Create the histogram with KDE\n",
        "plt.figure(figsize=(8, 6))\n",
        "sns.histplot(data=marks, kde=True, color='skyblue', edgecolor='black')\n",
        "plt.title('Histogram with KDE for Marks', fontsize=16)\n",
        "plt.xlabel('Marks', fontsize=14)\n",
        "plt.ylabel('Frequency', fontsize=14)\n",
        "plt.grid(True, linestyle='--', alpha=0.7)\n",
        "plt.show()"
      ],
      "metadata": {
        "id": "q4Z3uDnnr70y"
      },
      "execution_count": null,
      "outputs": []
    }
  ]
}