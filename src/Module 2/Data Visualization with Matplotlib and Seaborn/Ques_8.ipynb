{
  "nbformat": 4,
  "nbformat_minor": 0,
  "metadata": {
    "colab": {
      "provenance": []
    },
    "kernelspec": {
      "name": "python3",
      "display_name": "Python 3"
    },
    "language_info": {
      "name": "python"
    }
  },
  "cells": [
    {
      "cell_type": "code",
      "execution_count": null,
      "metadata": {
        "id": "q2y-kbgWccTe"
      },
      "outputs": [],
      "source": [
        "import seaborn as sns\n",
        "import matplotlib.pyplot as plt\n",
        "import pandas as pd\n",
        "\n",
        "# Create a Pandas DataFrame for the data\n",
        "data = {'marks': [23, 45, 56, 78, 89, 90, 67, 88, 76, 59]}\n",
        "df = pd.DataFrame(data)\n",
        "\n",
        "# Create the histogram with KDE\n",
        "sns.histplot(data=df, x=\"marks\", kde=True)\n",
        "\n",
        "# Add labels and title\n",
        "plt.xlabel(\"Marks\")\n",
        "plt.ylabel(\"Frequency\")\n",
        "plt.title(\"Distribution of Marks with KDE\")\n",
        "\n",
        "# Display the plot\n",
        "plt.show()"
      ]
    }
  ]
}