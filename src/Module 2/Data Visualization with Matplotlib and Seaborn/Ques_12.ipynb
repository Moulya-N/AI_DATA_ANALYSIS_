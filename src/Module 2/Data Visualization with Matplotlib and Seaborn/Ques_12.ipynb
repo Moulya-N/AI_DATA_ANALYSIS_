{
  "nbformat": 4,
  "nbformat_minor": 0,
  "metadata": {
    "colab": {
      "provenance": []
    },
    "kernelspec": {
      "name": "python3",
      "display_name": "Python 3"
    },
    "language_info": {
      "name": "python"
    }
  },
  "cells": [
    {
      "cell_type": "code",
      "source": [
        "import seaborn as sns\n",
        "import matplotlib.pyplot as plt\n",
        "\n",
        "# Load dataset\n",
        "df = sns.load_dataset('iris')\n",
        "\n",
        "# Create pairplot\n",
        "sns.pairplot(\n",
        "    df,\n",
        "    hue='species',\n",
        "    palette='Set2',\n",
        "    diag_kind='kde',\n",
        "    kind='scatter',\n",
        "    markers=['o', 's', 'D'],\n",
        "    height=2.5,\n",
        "    aspect=1\n",
        ")\n",
        "\n",
        "# Show plot\n",
        "plt.suptitle('Pairplot of Iris Dataset', y=1.02)\n",
        "plt.show()"
      ],
      "metadata": {
        "id": "HPZ19hnmlKsH"
      },
      "execution_count": null,
      "outputs": []
    }
  ]
}