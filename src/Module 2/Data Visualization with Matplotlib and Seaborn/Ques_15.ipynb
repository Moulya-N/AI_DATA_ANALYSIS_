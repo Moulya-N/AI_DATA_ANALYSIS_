{
  "nbformat": 4,
  "nbformat_minor": 0,
  "metadata": {
    "colab": {
      "provenance": []
    },
    "kernelspec": {
      "name": "python3",
      "display_name": "Python 3"
    },
    "language_info": {
      "name": "python"
    }
  },
  "cells": [
    {
      "cell_type": "code",
      "source": [
        "import pandas as pd; import numpy as np; import matplotlib.pyplot as plt; import seaborn as sns; df = pd.read_csv('your_dataset.csv'); corr_matrix = df.corr(); mask = np.triu(np.ones_like(corr_matrix, dtype=bool)); plt.figure(figsize=(12, 10)); cmap = sns.diverging_palette(220, 20, as_cmap=True); sns.heatmap(corr_matrix, mask=mask, cmap=cmap, annot=True, fmt=\".2f\", annot_kws={\"size\":10}, linewidths=0.5, linecolor='white', vmin=-1, vmax=1, square=True, cbar_kws={\"shrink\": 0.75, \"aspect\": 20}); plt.title('Correlation Heatmap', fontsize=16, pad=20); plt.tight_layout(); plt.show()"
      ],
      "metadata": {
        "id": "mzfzGFXSqABG"
      },
      "execution_count": null,
      "outputs": []
    }
  ]
}