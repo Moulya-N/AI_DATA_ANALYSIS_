{
  "nbformat": 4,
  "nbformat_minor": 0,
  "metadata": {
    "colab": {
      "provenance": []
    },
    "kernelspec": {
      "name": "python3",
      "display_name": "Python 3"
    },
    "language_info": {
      "name": "python"
    }
  },
  "cells": [
    {
      "cell_type": "code",
      "source": [
        "# Import necessary libraries\n",
        "import seaborn as sns\n",
        "import matplotlib.pyplot as plt\n",
        "\n",
        "# Load the 'tips' dataset\n",
        "tips = sns.load_dataset(\"tips\")\n",
        "\n",
        "# Create a Seaborn scatterplot to visualize the relationship between total_bill and tip\n",
        "plt.figure(figsize=(8, 6))\n",
        "sns.scatterplot(data=tips, x='total_bill', y='tip', hue='sex', style='time')\n",
        "plt.title('Total Bill vs Tip by Sex and Time')\n",
        "plt.xlabel('Total Bill')\n",
        "plt.ylabel('Tip')\n",
        "plt.legend(title='Legend')\n",
        "plt.grid(True)\n",
        "plt.show()"
      ],
      "metadata": {
        "id": "tK_7QovNjZTF"
      },
      "execution_count": null,
      "outputs": []
    }
  ]
}