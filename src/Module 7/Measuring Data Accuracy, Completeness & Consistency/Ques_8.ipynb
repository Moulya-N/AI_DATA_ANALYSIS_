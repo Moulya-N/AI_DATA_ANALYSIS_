{
  "nbformat": 4,
  "nbformat_minor": 0,
  "metadata": {
    "colab": {
      "provenance": []
    },
    "kernelspec": {
      "name": "python3",
      "display_name": "Python 3"
    },
    "language_info": {
      "name": "python"
    }
  },
  "cells": [
    {
      "cell_type": "code",
      "source": [
        "import pandas as pd\n",
        "\n",
        "# Step 1: Load the datasets\n",
        "# Replace 'your_dataset.csv' and 'trusted_dataset.csv' with your actual file paths or URLs\n",
        "df = pd.read_csv('your_dataset.csv')\n",
        "trusted_df = pd.read_csv('trusted_dataset.csv')\n",
        "\n",
        "# Step 2: Ensure consistent column order and data types\n",
        "# Align columns\n",
        "df = df[trusted_df.columns]\n",
        "\n",
        "# Convert data types to match\n",
        "df = df.astype(trusted_df.dtypes.to_dict())\n",
        "\n",
        "# Step 3: Sort both DataFrames by a common key to ensure proper alignment\n",
        "# Replace 'id' with your actual key column name\n",
        "df.sort_values(by='id', inplace=True)\n",
        "trusted_df.sort_values(by='id', inplace=True)\n",
        "\n",
        "# Reset index after sorting\n",
        "df.reset_index(drop=True, inplace=True)\n",
        "trusted_df.reset_index(drop=True, inplace=True)\n",
        "\n",
        "# Step 4: Compare the DataFrames to identify differences\n",
        "differences = df.compare(trusted_df, keep_shape=True, keep_equal=False)\n",
        "\n",
        "# Display differences\n",
        "print(\"Differences between the datasets:\")\n",
        "print(differences)\n",
        "\n",
        "# Step 5: Identify missing values in both datasets\n",
        "missing_in_df = df.isnull().sum()\n",
        "missing_in_trusted_df = trusted_df.isnull().sum()\n",
        "\n",
        "print(\"\\nMissing values in your dataset:\")\n",
        "print(missing_in_df)\n",
        "\n",
        "print(\"\\nMissing values in the trusted dataset:\")\n",
        "print(missing_in_trusted_df)\n",
        "\n",
        "# Step 6: Export the differences to a CSV file (optional)\n",
        "differences.to_csv('differences_report.csv')"
      ],
      "metadata": {
        "id": "H6lNt0-sQs86"
      },
      "execution_count": null,
      "outputs": []
    }
  ]
}