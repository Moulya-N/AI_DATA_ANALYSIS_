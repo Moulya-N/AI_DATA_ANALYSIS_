{
  "nbformat": 4,
  "nbformat_minor": 0,
  "metadata": {
    "colab": {
      "provenance": []
    },
    "kernelspec": {
      "name": "python3",
      "display_name": "Python 3"
    },
    "language_info": {
      "name": "python"
    }
  },
  "cells": [
    {
      "cell_type": "code",
      "source": [
        "# Ques_4.ipynb — Ensuring Consistency in Multi-source Data Integration\n",
        "\n",
        "import pandas as pd\n",
        "\n",
        "# Load datasets\n",
        "a_df = pd.read_csv(\"products_A.csv\")\n",
        "b_df = pd.read_csv(\"products_B.csv\")\n",
        "\n",
        "# Display sample data (optional)\n",
        "print(\"Products A Sample:\\n\", a_df.head())\n",
        "print(\"\\nProducts B Sample:\\n\", b_df.head())\n",
        "\n",
        "# Merge on product_id to compare categories\n",
        "merged_df = pd.merge(a_df, b_df, on=\"product_id\", suffixes=('_A', '_B'))\n",
        "\n",
        "# Check consistency in category information\n",
        "merged_df[\"category_consistent\"] = merged_df[\"category_A\"] == merged_df[\"category_B\"]\n",
        "\n",
        "# Calculate consistency rate\n",
        "total_products = len(merged_df)\n",
        "consistent_count = merged_df[\"category_consistent\"].sum()\n",
        "consistency_percent = (consistent_count / total_products) * 100\n",
        "\n",
        "# Print results\n",
        "print(f\"\\nTotal Matched Products: {total_products}\")\n",
        "print(f\"Consistent Categories: {consistent_count}\")\n",
        "print(f\"Category Consistency: {consistency_percent:.2f}%\")\n",
        "\n",
        "# Display inconsistent records\n",
        "inconsistencies = merged_df[~merged_df[\"category_consistent\"]]\n",
        "print(\"\\nInconsistent Category Records:\\n\", inconsistencies[[\"product_id\", \"category_A\", \"category_B\"]])\n",
        "\n",
        "# Optional: Save inconsistent records to CSV\n",
        "inconsistencies[[\"product_id\", \"category_A\", \"category_B\"]].to_csv(\"category_inconsistencies.csv\", index=False)"
      ],
      "metadata": {
        "id": "RQnkIfruJs6c"
      },
      "execution_count": null,
      "outputs": []
    }
  ]
}