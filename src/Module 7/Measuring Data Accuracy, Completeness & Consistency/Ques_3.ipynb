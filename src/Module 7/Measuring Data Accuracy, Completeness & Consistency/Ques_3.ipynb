{
  "nbformat": 4,
  "nbformat_minor": 0,
  "metadata": {
    "colab": {
      "provenance": []
    },
    "kernelspec": {
      "name": "python3",
      "display_name": "Python 3"
    },
    "language_info": {
      "name": "python"
    }
  },
  "cells": [
    {
      "cell_type": "code",
      "source": [
        "# Ques_3.ipynb — Compare Data Completeness Over Time\n",
        "\n",
        "import pandas as pd\n",
        "import matplotlib.pyplot as plt\n",
        "\n",
        "# Load the dataset\n",
        "df = pd.read_csv(\"sales_data.csv\")\n",
        "\n",
        "# Convert 'date' column to datetime\n",
        "df['date'] = pd.to_datetime(df['date'], errors='coerce')\n",
        "\n",
        "# Drop rows where date conversion failed\n",
        "df = df.dropna(subset=['date'])\n",
        "\n",
        "# Extract year-month for grouping\n",
        "df['month'] = df['date'].dt.to_period('M')\n",
        "\n",
        "# Calculate missing data rate per month\n",
        "missing_by_month = df.groupby('month').apply(lambda x: x.isnull().mean().mean() * 100)\n",
        "\n",
        "# Reset index for plotting\n",
        "missing_by_month = missing_by_month.reset_index(name='Missing Rate (%)')\n",
        "\n",
        "# Plot the results\n",
        "plt.figure(figsize=(10, 5))\n",
        "plt.plot(missing_by_month['month'].astype(str), missing_by_month['Missing Rate (%)'], marker='o', color='red')\n",
        "plt.xticks(rotation=45)\n",
        "plt.title(\"Monthly Missing Data Rate in Sales Data\")\n",
        "plt.xlabel(\"Month\")\n",
        "plt.ylabel(\"Missing Rate (%)\")\n",
        "plt.grid(True)\n",
        "plt.tight_layout()\n",
        "plt.show()\n",
        "\n",
        "# Optional: Save the missing rate data\n",
        "missing_by_month.to_csv(\"monthly_missing_data_rate.csv\", index=False)"
      ],
      "metadata": {
        "id": "9TOkKry2IEbT"
      },
      "execution_count": null,
      "outputs": []
    }
  ]
}