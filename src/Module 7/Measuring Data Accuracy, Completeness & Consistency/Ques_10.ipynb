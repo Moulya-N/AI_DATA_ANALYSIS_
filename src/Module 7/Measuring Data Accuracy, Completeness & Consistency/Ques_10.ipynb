{
  "nbformat": 4,
  "nbformat_minor": 0,
  "metadata": {
    "colab": {
      "provenance": []
    },
    "kernelspec": {
      "name": "python3",
      "display_name": "Python 3"
    },
    "language_info": {
      "name": "python"
    }
  },
  "cells": [
    {
      "cell_type": "code",
      "source": [
        "# Ensuring Data Consistency: Identifying and Resolving Conflicting Values\n",
        "\n",
        "import pandas as pd\n",
        "import numpy as np\n",
        "\n",
        "# Load datasets from different sources\n",
        "# Replace 'source_a.csv', 'source_b.csv', and 'source_c.csv' with your actual file paths\n",
        "df_a = pd.read_csv('source_a.csv')\n",
        "df_b = pd.read_csv('source_b.csv')\n",
        "df_c = pd.read_csv('source_c.csv')\n",
        "\n",
        "# Merge datasets on a common key (e.g., 'ID')\n",
        "df_merged = df_a.merge(df_b, on='ID', how='outer', suffixes=('_a', '_b'))\n",
        "df_merged = df_merged.merge(df_c, on='ID', how='outer')\n",
        "df_merged.rename(columns={'Value': 'Value_c'}, inplace=True)\n",
        "\n",
        "# Identify conflicting values across sources\n",
        "def detect_conflict(row):\n",
        "    values = [row['Value_a'], row['Value_b'], row['Value_c']]\n",
        "    non_null_values = [v for v in values if pd.notnull(v)]\n",
        "    return len(set(non_null_values)) > 1\n",
        "\n",
        "df_merged['Conflict'] = df_merged.apply(detect_conflict, axis=1)\n",
        "\n",
        "# Display rows with conflicts\n",
        "conflicts = df_merged[df_merged['Conflict']]\n",
        "print(\"Conflicting rows:\")\n",
        "print(conflicts)\n",
        "\n",
        "# Resolve conflicts using a preferred source hierarchy: A > B > C\n",
        "def resolve_conflict(row):\n",
        "    if pd.notnull(row['Value_a']):\n",
        "        return row['Value_a']\n",
        "    elif pd.notnull(row['Value_b']):\n",
        "        return row['Value_b']\n",
        "    elif pd.notnull(row['Value_c']):\n",
        "        return row['Value_c']\n",
        "    else:\n",
        "        return np.nan\n",
        "\n",
        "df_merged['Resolved_Value'] = df_merged.apply(resolve_conflict, axis=1)\n",
        "\n",
        "# Drop individual source columns to retain only the resolved value\n",
        "df_cleaned = df_merged[['ID', 'Resolved_Value']]\n",
        "\n",
        "# Save the cleaned dataset to a CSV file\n",
        "df_cleaned.to_csv('cleaned_dataset.csv', index=False)\n",
        "\n",
        "print(\"Data consistency ensured. Cleaned dataset saved to 'cleaned_dataset.csv'.\")"
      ],
      "metadata": {
        "id": "Ed9EzEaaSqAA"
      },
      "execution_count": null,
      "outputs": []
    }
  ]
}