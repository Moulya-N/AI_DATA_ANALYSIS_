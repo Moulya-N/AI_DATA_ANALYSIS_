{
  "nbformat": 4,
  "nbformat_minor": 0,
  "metadata": {
    "colab": {
      "provenance": []
    },
    "kernelspec": {
      "name": "python3",
      "display_name": "Python 3"
    },
    "language_info": {
      "name": "python"
    }
  },
  "cells": [
    {
      "cell_type": "code",
      "source": [
        "# Ques_7.ipynb — Advanced Consistency Check with Hierarchical Data\n",
        "\n",
        "import pandas as pd\n",
        "\n",
        "# Load the datasets\n",
        "orders_df = pd.read_csv(\"orders.csv\")\n",
        "order_items_df = pd.read_csv(\"order_items.csv\")\n",
        "\n",
        "# Display sample data (optional)\n",
        "print(\"Orders Sample:\\n\", orders_df.head())\n",
        "print(\"\\nOrder Items Sample:\\n\", order_items_df.head())\n",
        "\n",
        "# Extract order_ids from both datasets\n",
        "order_ids_in_orders = set(orders_df[\"order_id\"])\n",
        "order_ids_in_items = set(order_items_df[\"order_id\"])\n",
        "\n",
        "# Identify inconsistent records\n",
        "orders_with_no_items = order_ids_in_orders - order_ids_in_items\n",
        "items_with_no_orders = order_ids_in_items - order_ids_in_orders\n",
        "\n",
        "# Report results\n",
        "print(f\"\\nTotal Orders: {len(order_ids_in_orders)}\")\n",
        "print(f\"Orders with No Items: {len(orders_with_no_items)}\")\n",
        "print(f\"Order Items with No Matching Order: {len(items_with_no_orders)}\")\n",
        "\n",
        "# Create DataFrames for detailed inspection\n",
        "missing_items_df = orders_df[orders_df[\"order_id\"].isin(orders_with_no_items)]\n",
        "orphan_items_df = order_items_df[order_items_df[\"order_id\"].isin(items_with_no_orders)]\n",
        "\n",
        "# Show mismatches\n",
        "print(\"\\nOrders with No Items:\\n\", missing_items_df)\n",
        "print(\"\\nOrder Items with No Matching Orders:\\n\", orphan_items_df)\n",
        "\n",
        "# Optional: Save to CSV\n",
        "missing_items_df.to_csv(\"orders_with_no_items.csv\", index=False)\n",
        "orphan_items_df.to_csv(\"orphan_order_items.csv\", index=False)"
      ],
      "metadata": {
        "id": "OzNH3vO9NhJq"
      },
      "execution_count": null,
      "outputs": []
    }
  ]
}