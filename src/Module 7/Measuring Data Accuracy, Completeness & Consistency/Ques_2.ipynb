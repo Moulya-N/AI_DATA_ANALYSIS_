{
  "nbformat": 4,
  "nbformat_minor": 0,
  "metadata": {
    "colab": {
      "provenance": []
    },
    "kernelspec": {
      "name": "python3",
      "display_name": "Python 3"
    },
    "language_info": {
      "name": "python"
    }
  },
  "cells": [
    {
      "cell_type": "code",
      "source": [
        "# Ques_2.ipynb — Find Conflicting Email Information Across Datasets\n",
        "\n",
        "import pandas as pd\n",
        "\n",
        "# Load the CRM and ERP customer datasets\n",
        "crm_df = pd.read_csv(\"crm_customers.csv\")\n",
        "erp_df = pd.read_csv(\"erp_customers.csv\")\n",
        "\n",
        "# Display sample data (optional)\n",
        "print(\"CRM Customers Sample:\\n\", crm_df.head())\n",
        "print(\"\\nERP Customers Sample:\\n\", erp_df.head())\n",
        "\n",
        "# Merge the datasets on a common key (e.g., customer_id)\n",
        "merged_df = pd.merge(crm_df, erp_df, on=\"customer_id\", suffixes=('_crm', '_erp'))\n",
        "\n",
        "# Find conflicting emails for the same customer\n",
        "conflicts = merged_df[merged_df[\"email_crm\"] != merged_df[\"email_erp\"]]\n",
        "\n",
        "# Show number of conflicts\n",
        "print(f\"\\nTotal Conflicting Records Found: {len(conflicts)}\")\n",
        "\n",
        "# Display conflicting records\n",
        "print(\"\\nConflicting Customer Emails:\\n\", conflicts[[\"customer_id\", \"email_crm\", \"email_erp\"]])\n",
        "\n",
        "# Optional: Save conflicting records to a CSV\n",
        "conflicts[[\"customer_id\", \"email_crm\", \"email_erp\"]].to_csv(\"conflicting_emails.csv\", index=False)"
      ],
      "metadata": {
        "id": "wqLlxeIg2TGI"
      },
      "execution_count": null,
      "outputs": []
    }
  ]
}