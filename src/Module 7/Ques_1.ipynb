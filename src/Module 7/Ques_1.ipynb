{
  "nbformat": 4,
  "nbformat_minor": 0,
  "metadata": {
    "colab": {
      "provenance": []
    },
    "kernelspec": {
      "name": "python3",
      "display_name": "Python 3"
    },
    "language_info": {
      "name": "python"
    }
  },
  "cells": [
    {
      "cell_type": "code",
      "execution_count": null,
      "metadata": {
        "id": "scVmW8eqHQ-_"
      },
      "outputs": [],
      "source": [
        "1. File Naming & Location\n",
        "\n",
        "[ ] The file exists at the specified path.\n",
        "\n",
        "[ ] The filename matches exactly (Ques_1.ipynb) — check for typos or case sensitivity.\n",
        "\n",
        "[ ] File is a valid .ipynb (Jupyter Notebook) format.\n",
        "\n",
        "\n",
        "2. Notebook Structure\n",
        "\n",
        "[ ] All cells are executed in order (e.g., In [1], In [2], ...).\n",
        "\n",
        "[ ] No execution errors in any cell.\n",
        "\n",
        "[ ] Outputs are shown where expected.\n",
        "\n",
        "[ ] The notebook doesn’t contain empty or irrelevant cells.\n",
        "\n",
        "\n",
        "3. Code Formatting\n",
        "\n",
        "[ ] Proper indentation.\n",
        "\n",
        "[ ] Comments where necessary.\n",
        "\n",
        "[ ] Clear variable names.\n",
        "\n",
        "[ ] No hardcoded paths (use relative paths if needed).\n",
        "\n",
        "[ ] Avoid redundant code or variables.\n",
        "\n",
        "\n",
        "4. Markdown Usage\n",
        "\n",
        "[ ] Descriptive headings (e.g., ## Objective, ## Code, ## Results).\n",
        "\n",
        "[ ] Clear explanation of each step or section.\n",
        "\n",
        "[ ] Proper use of bullet points, bold, italics for clarity.\n",
        "\n",
        "[ ] Mathematical formulas (if applicable) are rendered correctly using LaTeX.\n",
        "\n",
        "\n",
        "5. Data Handling\n",
        "\n",
        "[ ] Data is loaded properly.\n",
        "\n",
        "[ ] No personal or sensitive data is included.\n",
        "\n",
        "[ ] If data files are external, ensure relative paths or download links are valid.\n",
        "\n",
        "\n",
        "6. Visualization (if any)\n",
        "\n",
        "[ ] All plots are rendered correctly.\n",
        "\n",
        "[ ] Titles, axis labels, and legends are used where needed.\n",
        "\n",
        "[ ] Charts are appropriately sized and clear.\n",
        "\n",
        "\n",
        "7. Overall Presentation\n",
        "\n",
        "[ ] Notebook reads well from top to bottom.\n",
        "\n",
        "[ ] Logical flow is maintained.\n",
        "\n",
        "[ ] Objective and conclusion are clearly stated.\n",
        "\n",
        "\n"
      ]
    }
  ]
}