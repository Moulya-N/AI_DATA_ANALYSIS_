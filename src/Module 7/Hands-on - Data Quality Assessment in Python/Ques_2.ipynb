{
  "nbformat": 4,
  "nbformat_minor": 0,
  "metadata": {
    "colab": {
      "provenance": []
    },
    "kernelspec": {
      "name": "python3",
      "display_name": "Python 3"
    },
    "language_info": {
      "name": "python"
    }
  },
  "cells": [
    {
      "cell_type": "code",
      "source": [
        "import pandas as pd\n",
        "df = pd.read_csv('your_dataset.csv')\n",
        "print(df.isnull().sum())              # Count missing values\n",
        "print(df.isnull().mean() * 100)       # Percentage of missing values\n",
        "print(df['required_column'].notnull().all())  # Should return True\n",
        "print(df['age'].between(0, 120).all())  # Ensure age is validdf['valid_email'] = df['email'].str.match(r'^[\\w\\.-]+@[\\w\\.-]+\\.\\w+$')\n",
        "print(df['valid_email'].value_counts())print((df['start_date'] <= df['end_date']).all())print(\"Summary:\")\n",
        "print(f\"Missing Values:\\n{df.isnull().sum()}\")\n",
        "print(f\"Duplicate Rows: {df.duplicated().sum()}\")\n",
        "print(f\"Data Type Issues: \\n{df.dtypes}\")from pandas_profiling import ProfileReport\n",
        "profile = ProfileReport(df, title=\"Data Quality Report\")\n",
        "profile.to_file(\"report.html\")"
      ],
      "metadata": {
        "id": "ps4hU2ZOKjYi"
      },
      "execution_count": null,
      "outputs": []
    }
  ]
}