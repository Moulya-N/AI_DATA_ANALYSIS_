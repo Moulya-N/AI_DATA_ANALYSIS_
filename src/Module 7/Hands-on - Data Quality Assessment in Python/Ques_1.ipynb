{
  "nbformat": 4,
  "nbformat_minor": 0,
  "metadata": {
    "colab": {
      "provenance": []
    },
    "kernelspec": {
      "name": "python3",
      "display_name": "Python 3"
    },
    "language_info": {
      "name": "python"
    }
  },
  "cells": [
    {
      "cell_type": "code",
      "source": [
        "import pandas as pd\n",
        "\n",
        "# Load dataset (replace with the actual file if specified)\n",
        "df = pd.read_csv('your_dataset.csv')\n",
        "\n",
        "# Check first few rows\n",
        "df.head()\n",
        "\n",
        "# 1. Check for missing values\n",
        "df.isnull().sum()\n",
        "\n",
        "# 2. Check for duplicates\n",
        "df.duplicated().sum()\n",
        "\n",
        "# 3. Summary statistics\n",
        "df.describe()\n",
        "\n",
        "# 4. Data types\n",
        "df.dtypes\n",
        "\n",
        "# 5. Basic data visualizations (optional but useful)\n",
        "import seaborn as sns\n",
        "import matplotlib.pyplot as plt\n",
        "\n",
        "sns.heatmap(df.isnull(), cbar=False)\n",
        "plt.show()"
      ],
      "metadata": {
        "id": "zGcjA_uUJJ3c"
      },
      "execution_count": null,
      "outputs": []
    }
  ]
}