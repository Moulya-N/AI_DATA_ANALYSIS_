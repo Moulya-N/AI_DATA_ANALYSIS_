{
  "nbformat": 4,
  "nbformat_minor": 0,
  "metadata": {
    "colab": {
      "provenance": []
    },
    "kernelspec": {
      "name": "python3",
      "display_name": "Python 3"
    },
    "language_info": {
      "name": "python"
    }
  },
  "cells": [
    {
      "cell_type": "code",
      "source": [
        "# Import necessary libraries\n",
        "import pandas as pd\n",
        "import re\n",
        "\n",
        "# Load the data (replace with your actual file path or DataFrame)\n",
        "df = pd.read_csv('your_dataset.csv')  # or pd.read_excel('your_file.xlsx')\n",
        "\n",
        "# =======================\n",
        "# UNIQUNESS CHECKS\n",
        "# =======================\n",
        "\n",
        "# 1. Check for duplicate rows\n",
        "duplicate_rows = df[df.duplicated()]\n",
        "print(\"Duplicate Rows:\")\n",
        "print(duplicate_rows)\n",
        "\n",
        "# 2. Check for duplicates in a specific column (e.g., 'id')\n",
        "if 'id' in df.columns:\n",
        "    duplicate_ids = df[df['id'].duplicated()]\n",
        "    print(\"\\nDuplicate IDs:\")\n",
        "    print(duplicate_ids)\n",
        "\n",
        "# 3. Check for duplicate combinations (e.g., 'name' and 'email')\n",
        "if 'name' in df.columns and 'email' in df.columns:\n",
        "    duplicate_combinations = df[df.duplicated(subset=['name', 'email'])]\n",
        "    print(\"\\nDuplicate Name + Email combinations:\")\n",
        "    print(duplicate_combinations)\n",
        "\n",
        "# =======================\n",
        "# VALIDITY CHECKS\n",
        "# =======================\n",
        "\n",
        "# 1. Domain Check (e.g., Gender should be 'Male', 'Female', 'Other')\n",
        "if 'gender' in df.columns:\n",
        "    valid_genders = ['Male', 'Female', 'Other']\n",
        "    invalid_gender = df[~df['gender'].isin(valid_genders)]\n",
        "    print(\"\\nInvalid Gender Values:\")\n",
        "    print(invalid_gender)\n",
        "\n",
        "# 2. Format Check (e.g., Email format)\n",
        "if 'email' in df.columns:\n",
        "    email_pattern = r'^[A-Za-z0-9._%+-]+@[A-Za-z0-9.-]+\\.[A-Za-z]{2,}$'\n",
        "    invalid_email = df[~df['email'].astype(str).str.match(email_pattern, na=False)]\n",
        "    print(\"\\nInvalid Email Formats:\")\n",
        "    print(invalid_email)\n",
        "\n",
        "# 3. Length Check (e.g., Phone number length = 10)\n",
        "if 'phone' in df.columns:\n",
        "    invalid_phone_length = df[df['phone'].astype(str).str.len() != 10]\n",
        "    print(\"\\nInvalid Phone Number Lengths:\")\n",
        "    print(invalid_phone_length)\n",
        "\n",
        "# 4. Missing Values Check\n",
        "missing_values = df.isnull().sum()\n",
        "print(\"\\nMissing Values in Each Column:\")\n",
        "print(missing_values)\n",
        "\n",
        "# Optional: Summary Report\n",
        "print(\"\\n=== Summary ===\")\n",
        "print(f\"Total Rows: {len(df)}\")\n",
        "print(f\"Duplicate Rows: {len(duplicate_rows)}\")\n",
        "print(f\"Missing Value Columns: {missing_values[missing_values > 0].count()}\")"
      ],
      "metadata": {
        "id": "_j3T2TXeMKE8"
      },
      "execution_count": null,
      "outputs": []
    }
  ]
}