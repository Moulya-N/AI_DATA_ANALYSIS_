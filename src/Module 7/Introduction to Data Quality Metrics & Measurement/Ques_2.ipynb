{
  "nbformat": 4,
  "nbformat_minor": 0,
  "metadata": {
    "colab": {
      "provenance": []
    },
    "kernelspec": {
      "name": "python3",
      "display_name": "Python 3"
    },
    "language_info": {
      "name": "python"
    }
  },
  "cells": [
    {
      "cell_type": "code",
      "execution_count": null,
      "metadata": {
        "id": "xDRQ-cuMsrT5"
      },
      "outputs": [],
      "source": []
    },
    {
      "cell_type": "code",
      "source": [
        "# Ques 1.ipynb - Data Quality Framework (ISO 8000-based)\n",
        "\n",
        "import pandas as pd\n",
        "import numpy as np\n",
        "from datetime import datetime\n",
        "\n",
        "# Load dataset (replace with your file path or dataset)\n",
        "df = pd.read_csv(\"data.csv\")  # Replace with your file path or method\n",
        "\n",
        "# Initialize result dictionary\n",
        "quality_report = {}\n",
        "\n",
        "# 1. Completeness (% of non-null entries)\n",
        "completeness = df.notnull().mean() * 100\n",
        "quality_report['Completeness (%)'] = completeness.round(2)\n",
        "\n",
        "# 2. Uniqueness (% of unique rows)\n",
        "unique_rows = df.duplicated().sum()\n",
        "uniqueness_percent = 100 * (1 - unique_rows / len(df))\n",
        "quality_report['Uniqueness (%)'] = pd.Series([uniqueness_percent.round(2)] * len(df.columns), index=df.columns)\n",
        "\n",
        "# 3. Validity (% of values conforming to data type of first non-null entry)\n",
        "validity = []\n",
        "for col in df.columns:\n",
        "    first_valid = df[col].dropna().iloc[0] if not df[col].dropna().empty else np.nan\n",
        "    expected_type = type(first_valid)\n",
        "    valid_count = df[col].dropna().apply(lambda x: isinstance(x, expected_type)).sum()\n",
        "    validity_percent = 100 * valid_count / df[col].notnull().sum() if df[col].notnull().sum() > 0 else 0\n",
        "    validity.append(round(validity_percent, 2))\n",
        "quality_report['Validity (%)'] = pd.Series(validity, index=df.columns)\n",
        "\n",
        "# 4. Consistency (based on categorical columns having <50% unique values)\n",
        "def check_consistency(col):\n",
        "    if df[col].dtype == 'object' or df[col].dtype.name == 'category':\n",
        "        unique_ratio = df[col].nunique() / df[col].count()\n",
        "        return 100 if unique_ratio < 0.5 else 0\n",
        "    return 100\n",
        "consistency = {col: check_consistency(col) for col in df.columns}\n",
        "quality_report['Consistency (%)'] = pd.Series(consistency)\n",
        "\n",
        "# 5. Timeliness (% of recent entries in 'date' column if exists)\n",
        "if 'date' in df.columns:\n",
        "    try:\n",
        "        df['date'] = pd.to_datetime(df['date'], errors='coerce')\n",
        "        recent_cutoff = datetime.now() - pd.DateOffset(years=1)\n",
        "        timely_percent = 100 * (df['date'] >= recent_cutoff).sum() / df['date'].notnull().sum()\n",
        "        quality_report['Timeliness (%)'] = pd.Series([round(timely_percent, 2)] * len(df.columns), index=df.columns)\n",
        "    except:\n",
        "        quality_report['Timeliness (%)'] = pd.Series([\"Invalid date format\"] * len(df.columns), index=df.columns)\n",
        "else:\n",
        "    quality_report['Timeliness (%)'] = pd.Series([\"No date column\"] * len(df.columns), index=df.columns)\n",
        "\n",
        "# Combine into a DataFrame\n",
        "dq_report = pd.DataFrame(quality_report)\n",
        "\n",
        "# Display the report\n",
        "print(\"=== Data Quality Report (ISO 8000 Framework) ===\")\n",
        "print(dq_report)\n",
        "\n",
        "# Optional: Save to CSV\n",
        "dq_report.to_csv(\"data_quality_framework_report.csv\")"
      ],
      "metadata": {
        "id": "ItUnY7rLxCCl"
      },
      "execution_count": null,
      "outputs": []
    }
  ]
}