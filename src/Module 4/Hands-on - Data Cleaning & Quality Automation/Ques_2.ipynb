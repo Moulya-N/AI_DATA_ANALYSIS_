{
  "nbformat": 4,
  "nbformat_minor": 0,
  "metadata": {
    "colab": {
      "provenance": []
    },
    "kernelspec": {
      "name": "python3",
      "display_name": "Python 3"
    },
    "language_info": {
      "name": "python"
    }
  },
  "cells": [
    {
      "cell_type": "code",
      "source": [
        "import pandas as pd; import numpy as np; import re; from nltk.corpus import stopwords; def clean_dataframe(df): df = df.copy(); for col in df.select_dtypes(include=['float64', 'int64']).columns: df[col].fillna(df[col].mean(), inplace=True); for col in df.select_dtypes(include='object').columns: df[col].fillna('Unknown', inplace=True); df.drop_duplicates(inplace=True); for col in df.select_dtypes(include='object').columns: df[col] = df[col].str.lower().str.replace(r'[^\\w\\s]', '', regex=True); df[col] = df[col].apply(lambda x: ' '.join([word for word in x.split() if word not in stopwords.words('english')])); return df"
      ],
      "metadata": {
        "id": "uP5icDcYhBd0"
      },
      "execution_count": null,
      "outputs": []
    }
  ]
}