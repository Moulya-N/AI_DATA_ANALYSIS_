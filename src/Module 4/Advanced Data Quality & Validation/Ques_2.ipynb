{
  "nbformat": 4,
  "nbformat_minor": 0,
  "metadata": {
    "colab": {
      "provenance": []
    },
    "kernelspec": {
      "name": "python3",
      "display_name": "Python 3"
    },
    "language_info": {
      "name": "python"
    }
  },
  "cells": [
    {
      "cell_type": "code",
      "source": [
        "import pandas as pd\n",
        "from sklearn.model_selection import train_test_split\n",
        "from scipy.stats import ks_2samp\n",
        "import matplotlib.pyplot as plt\n",
        "import seaborn as sns\n",
        "import great_expectations as ge\n",
        "\n",
        "# Load current and reference datasets\n",
        "reference_data = pd.read_csv('reference_data.csv')\n",
        "current_data = pd.read_csv('current_data.csv')\n",
        "\n",
        "# Detect Data Drift using KS Test\n",
        "drift_results = {}\n",
        "for col in reference_data.columns:\n",
        "    stat, p_val = ks_2samp(reference_data[col].dropna(), current_data[col].dropna())\n",
        "    drift_results[col] = {'p_value': p_val, 'drift_detected': p_val < 0.05}\n",
        "\n",
        "# Visualize drift\n",
        "for col in reference_data.columns:\n",
        "    sns.kdeplot(reference_data[col], label='Reference')\n",
        "    sns.kdeplot(current_data[col], label='Current')\n",
        "    plt.title(f'Distribution for {col}')\n",
        "    plt.legend()\n",
        "    plt.show()\n",
        "\n",
        "# Automate Data Quality Checks using Great Expectations\n",
        "ge_df = ge.from_pandas(current_data)\n",
        "results = ge_df.expect_table_row_count_to_be_between(min_value=1000, max_value=10000)\n",
        "print(\"Row count expectation:\", results[\"success\"])\n",
        "for col in current_data.columns:\n",
        "    print(ge_df.expect_column_values_to_not_be_null(col)[\"success\"])"
      ],
      "metadata": {
        "id": "x0nj2L_Yd4_G"
      },
      "execution_count": null,
      "outputs": []
    }
  ]
}