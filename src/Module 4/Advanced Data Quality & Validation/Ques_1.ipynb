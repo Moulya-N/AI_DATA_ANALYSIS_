{
  "nbformat": 4,
  "nbformat_minor": 0,
  "metadata": {
    "colab": {
      "provenance": []
    },
    "kernelspec": {
      "name": "python3",
      "display_name": "Python 3"
    },
    "language_info": {
      "name": "python"
    }
  },
  "cells": [
    {
      "cell_type": "code",
      "source": [
        "import pandas as pd\n",
        "from evidently.report import Report\n",
        "from evidently.metric_preset import DataDriftPreset\n",
        "\n",
        "# Load your datasets\n",
        "reference_data = pd.read_csv('reference.csv')\n",
        "current_data = pd.read_csv('current.csv')\n",
        "\n",
        "# Generate a data drift report\n",
        "report = Report(metrics=[DataDriftPreset()])\n",
        "report.run(reference_data=reference_data, current_data=current_data)\n",
        "\n",
        "# Save the report as an HTML file\n",
        "report.save_html('data_drift_report.html')"
      ],
      "metadata": {
        "id": "9WPCcejKcjWa"
      },
      "execution_count": null,
      "outputs": []
    }
  ]
}