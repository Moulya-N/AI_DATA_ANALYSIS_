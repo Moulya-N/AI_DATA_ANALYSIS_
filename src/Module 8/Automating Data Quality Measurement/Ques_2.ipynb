{
  "nbformat": 4,
  "nbformat_minor": 0,
  "metadata": {
    "colab": {
      "provenance": []
    },
    "kernelspec": {
      "name": "python3",
      "display_name": "Python 3"
    },
    "language_info": {
      "name": "python"
    }
  },
  "cells": [
    {
      "cell_type": "code",
      "source": [
        "from great_expectations.expectations.core import ColumnExpectation\n",
        "from great_expectations.execution_engine import ExecutionEngine\n",
        "from great_expectations.expectations.metrics import MetricDomainTypes\n",
        "from great_expectations.expectations.metrics.import_manager import F\n",
        "\n",
        "class ExpectColumnValueToBeEven(ColumnExpectation):\n",
        "    \"\"\"Custom Expectation: Values in a column should be even.\"\"\"\n",
        "\n",
        "    metric_dependencies = (\"column.values\",)\n",
        "    success_keys = ()\n",
        "    default_kwarg_values = {}\n",
        "\n",
        "    def validate_configuration(self, configuration):\n",
        "        return True\n",
        "\n",
        "    def _validate(\n",
        "        self, configuration, metrics, runtime_configuration, execution_engine\n",
        "    ):\n",
        "        column_values = metrics[\"column.values\"]\n",
        "        success = all([val % 2 == 0 for val in column_values if val is not None])\n",
        "        return {\n",
        "            \"success\": success,\n",
        "            \"result\": {\"observed_value\": column_values},\n",
        "        }"
      ],
      "metadata": {
        "id": "nvzGelnDUL9d"
      },
      "execution_count": null,
      "outputs": []
    }
  ]
}