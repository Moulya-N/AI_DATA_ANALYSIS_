{
  "nbformat": 4,
  "nbformat_minor": 0,
  "metadata": {
    "colab": {
      "provenance": []
    },
    "kernelspec": {
      "name": "python3",
      "display_name": "Python 3"
    },
    "language_info": {
      "name": "python"
    }
  },
  "cells": [
    {
      "cell_type": "code",
      "source": [
        "# Step 1: Import Required Libraries\n",
        "import pandas as pd\n",
        "import matplotlib.pyplot as plt\n",
        "import os\n",
        "\n",
        "# Step 2: Define Data Quality Metric Functions\n",
        "def calculate_missing_percentage(df):\n",
        "    \"\"\"Returns average percentage of missing values across all columns.\"\"\"\n",
        "    return df.isnull().mean() * 100\n",
        "\n",
        "def calculate_duplicate_percentage(df):\n",
        "    \"\"\"Returns percentage of duplicate rows in the dataset.\"\"\"\n",
        "    return df.duplicated().mean() * 100\n",
        "\n",
        "# Step 3: Initialize Tracking Lists\n",
        "data_directory = 'data_snapshots/'  # Replace with your folder path\n",
        "\n",
        "dates = []\n",
        "missing_trend = []\n",
        "duplicate_trend = []\n",
        "\n",
        "# Step 4: Loop Over Time-Based Files\n",
        "for file in sorted(os.listdir(data_directory)):\n",
        "    if file.endswith('.csv'):\n",
        "        file_path = os.path.join(data_directory, file)\n",
        "        df = pd.read_csv(file_path)\n",
        "\n",
        "        date = file.replace('.csv', '')  # assumes file name is date\n",
        "        dates.append(date)\n",
        "\n",
        "        avg_missing = calculate_missing_percentage(df).mean()\n",
        "        dup_percent = calculate_duplicate_percentage(df)\n",
        "\n",
        "        missing_trend.append(avg_missing)\n",
        "        duplicate_trend.append(dup_percent)\n",
        "\n",
        "# Step 5: Plot Data Quality Trends\n",
        "plt.figure(figsize=(12, 6))\n",
        "plt.plot(dates, missing_trend, label='Missing Values (%)', marker='o')\n",
        "plt.plot(dates, duplicate_trend, label='Duplicate Rows (%)', marker='x')\n",
        "plt.xlabel('Date')\n",
        "plt.ylabel('Percentage')\n",
        "plt.title('Data Quality Trends Over Time')\n",
        "plt.xticks(rotation=45)\n",
        "plt.legend()\n",
        "plt.tight_layout()\n",
        "plt.grid(True)\n",
        "plt.show()\n",
        "\n",
        "# Step 6: Optional - Trigger Alerts for Threshold Violations\n",
        "threshold_missing = 5.0  # percent\n",
        "threshold_duplicates = 2.0  # percent\n",
        "\n",
        "if missing_trend[-1] > threshold_missing:\n",
        "    print(f\"[ALERT] Missing data exceeded {threshold_missing}% on {dates[-1]}\")\n",
        "\n",
        "if duplicate_trend[-1] > threshold_duplicates:\n",
        "    print(f\"[ALERT] Duplicate data exceeded {threshold_duplicates}% on {dates[-1]}\")"
      ],
      "metadata": {
        "id": "A7zIOKiJdvu5"
      },
      "execution_count": null,
      "outputs": []
    }
  ]
}