{
  "nbformat": 4,
  "nbformat_minor": 0,
  "metadata": {
    "colab": {
      "provenance": []
    },
    "kernelspec": {
      "name": "python3",
      "display_name": "Python 3"
    },
    "language_info": {
      "name": "python"
    }
  },
  "cells": [
    {
      "cell_type": "code",
      "source": [
        "import pandas as pd\n",
        "import numpy as np\n",
        "from datetime import datetime\n",
        "import re\n",
        "\n",
        "# Example patient data\n",
        "data = {\n",
        "    'Patient_ID': [101, 102, 103, 104, 105],\n",
        "    'Name': ['John Doe', 'Jane Smith', np.nan, 'Mary Johnson', 'James Brown'],\n",
        "    'Date_of_Birth': ['1985-06-15', '1990-02-28', '1987-11-21', 'not_available', '1982-12-03'],\n",
        "    'Email': ['john@example.com', 'jane.smith#example.com', 'mary.j@example', 'james@brown.com', ''],\n",
        "    'Phone_Number': ['123-456-7890', '234-567-8901', '345-678-9012', 'not_available', ''],\n",
        "    'Diagnosis': ['Flu', 'Cold', 'Covid-19', 'Asthma', 'Diabetes'],\n",
        "}\n",
        "\n",
        "# Convert to DataFrame\n",
        "df = pd.DataFrame(data)\n",
        "\n",
        "# Step 1: Handle Missing Data\n",
        "# Fill missing 'Name' with 'Unknown'\n",
        "df['Name'].fillna('Unknown', inplace=True)\n",
        "\n",
        "# Mark 'not_available' as NaN for 'Phone_Number' and fill NaN with 'No Contact'\n",
        "df['Phone_Number'].replace('not_available', np.nan, inplace=True)\n",
        "df['Phone_Number'].fillna('No Contact', inplace=True)\n",
        "\n",
        "# Step 2: Validate Date of Birth (DOB) Format\n",
        "def validate_dob(dob):\n",
        "    try:\n",
        "        # Try to parse the date in 'YYYY-MM-DD' format\n",
        "        return datetime.strptime(dob, '%Y-%m-%d')\n",
        "    except ValueError:\n",
        "        return np.nan  # Return NaN for invalid dates\n",
        "\n",
        "df['Date_of_Birth'] = df['Date_of_Birth'].apply(validate_dob)\n",
        "\n",
        "# Step 3: Validate Email Format\n",
        "def validate_email(email):\n",
        "    # Simple email validation using regex pattern\n",
        "    if re.match(r\"[^@]+@[^@]+\\.[^@]+\", email):\n",
        "        return email\n",
        "    else:\n",
        "        return np.nan  # Return NaN for invalid emails\n",
        "\n",
        "df['Email'] = df['Email'].apply(validate_email)\n",
        "\n",
        "# Step 4: Remove Duplicate Records\n",
        "df.drop_duplicates(subset=['Patient_ID'], keep='first', inplace=True)\n",
        "\n",
        "# Step 5: Validate Phone Numbers\n",
        "def validate_phone(phone):\n",
        "    if len(phone) == 12 and phone[3] == '-' and phone[7] == '-':  # Check phone format: XXX-XXX-XXXX\n",
        "        return phone\n",
        "    return 'Invalid Phone'  # Mark invalid phones with 'Invalid Phone'\n",
        "\n",
        "df['Phone_Number'] = df['Phone_Number'].apply(validate_phone)\n",
        "\n",
        "# Step 6: Handle Missing Diagnosis\n",
        "df['Diagnosis'].fillna('Unknown', inplace=True)  # Fill missing diagnoses with 'Unknown'\n",
        "\n",
        "# Display the cleaned data\n",
        "print(df)"
      ],
      "metadata": {
        "id": "XNKyY7_ufu95"
      },
      "execution_count": null,
      "outputs": []
    }
  ]
}