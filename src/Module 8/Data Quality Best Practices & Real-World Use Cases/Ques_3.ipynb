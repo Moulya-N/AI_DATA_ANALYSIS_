{
  "nbformat": 4,
  "nbformat_minor": 0,
  "metadata": {
    "colab": {
      "provenance": []
    },
    "kernelspec": {
      "name": "python3",
      "display_name": "Python 3"
    },
    "language_info": {
      "name": "python"
    }
  },
  "cells": [
    {
      "cell_type": "code",
      "source": [
        "import pandas as pd\n",
        "\n",
        "# Load data\n",
        "df = pd.read_csv('transactions.csv')\n",
        "\n",
        "# Drop duplicates\n",
        "df.drop_duplicates(subset='transaction_id', inplace=True)\n",
        "\n",
        "# Check for missing critical fields\n",
        "missing = df[df[['transaction_id', 'amount', 'date']].isnull().any(axis=1)]\n",
        "\n",
        "# Flag anomalies (example: large transactions)\n",
        "df['anomaly'] = df['amount'].apply(lambda x: 'Yes' if x > 10000 else 'No')\n",
        "\n",
        "# Output potential issues\n",
        "missing.to_csv('missing_transactions.csv')\n",
        "df[df['anomaly'] == 'Yes'].to_csv('anomalies.csv')"
      ],
      "metadata": {
        "id": "By_iHFD0e7M-"
      },
      "execution_count": null,
      "outputs": []
    }
  ]
}