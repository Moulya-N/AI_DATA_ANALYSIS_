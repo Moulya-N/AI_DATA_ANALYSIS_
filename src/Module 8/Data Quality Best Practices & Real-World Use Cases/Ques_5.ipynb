{
  "nbformat": 4,
  "nbformat_minor": 0,
  "metadata": {
    "colab": {
      "provenance": []
    },
    "kernelspec": {
      "name": "python3",
      "display_name": "Python 3"
    },
    "language_info": {
      "name": "python"
    }
  },
  "cells": [
    {
      "cell_type": "code",
      "source": [
        "# Importing necessary libraries\n",
        "import pandas as pd\n",
        "import numpy as np\n",
        "from sklearn.model_selection import train_test_split\n",
        "from sklearn.preprocessing import StandardScaler\n",
        "from sklearn.ensemble import RandomForestClassifier\n",
        "from sklearn.metrics import accuracy_score\n",
        "import seaborn as sns\n",
        "import matplotlib.pyplot as plt\n",
        "\n",
        "# Load the dataset\n",
        "# For example, we will use the 'Iris' dataset for illustration. Replace this with your own dataset.\n",
        "df = pd.read_csv('path_to_your_dataset.csv')\n",
        "\n",
        "# Show the first few rows of the dataset\n",
        "df.head()\n",
        "\n",
        "# Data Exploration\n",
        "print(\"Missing Values:\")\n",
        "print(df.isnull().sum())\n",
        "\n",
        "# 1. Handling missing values (Example: Imputation with mean for numerical columns)\n",
        "df.fillna(df.mean(), inplace=True)\n",
        "\n",
        "# 2. Remove duplicates\n",
        "df.drop_duplicates(inplace=True)\n",
        "\n",
        "# 3. Encoding categorical variables (if applicable)\n",
        "# Assuming 'category_column' is a categorical feature\n",
        "df['category_column'] = df['category_column'].astype('category').cat.codes\n",
        "\n",
        "# 4. Normalize/Scale numerical features\n",
        "scaler = StandardScaler()\n",
        "numerical_columns = df.select_dtypes(include=[np.number]).columns\n",
        "df[numerical_columns] = scaler.fit_transform(df[numerical_columns])\n",
        "\n",
        "# Split the data into features (X) and target (y)\n",
        "X = df.drop('target_column', axis=1)  # Replace 'target_column' with your actual target column name\n",
        "y = df['target_column']\n",
        "\n",
        "# Split the dataset into training and testing sets\n",
        "X_train, X_test, y_train, y_test = train_test_split(X, y, test_size=0.2, random_state=42)\n",
        "\n",
        "# Train a machine learning model (RandomForestClassifier as an example)\n",
        "model = RandomForestClassifier()\n",
        "model.fit(X_train, y_train)\n",
        "\n",
        "# Make predictions\n",
        "y_pred = model.predict(X_test)\n",
        "\n",
        "# Evaluate the model\n",
        "accuracy = accuracy_score(y_test"
      ],
      "metadata": {
        "id": "gIw1T1oOhAfh"
      },
      "execution_count": null,
      "outputs": []
    }
  ]
}