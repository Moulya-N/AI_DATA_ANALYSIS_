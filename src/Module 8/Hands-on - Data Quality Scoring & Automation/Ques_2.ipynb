{
  "nbformat": 4,
  "nbformat_minor": 0,
  "metadata": {
    "colab": {
      "provenance": []
    },
    "kernelspec": {
      "name": "python3",
      "display_name": "Python 3"
    },
    "language_info": {
      "name": "python"
    }
  },
  "cells": [
    {
      "cell_type": "code",
      "execution_count": null,
      "metadata": {
        "id": "IaIii34RPtsn"
      },
      "outputs": [],
      "source": [
        "import pandas as pd\n",
        "\n",
        "# Load dataset (change filename as needed)\n",
        "df = pd.read_csv('your_dataset.csv')  # Replace with the actual file name\n",
        "\n",
        "# COMPLETENESS: Proportion of non-null values\n",
        "completeness_score = df.notnull().sum().sum() / df.size\n",
        "\n",
        "# ACCURACY: Define rules for accuracy per column (adjust based on actual columns)\n",
        "accuracy_checks = []\n",
        "\n",
        "if 'age' in df.columns:\n",
        "    accuracy_checks.append(((df['age'] >= 0) & (df['age'] <= 120)).mean())\n",
        "\n",
        "if 'email' in df.columns:\n",
        "    accuracy_checks.append(df['email'].str.contains(r'^[^@]+@[^@]+\\.[^@]+$', na=False).mean())\n",
        "\n",
        "if accuracy_checks:\n",
        "    accuracy_score = sum(accuracy_checks) / len(accuracy_checks)\n",
        "else:\n",
        "    accuracy_score = 1.0  # Assume accurate if no rules applied\n",
        "\n",
        "# CONSISTENCY: Inverse of the duplicate rate\n",
        "duplicate_rate = df.duplicated().mean()\n",
        "consistency_score = 1 - duplicate_rate\n",
        "\n",
        "# Final Data Quality Score\n",
        "data_quality_score = round((completeness_score + accuracy_score + consistency_score) / 3, 2)\n",
        "\n",
        "# Print results\n",
        "print(f\"Completeness Score: {completeness_score:.2f}\")\n",
        "print(f\"Accuracy Score:     {accuracy_score:.2f}\")\n",
        "print(f\"Consistency Score:  {consistency_score:.2f}\")\n",
        "print(f\"Data Quality Score: {data_quality_score}\")"
      ]
    },
    {
      "cell_type": "code",
      "source": [],
      "metadata": {
        "id": "Ghmd_cCbPyyx"
      },
      "execution_count": null,
      "outputs": []
    }
  ]
}