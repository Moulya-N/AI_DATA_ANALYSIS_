{
  "nbformat": 4,
  "nbformat_minor": 0,
  "metadata": {
    "colab": {
      "provenance": []
    },
    "kernelspec": {
      "name": "python3",
      "display_name": "Python 3"
    },
    "language_info": {
      "name": "python"
    }
  },
  "cells": [
    {
      "cell_type": "code",
      "execution_count": null,
      "metadata": {
        "id": "fqP2DLkeajd0"
      },
      "outputs": [],
      "source": [
        "# Step 1: Install Great Expectations (only run once)\n",
        "!pip install great_expectations\n",
        "\n",
        "# Step 2: Initialize Great Expectations (only run once per project)\n",
        "!great_expectations init\n",
        "\n",
        "# Step 3: Import required libraries\n",
        "import pandas as pd\n",
        "import great_expectations as ge\n",
        "from great_expectations.render.renderer import ValidationResultsPageRenderer\n",
        "from great_expectations.render.view import DefaultJinjaPageView\n",
        "\n",
        "# Step 4: Load your dataset\n",
        "df = pd.read_csv(\"your_dataset.csv\")  # Replace with actual path\n",
        "\n",
        "# Step 5: Create a Great Expectations context and expectation suite\n",
        "context = ge.get_context()\n",
        "suite_name = \"data_quality_suite\"\n",
        "context.create_expectation_suite(suite_name=suite_name, overwrite_existing=True)\n",
        "\n",
        "# Step 6: Convert to GE DataFrame\n",
        "ge_df = ge.from_pandas(df)\n",
        "\n",
        "# Step 7: Add expectations (customize these for your dataset)\n",
        "ge_df.expect_column_to_exist(\"column_1\")\n",
        "ge_df.expect_column_values_to_not_be_null(\"column_1\")\n",
        "ge_df.expect_column_values_to_be_between(\"column_2\", min_value=0, max_value=100)\n",
        "ge_df.expect_column_values_to_be_in_set(\"column_3\", [\"A\", \"B\", \"C\"])\n",
        "\n",
        "# Step 8: Save the expectation suite\n",
        "ge_df.save_expectation_suite(suite_name=suite_name)\n",
        "\n",
        "# Step 9: Validate the data\n",
        "results = ge_df.validate(expectation_suite_name=suite_name)\n",
        "\n",
        "# Step 10: Generate validation report (HTML)\n",
        "document_model = ValidationResultsPageRenderer().render(results)\n",
        "html = DefaultJinjaPageView().render(document_model)\n",
        "with open(\"data_quality_report.html\", \"w\") as f:\n",
        "    f.write(html)\n",
        "\n",
        "print(\"Validation complete. Report saved as 'data_quality_report.html'.\")"
      ]
    }
  ]
}