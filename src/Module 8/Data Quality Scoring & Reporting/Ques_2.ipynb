{
  "nbformat": 4,
  "nbformat_minor": 0,
  "metadata": {
    "colab": {
      "provenance": []
    },
    "kernelspec": {
      "name": "python3",
      "display_name": "Python 3"
    },
    "language_info": {
      "name": "python"
    }
  },
  "cells": [
    {
      "cell_type": "code",
      "source": [
        "# QUes_1.ipynb - Data Quality Scoring & Reporting\n",
        "\n",
        "# Step 1: Import required libraries\n",
        "import pandas as pd\n",
        "import matplotlib.pyplot as plt\n",
        "\n",
        "# Step 2: Load CSV Data\n",
        "# Replace with your actual file path if needed\n",
        "file_path = 'your_file.csv'  # Example: 'data/sample.csv'\n",
        "df = pd.read_csv(file_path)\n",
        "\n",
        "# Display first few rows\n",
        "df.head()\n",
        "# Step 3: Calculate Data Quality Metrics\n",
        "\n",
        "# 1. Completeness: proportion of non-null values\n",
        "completeness = df.notnull().mean()\n",
        "\n",
        "# 2. Uniqueness: proportion of unique values\n",
        "uniqueness = df.nunique() / len(df)\n",
        "\n",
        "# 3. Consistency: (optional, domain-specific - here we simulate perfect consistency)\n",
        "# For simplicity, assuming all consistent (1.0)\n",
        "consistency = pd.Series(1.0, index=df.columns)\n",
        "\n",
        "# Combine into a DataFrame\n",
        "dqi_components = pd.DataFrame({\n",
        "    'Completeness': completeness,\n",
        "    'Uniqueness': uniqueness,\n",
        "    'Consistency': consistency\n",
        "})\n",
        "\n",
        "# Calculate DQI per column (average of metrics)\n",
        "dqi_components['DQI'] = dqi_components.mean(axis=1)\n",
        "\n",
        "# Overall DQI score\n",
        "overall_dqi = dqi_components['DQI'].mean()\n",
        "\n",
        "print(f\"Overall Data Quality Index (DQI): {overall_dqi:.2f}\")\n",
        "dqi_components\n",
        "# Step 4: Visualize DQI Components\n",
        "\n",
        "# Plot Completeness, Uniqueness, and DQI\n",
        "dqi_components[['Completeness', 'Uniqueness', 'DQI']].plot(kind='bar', figsize=(12, 6))\n",
        "plt.title('Data Quality Metrics per Column')\n",
        "plt.ylabel('Score (0 to 1)')\n",
        "plt.xlabel('Columns')\n",
        "plt.ylim(0, 1)\n",
        "plt.xticks(rotation=45, ha='right')\n",
        "plt.grid(axis='y')\n",
        "plt.tight_layout()\n",
        "plt.show()"
      ],
      "metadata": {
        "id": "jL_o265qPHjP"
      },
      "execution_count": null,
      "outputs": []
    }
  ]
}